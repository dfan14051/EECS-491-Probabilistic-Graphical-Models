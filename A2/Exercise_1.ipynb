{
 "cells": [
  {
   "cell_type": "markdown",
   "metadata": {},
   "source": [
    "# EECS 491: Probabilistic Graphical Models Assignment 1\n",
    "**David Fan**\n",
    "\n",
    "2/28/18\n",
    "\n",
    "# Exercise 1"
   ]
  },
  {
   "cell_type": "markdown",
   "metadata": {},
   "source": [
    "## Problem Setup"
   ]
  },
  {
   "cell_type": "markdown",
   "metadata": {},
   "source": [
    "Let us say that we are interested in being able to determine whether or not I will be late for class ($L$) and whether a classmate will be late for class ($C$). Whether or not I will be late for class is effected by two things:\n",
    "* If I oversleep ($O$)\n",
    "* If the bus is late ($B$)\n",
    "\n",
    "The bus being late also impacts whether or not a classmate will be late for class. Whether or not I oversleep is effected by whether or not my alarm goes off ($A$).\n",
    "\n",
    "From experience I have a prior belief that my alarm will go off with probability .96. I have a prior belief that given that my alarm goes off, I will oversleep with probability .08, and if my alarm doesn't go off, I will oversleep with probability .98. I also have a prior belief that my oversleeping does not have any effect on whether my classmate is late for class.\n",
    "\n",
    "Also from my experience, I have a prior belief that the bus will be late ($B$) with probability .2. I estimate that if the bus is late and I oversleep, I will be late with probability .96. If the bus is late and I don't oversleep, I will be late with probability .78. If the bus isn't late and I oversleep, I'll be late with probability .8. If the bus isn't late and I don't oversleep, I'll be late with probability .03. If the bus is late, I estimate that my classmate will be late with probability .8. If the bus isn't late, I estimate that my classmate will be late with probability .1 These probabilities are summarized in the tables below:\n",
    "\n",
    "$$\n",
    "\\begin{align}\n",
    "P(A) & = 0.96\\\\\n",
    "P(B) & = .2\n",
    "\\end{align}\n",
    "$$\n",
    "\n",
    "|           | A = false | A = true |\n",
    "| :--------- | -------------------- | ------------------- |\n",
    "| O = false | 0.02 | 0.92 |\n",
    "| O = true  | 0.98 | 0.08 |\n",
    "\n",
    "|           | B = false, O = false | B = false, O = true | B = true, O = false | B = true, O = true |\n",
    "| :--------- | -------------------- | ------------------- | ------------------- | ------------------ |\n",
    "| L = false | 0.97 | 0.2 | 0.22 | 0.04 |\n",
    "| L = true  | 0.03 | 0.8 | 0.78 | 0.96 |\n",
    "\n",
    "|           | B = false | B = true |\n",
    "| :--------- | -------------------- | ------------------- |\n",
    "| C = false | 0.9 | 0.2 |\n",
    "| C = true  | 0.1 | 0.8 |"
   ]
  },
  {
   "cell_type": "markdown",
   "metadata": {},
   "source": [
    "The model can be presented in the following graph:\n",
    "<center>\n",
    "<img src=\"imgs/ex1_diagram.jpeg\" width='40%'/>\n",
    "</center>"
   ]
  },
  {
   "cell_type": "markdown",
   "metadata": {},
   "source": [
    "If I am late to class and my classmate isn't, what is the probability that my alarm went off?"
   ]
  },
  {
   "cell_type": "markdown",
   "metadata": {},
   "source": [
    "## Programatic Model Setup"
   ]
  },
  {
   "cell_type": "code",
   "execution_count": 2,
   "metadata": {},
   "outputs": [],
   "source": [
    "from pgmpy.models import BayesianModel as bysmodel\n",
    "from pgmpy.factors.discrete import TabularCPD as tcpd"
   ]
  },
  {
   "cell_type": "code",
   "execution_count": 3,
   "metadata": {},
   "outputs": [],
   "source": [
    "model = bysmodel([['A','O'],['O','L'],['B','L'],['B','C']])"
   ]
  },
  {
   "cell_type": "code",
   "execution_count": 4,
   "metadata": {},
   "outputs": [],
   "source": [
    "priorA = tcpd(variable='A', variable_card=2, values=[[0.04, 0.96]])\n",
    "priorB = tcpd(variable='B', variable_card=2, values=[[.8,.2]])"
   ]
  },
  {
   "cell_type": "code",
   "execution_count": 5,
   "metadata": {},
   "outputs": [],
   "source": [
    "cpdO = tcpd(variable='O', variable_card=2, \n",
    "            evidence=['A'], evidence_card=[2],\n",
    "            values=[[0.02, 0.92], \n",
    "                    [0.98, 0.08]]\n",
    "           )\n",
    "cpdL = tcpd(variable='L', variable_card=2,\n",
    "            evidence=['O', 'B'], evidence_card=[2,2],\n",
    "            values=[[.97, .2, .22, .04],\n",
    "                    [.03, .8, .78, .96]]\n",
    "           )\n",
    "cpdC = tcpd(variable='C', variable_card=2,\n",
    "            evidence=['B'], evidence_card=[2],\n",
    "            values=[[.9, .2],\n",
    "                    [.1, .8]])"
   ]
  },
  {
   "cell_type": "code",
   "execution_count": 6,
   "metadata": {},
   "outputs": [],
   "source": [
    "model.add_cpds(priorA, priorB, cpdO, cpdL, cpdC)"
   ]
  },
  {
   "cell_type": "markdown",
   "metadata": {},
   "source": [
    "Now we can check if our model is valid:"
   ]
  },
  {
   "cell_type": "code",
   "execution_count": 7,
   "metadata": {},
   "outputs": [
    {
     "data": {
      "text/plain": [
       "True"
      ]
     },
     "execution_count": 7,
     "metadata": {},
     "output_type": "execute_result"
    }
   ],
   "source": [
    "model.check_model()"
   ]
  },
  {
   "cell_type": "markdown",
   "metadata": {},
   "source": [
    "Our model is now set up in pgmpy. We can check the conditional probabilities of each variable to confirm that our model matches the setup of the problem."
   ]
  },
  {
   "cell_type": "code",
   "execution_count": 9,
   "metadata": {},
   "outputs": [
    {
     "name": "stdout",
     "output_type": "stream",
     "text": [
      "╒═════╤══════╤══════╕\n",
      "│ A   │ A_0  │ A_1  │\n",
      "├─────┼──────┼──────┤\n",
      "│ O_0 │ 0.02 │ 0.92 │\n",
      "├─────┼──────┼──────┤\n",
      "│ O_1 │ 0.98 │ 0.08 │\n",
      "╘═════╧══════╧══════╛\n",
      "╒═════╤══════╤═════╤══════╤══════╕\n",
      "│ O   │ O_0  │ O_0 │ O_1  │ O_1  │\n",
      "├─────┼──────┼─────┼──────┼──────┤\n",
      "│ B   │ B_0  │ B_1 │ B_0  │ B_1  │\n",
      "├─────┼──────┼─────┼──────┼──────┤\n",
      "│ L_0 │ 0.97 │ 0.2 │ 0.22 │ 0.04 │\n",
      "├─────┼──────┼─────┼──────┼──────┤\n",
      "│ L_1 │ 0.03 │ 0.8 │ 0.78 │ 0.96 │\n",
      "╘═════╧══════╧═════╧══════╧══════╛\n",
      "╒═════╤═════╤═════╕\n",
      "│ B   │ B_0 │ B_1 │\n",
      "├─────┼─────┼─────┤\n",
      "│ C_0 │ 0.9 │ 0.2 │\n",
      "├─────┼─────┼─────┤\n",
      "│ C_1 │ 0.1 │ 0.8 │\n",
      "╘═════╧═════╧═════╛\n"
     ]
    }
   ],
   "source": [
    "print(model.get_cpds('O'))\n",
    "print(model.get_cpds('L'))\n",
    "print(model.get_cpds('C'))"
   ]
  },
  {
   "cell_type": "markdown",
   "metadata": {},
   "source": [
    "## Bayesian Inference\n",
    "\n",
    "In the problem we are trying to solve the joint probability can be found as follows:\n",
    "$$\n",
    "\\begin{align}\n",
    "P(x_1,...,x_n) &\\equiv P(X_1=x_1 \\land ... \\land X_n = x_n) \\\\\n",
    "               & = \\prod_{i=1}^n P(x_i \\; |\\; parents(X_i) ) \\\\\n",
    "P(A,O,B,L,C)   & = P(A)P(B)P(O \\; | \\; A)P(L\\; |\\; O,B)P(C\\; |\\; B) \n",
    "\\end{align}\n",
    "$$\n",
    "\n",
    "Now let us try to find the conditional probability for $A$ given $L$ and $\\bar{C}$ and utilize variable elimination to reduce the computation time from exponential to polynomial.\n",
    "\n",
    "First let's eliminate our evidence variables. Let us define a function for evidence potential:\n",
    "\n",
    "$$\n",
    "\\delta(E_i,e_i) = \\left\\{\n",
    "                    \\begin{array}{ll}\n",
    "                        1 & \\quad if E_i=e_i \\\\\n",
    "                        0 & \\quad if E_i \\neq e_i\n",
    "                    \\end{array}\n",
    "                 \\right.\n",
    "$$\n",
    "\n",
    "Now let us begin by conditioning on variable $C$ as we know it will take the value of $\\bar{c}$:\n",
    "\n",
    "$$\n",
    "m_{C}(B) = \\sum_{C}P(C\\; |\\; B)\\delta(C,\\bar{c})\n",
    "$$\n",
    "\n",
    "So from,\n",
    "\n",
    "$$\n",
    "P(A)P(B)P(O \\; | \\; A)P(L\\; |\\; O,B)P(C\\; |\\; B)\n",
    "$$\n",
    "\n",
    "we reduce to,\n",
    "\n",
    "$$\n",
    "P(A)P(B)P(O \\; | \\; A)P(L\\; |\\; O,B)m_{C}(B)\n",
    "$$\n",
    "\n",
    "\n",
    "Now let us condition on variable $L$ as we know it will take the value of $l$:\n",
    "\n",
    "$$\n",
    "m_{L}(O,B) = \\sum_L P(L\\; |\\; O,B)\\delta(L, l)\n",
    "$$\n",
    "\n",
    "so we reduce to,\n",
    "\n",
    "$$\n",
    "P(A)P(B)P(O \\; | \\; A)m_{L}(O,B)m_{C}(B)\n",
    "$$\n",
    "\n",
    "\n",
    "Now let us attempt to eliminate the variable $B$:\n",
    "\n",
    "$$\n",
    "m_B(O) = \\sum_{B}P(B)m_L(O,B)m_C(B)\n",
    "$$\n",
    "\n",
    "so we reduce to,\n",
    "\n",
    "$$\n",
    "P(A)P(O \\; | \\; A)m_B(O)\n",
    "$$\n",
    "\n",
    "Now finally, let us attempt to eliminate the variable $O$:\n",
    "\n",
    "$$\n",
    "m_O(A) = sum_O P(O \\; | \\; A)m_B(O)\n",
    "$$\n",
    "\n",
    "so we reduce to,\n",
    "\n",
    "$$\n",
    "P(A)m_O(A)\n",
    "$$\n",
    "\n",
    "Now we must normalize this:\n",
    "$$\n",
    "P(A\\; |\\; L,\\bar{C}) = \\frac{P(A)m_O(A)}{\\sum_AP(A)m_O(A)}\n",
    "$$\n",
    "\n",
    "Let us compute an approximate value for $P(A\\; |\\; L,\\bar{C})$ using our simplified equation:"
   ]
  },
  {
   "cell_type": "code",
   "execution_count": null,
   "metadata": {},
   "outputs": [],
   "source": []
  },
  {
   "cell_type": "markdown",
   "metadata": {},
   "source": [
    "We can use pgmpy to compute the conditional probability $P(A\\; |\\; L,\\bar{C})$ to check our results:"
   ]
  },
  {
   "cell_type": "code",
   "execution_count": 11,
   "metadata": {},
   "outputs": [],
   "source": [
    "from pgmpy.inference import VariableElimination as proc"
   ]
  },
  {
   "cell_type": "code",
   "execution_count": 12,
   "metadata": {},
   "outputs": [
    {
     "name": "stdout",
     "output_type": "stream",
     "text": [
      "╒═════╤══════════╕\n",
      "│ A   │   phi(A) │\n",
      "╞═════╪══════════╡\n",
      "│ A_0 │   0.2014 │\n",
      "├─────┼──────────┤\n",
      "│ A_1 │   0.7986 │\n",
      "╘═════╧══════════╛\n"
     ]
    }
   ],
   "source": [
    "infer = proc(model)\n",
    "print(infer.query(['A'], evidence={'L' : 1, 'C' : 0})['A'])"
   ]
  }
 ],
 "metadata": {
  "kernelspec": {
   "display_name": "Python 3",
   "language": "python",
   "name": "python3"
  },
  "language_info": {
   "codemirror_mode": {
    "name": "ipython",
    "version": 3
   },
   "file_extension": ".py",
   "mimetype": "text/x-python",
   "name": "python",
   "nbconvert_exporter": "python",
   "pygments_lexer": "ipython3",
   "version": "3.6.4"
  }
 },
 "nbformat": 4,
 "nbformat_minor": 2
}
