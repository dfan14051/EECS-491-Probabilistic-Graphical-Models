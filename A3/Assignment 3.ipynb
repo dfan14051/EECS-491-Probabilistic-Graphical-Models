{
 "cells": [
  {
   "cell_type": "markdown",
   "metadata": {},
   "source": [
    "# EECS 491: Probabilistic Graphical Models Assignment 3\n",
    "**David Fan**\n",
    "\n",
    "3/28/18"
   ]
  },
  {
   "cell_type": "markdown",
   "metadata": {},
   "source": [
    "## Problem Description\n",
    "In this notebook I will attempt to create a larger graphical model (expanding on techniques used in the previous assignments) to model a specific domain. Using a dataset found on Kaggle, we will attempt to model the recruitment industry in India using a graphical model. In particular we will be exploring the effect of different factors on interview attendance."
   ]
  },
  {
   "cell_type": "markdown",
   "metadata": {},
   "source": [
    "## Dataset\n",
    "For this problem, we will explore a dataset found [here](https://www.kaggle.com/vishnusraghavan/the-interview-attendance-problem/data). The author of the dataset describes the context of the dataset as follows:\n",
    "\n",
    ">The data pertains to the recruitment industry in India for the years 2014-2016 and deals with candidate interview attendance for various clients ...\n",
    "\n",
    ">The data have been collected by me and my fellow researchers over a period of over 2 years between September 2014 and January 2017.\n",
    "\n",
    ">There are a set of questions that are asked by a recruiter while scheduling the candidate. The answers to these determine whether expected attendance is yes, no or uncertain.\n",
    "\n"
   ]
  },
  {
   "cell_type": "code",
   "execution_count": 170,
   "metadata": {},
   "outputs": [],
   "source": [
    "# Imported Packages\n",
    "import pandas as pd\n",
    "import numpy as np\n",
    "from dateutil import parser"
   ]
  },
  {
   "cell_type": "code",
   "execution_count": 171,
   "metadata": {},
   "outputs": [],
   "source": [
    "# Load dataset as a dataframe using pandas\n",
    "data = pd.read_csv('Interview.csv')"
   ]
  },
  {
   "cell_type": "markdown",
   "metadata": {},
   "source": [
    "Let's take a quick look around the dataset so we can see what we're working with:"
   ]
  },
  {
   "cell_type": "code",
   "execution_count": 172,
   "metadata": {},
   "outputs": [
    {
     "data": {
      "text/html": [
       "<div>\n",
       "<table border=\"1\" class=\"dataframe\">\n",
       "  <thead>\n",
       "    <tr style=\"text-align: right;\">\n",
       "      <th></th>\n",
       "      <th>Date of Interview</th>\n",
       "      <th>Client name</th>\n",
       "      <th>Industry</th>\n",
       "      <th>Location</th>\n",
       "      <th>Position to be closed</th>\n",
       "      <th>Nature of Skillset</th>\n",
       "      <th>Interview Type</th>\n",
       "      <th>Name(Cand ID)</th>\n",
       "      <th>Gender</th>\n",
       "      <th>Candidate Current Location</th>\n",
       "      <th>...</th>\n",
       "      <th>Are you clear with the venue details and the landmark.</th>\n",
       "      <th>Has the call letter been shared</th>\n",
       "      <th>Expected Attendance</th>\n",
       "      <th>Observed Attendance</th>\n",
       "      <th>Marital Status</th>\n",
       "      <th>Unnamed: 23</th>\n",
       "      <th>Unnamed: 24</th>\n",
       "      <th>Unnamed: 25</th>\n",
       "      <th>Unnamed: 26</th>\n",
       "      <th>Unnamed: 27</th>\n",
       "    </tr>\n",
       "  </thead>\n",
       "  <tbody>\n",
       "    <tr>\n",
       "      <th>0</th>\n",
       "      <td>13.02.2015</td>\n",
       "      <td>Hospira</td>\n",
       "      <td>Pharmaceuticals</td>\n",
       "      <td>Chennai</td>\n",
       "      <td>Production- Sterile</td>\n",
       "      <td>Routine</td>\n",
       "      <td>Scheduled Walkin</td>\n",
       "      <td>Candidate 1</td>\n",
       "      <td>Male</td>\n",
       "      <td>Chennai</td>\n",
       "      <td>...</td>\n",
       "      <td>Yes</td>\n",
       "      <td>Yes</td>\n",
       "      <td>Yes</td>\n",
       "      <td>No</td>\n",
       "      <td>Single</td>\n",
       "      <td>NaN</td>\n",
       "      <td>NaN</td>\n",
       "      <td>NaN</td>\n",
       "      <td>NaN</td>\n",
       "      <td>NaN</td>\n",
       "    </tr>\n",
       "    <tr>\n",
       "      <th>1</th>\n",
       "      <td>13.02.2015</td>\n",
       "      <td>Hospira</td>\n",
       "      <td>Pharmaceuticals</td>\n",
       "      <td>Chennai</td>\n",
       "      <td>Production- Sterile</td>\n",
       "      <td>Routine</td>\n",
       "      <td>Scheduled Walkin</td>\n",
       "      <td>Candidate 2</td>\n",
       "      <td>Male</td>\n",
       "      <td>Chennai</td>\n",
       "      <td>...</td>\n",
       "      <td>Yes</td>\n",
       "      <td>Yes</td>\n",
       "      <td>Yes</td>\n",
       "      <td>No</td>\n",
       "      <td>Single</td>\n",
       "      <td>NaN</td>\n",
       "      <td>NaN</td>\n",
       "      <td>NaN</td>\n",
       "      <td>NaN</td>\n",
       "      <td>NaN</td>\n",
       "    </tr>\n",
       "    <tr>\n",
       "      <th>2</th>\n",
       "      <td>13.02.2015</td>\n",
       "      <td>Hospira</td>\n",
       "      <td>Pharmaceuticals</td>\n",
       "      <td>Chennai</td>\n",
       "      <td>Production- Sterile</td>\n",
       "      <td>Routine</td>\n",
       "      <td>Scheduled Walkin</td>\n",
       "      <td>Candidate 3</td>\n",
       "      <td>Male</td>\n",
       "      <td>Chennai</td>\n",
       "      <td>...</td>\n",
       "      <td>NaN</td>\n",
       "      <td>NaN</td>\n",
       "      <td>Uncertain</td>\n",
       "      <td>No</td>\n",
       "      <td>Single</td>\n",
       "      <td>NaN</td>\n",
       "      <td>NaN</td>\n",
       "      <td>NaN</td>\n",
       "      <td>NaN</td>\n",
       "      <td>NaN</td>\n",
       "    </tr>\n",
       "    <tr>\n",
       "      <th>3</th>\n",
       "      <td>13.02.2015</td>\n",
       "      <td>Hospira</td>\n",
       "      <td>Pharmaceuticals</td>\n",
       "      <td>Chennai</td>\n",
       "      <td>Production- Sterile</td>\n",
       "      <td>Routine</td>\n",
       "      <td>Scheduled Walkin</td>\n",
       "      <td>Candidate 4</td>\n",
       "      <td>Male</td>\n",
       "      <td>Chennai</td>\n",
       "      <td>...</td>\n",
       "      <td>Yes</td>\n",
       "      <td>Yes</td>\n",
       "      <td>Uncertain</td>\n",
       "      <td>No</td>\n",
       "      <td>Single</td>\n",
       "      <td>NaN</td>\n",
       "      <td>NaN</td>\n",
       "      <td>NaN</td>\n",
       "      <td>NaN</td>\n",
       "      <td>NaN</td>\n",
       "    </tr>\n",
       "    <tr>\n",
       "      <th>4</th>\n",
       "      <td>13.02.2015</td>\n",
       "      <td>Hospira</td>\n",
       "      <td>Pharmaceuticals</td>\n",
       "      <td>Chennai</td>\n",
       "      <td>Production- Sterile</td>\n",
       "      <td>Routine</td>\n",
       "      <td>Scheduled Walkin</td>\n",
       "      <td>Candidate 5</td>\n",
       "      <td>Male</td>\n",
       "      <td>Chennai</td>\n",
       "      <td>...</td>\n",
       "      <td>Yes</td>\n",
       "      <td>Yes</td>\n",
       "      <td>Uncertain</td>\n",
       "      <td>No</td>\n",
       "      <td>Married</td>\n",
       "      <td>NaN</td>\n",
       "      <td>NaN</td>\n",
       "      <td>NaN</td>\n",
       "      <td>NaN</td>\n",
       "      <td>NaN</td>\n",
       "    </tr>\n",
       "  </tbody>\n",
       "</table>\n",
       "<p>5 rows × 28 columns</p>\n",
       "</div>"
      ],
      "text/plain": [
       "  Date of Interview Client name         Industry Location  \\\n",
       "0        13.02.2015     Hospira  Pharmaceuticals  Chennai   \n",
       "1        13.02.2015     Hospira  Pharmaceuticals  Chennai   \n",
       "2        13.02.2015     Hospira  Pharmaceuticals  Chennai   \n",
       "3        13.02.2015     Hospira  Pharmaceuticals  Chennai   \n",
       "4        13.02.2015     Hospira  Pharmaceuticals  Chennai   \n",
       "\n",
       "  Position to be closed Nature of Skillset    Interview Type Name(Cand ID)  \\\n",
       "0   Production- Sterile            Routine  Scheduled Walkin   Candidate 1   \n",
       "1   Production- Sterile            Routine  Scheduled Walkin   Candidate 2   \n",
       "2   Production- Sterile            Routine  Scheduled Walkin   Candidate 3   \n",
       "3   Production- Sterile            Routine  Scheduled Walkin   Candidate 4   \n",
       "4   Production- Sterile            Routine  Scheduled Walkin   Candidate 5   \n",
       "\n",
       "  Gender Candidate Current Location     ...      \\\n",
       "0   Male                    Chennai     ...       \n",
       "1   Male                    Chennai     ...       \n",
       "2   Male                    Chennai     ...       \n",
       "3   Male                    Chennai     ...       \n",
       "4   Male                    Chennai     ...       \n",
       "\n",
       "  Are you clear with the venue details and the landmark.  \\\n",
       "0                                                Yes       \n",
       "1                                                Yes       \n",
       "2                                                NaN       \n",
       "3                                                Yes       \n",
       "4                                                Yes       \n",
       "\n",
       "  Has the call letter been shared Expected Attendance Observed Attendance  \\\n",
       "0                             Yes                 Yes                  No   \n",
       "1                             Yes                 Yes                  No   \n",
       "2                             NaN           Uncertain                  No   \n",
       "3                             Yes           Uncertain                  No   \n",
       "4                             Yes           Uncertain                  No   \n",
       "\n",
       "  Marital Status Unnamed: 23 Unnamed: 24 Unnamed: 25 Unnamed: 26 Unnamed: 27  \n",
       "0         Single         NaN         NaN         NaN         NaN         NaN  \n",
       "1         Single         NaN         NaN         NaN         NaN         NaN  \n",
       "2         Single         NaN         NaN         NaN         NaN         NaN  \n",
       "3         Single         NaN         NaN         NaN         NaN         NaN  \n",
       "4        Married         NaN         NaN         NaN         NaN         NaN  \n",
       "\n",
       "[5 rows x 28 columns]"
      ]
     },
     "execution_count": 172,
     "metadata": {},
     "output_type": "execute_result"
    }
   ],
   "source": [
    "data.head()"
   ]
  },
  {
   "cell_type": "markdown",
   "metadata": {},
   "source": [
    "Here we can see the different variables contained within the dataset. Of particular interest are:\n",
    "* **Date of interview:** This will be broken down into a month variable and a day of the week variable to explore if time of the year or day of the week has any effect on interview attendance.\n",
    "* **Industry:** To see if particular industries are more attractive than others resulting in a higher interview attendance rate.\n",
    "* **Location:** This appears to be candidate location. This value is equivalient to the variable 'Candidate Current Location'. Candidate location might have some effect on a candidate's ability to show up to an interview.\n",
    "* **Position to be closed:** The type of job the candidate is interviewing for.\n",
    "* **Nature of skillset:** The skills the candidate has (or claims to have).\n",
    "* **Interview Type:** Walkins/ Scheduled/ Scheduled walkins\n",
    "* **Gender**\n",
    "* **Candidate Job Location:** The location for the interview. \n",
    "* **Expected Attendance**\n",
    "* **Observed Attendance**\n",
    "* **Marital Status**"
   ]
  },
  {
   "cell_type": "markdown",
   "metadata": {},
   "source": [
    "### Formatting\n",
    "Let's trim down the dataset to just what we need."
   ]
  },
  {
   "cell_type": "code",
   "execution_count": 173,
   "metadata": {},
   "outputs": [],
   "source": [
    "data = data.dropna(axis=0, thresh=2)"
   ]
  },
  {
   "cell_type": "code",
   "execution_count": 174,
   "metadata": {},
   "outputs": [],
   "source": [
    "# Standardize Datestring format for parser\n",
    "for i in range(data[\"Date of Interview\"].shape[0]):\n",
    "    data.iloc[i,0] = data.iloc[i,0].replace(\" -\",\"-\")\n",
    "    data.iloc[i,0] = data.iloc[i,0].replace(\"–\",\"-\")\n",
    "    if data.iloc[i,0].find('&') is not -1:\n",
    "        data.iloc[i,0] = data.iloc[i,0][:data.iloc[i,0].find('&')]"
   ]
  },
  {
   "cell_type": "code",
   "execution_count": 175,
   "metadata": {},
   "outputs": [],
   "source": [
    "data.loc[:,\"Date of Interview\"] = data.loc[:, \"Date of Interview\"].apply(parser.parse)"
   ]
  },
  {
   "cell_type": "code",
   "execution_count": 176,
   "metadata": {},
   "outputs": [],
   "source": [
    "to_trimmed = {\n",
    "    \"Month\": data.loc[:,\"Date of Interview\"].apply(lambda x: x.month),\n",
    "    \"Day of the Week\": data.loc[:,\"Date of Interview\"].apply(lambda x: x.weekday()),\n",
    "    \"Industry\": data.loc[:, \"Industry\"],\n",
    "    \"Location\": data.loc[:, \"Location\"],\n",
    "    \"Position to be closed\": data.loc[:, \"Position to be closed\"],\n",
    "    \"Nature of Skillset\": data.loc[:, \"Nature of Skillset\"],\n",
    "    \"Interview Type\": data.loc[:, \"Interview Type\"],\n",
    "    \"Gender\": data.loc[:, \"Gender\"],\n",
    "    \"Candidate Job Location\": data.loc[:, \"Candidate Job Location\"],\n",
    "    \"Expected Attendance\": data.loc[:, \"Expected Attendance\"],\n",
    "    \"Observed Attendance\": data.loc[:, \"Observed Attendance\"],\n",
    "    \"Marital Status\": data.loc[:, \"Marital Status\"]\n",
    "}\n",
    "trimmed = pd.DataFrame(to_trimmed)"
   ]
  },
  {
   "cell_type": "code",
   "execution_count": 177,
   "metadata": {},
   "outputs": [],
   "source": [
    "trimmed = trimmed.dropna(axis=0, how=\"any\")"
   ]
  },
  {
   "cell_type": "code",
   "execution_count": 178,
   "metadata": {},
   "outputs": [
    {
     "data": {
      "text/html": [
       "<div>\n",
       "<table border=\"1\" class=\"dataframe\">\n",
       "  <thead>\n",
       "    <tr style=\"text-align: right;\">\n",
       "      <th></th>\n",
       "      <th>Candidate Job Location</th>\n",
       "      <th>Day of the Week</th>\n",
       "      <th>Expected Attendance</th>\n",
       "      <th>Gender</th>\n",
       "      <th>Industry</th>\n",
       "      <th>Interview Type</th>\n",
       "      <th>Location</th>\n",
       "      <th>Marital Status</th>\n",
       "      <th>Month</th>\n",
       "      <th>Nature of Skillset</th>\n",
       "      <th>Observed Attendance</th>\n",
       "      <th>Position to be closed</th>\n",
       "    </tr>\n",
       "  </thead>\n",
       "  <tbody>\n",
       "    <tr>\n",
       "      <th>0</th>\n",
       "      <td>Hosur</td>\n",
       "      <td>4</td>\n",
       "      <td>Yes</td>\n",
       "      <td>Male</td>\n",
       "      <td>Pharmaceuticals</td>\n",
       "      <td>Scheduled Walkin</td>\n",
       "      <td>Chennai</td>\n",
       "      <td>Single</td>\n",
       "      <td>2</td>\n",
       "      <td>Routine</td>\n",
       "      <td>No</td>\n",
       "      <td>Production- Sterile</td>\n",
       "    </tr>\n",
       "    <tr>\n",
       "      <th>1</th>\n",
       "      <td>Bangalore</td>\n",
       "      <td>4</td>\n",
       "      <td>Yes</td>\n",
       "      <td>Male</td>\n",
       "      <td>Pharmaceuticals</td>\n",
       "      <td>Scheduled Walkin</td>\n",
       "      <td>Chennai</td>\n",
       "      <td>Single</td>\n",
       "      <td>2</td>\n",
       "      <td>Routine</td>\n",
       "      <td>No</td>\n",
       "      <td>Production- Sterile</td>\n",
       "    </tr>\n",
       "    <tr>\n",
       "      <th>2</th>\n",
       "      <td>Chennai</td>\n",
       "      <td>4</td>\n",
       "      <td>Uncertain</td>\n",
       "      <td>Male</td>\n",
       "      <td>Pharmaceuticals</td>\n",
       "      <td>Scheduled Walkin</td>\n",
       "      <td>Chennai</td>\n",
       "      <td>Single</td>\n",
       "      <td>2</td>\n",
       "      <td>Routine</td>\n",
       "      <td>No</td>\n",
       "      <td>Production- Sterile</td>\n",
       "    </tr>\n",
       "    <tr>\n",
       "      <th>3</th>\n",
       "      <td>Chennai</td>\n",
       "      <td>4</td>\n",
       "      <td>Uncertain</td>\n",
       "      <td>Male</td>\n",
       "      <td>Pharmaceuticals</td>\n",
       "      <td>Scheduled Walkin</td>\n",
       "      <td>Chennai</td>\n",
       "      <td>Single</td>\n",
       "      <td>2</td>\n",
       "      <td>Routine</td>\n",
       "      <td>No</td>\n",
       "      <td>Production- Sterile</td>\n",
       "    </tr>\n",
       "    <tr>\n",
       "      <th>4</th>\n",
       "      <td>Bangalore</td>\n",
       "      <td>4</td>\n",
       "      <td>Uncertain</td>\n",
       "      <td>Male</td>\n",
       "      <td>Pharmaceuticals</td>\n",
       "      <td>Scheduled Walkin</td>\n",
       "      <td>Chennai</td>\n",
       "      <td>Married</td>\n",
       "      <td>2</td>\n",
       "      <td>Routine</td>\n",
       "      <td>No</td>\n",
       "      <td>Production- Sterile</td>\n",
       "    </tr>\n",
       "  </tbody>\n",
       "</table>\n",
       "</div>"
      ],
      "text/plain": [
       "  Candidate Job Location  Day of the Week Expected Attendance Gender  \\\n",
       "0                  Hosur                4                 Yes   Male   \n",
       "1              Bangalore                4                 Yes   Male   \n",
       "2                Chennai                4           Uncertain   Male   \n",
       "3                Chennai                4           Uncertain   Male   \n",
       "4              Bangalore                4           Uncertain   Male   \n",
       "\n",
       "          Industry    Interview Type Location Marital Status  Month  \\\n",
       "0  Pharmaceuticals  Scheduled Walkin  Chennai         Single      2   \n",
       "1  Pharmaceuticals  Scheduled Walkin  Chennai         Single      2   \n",
       "2  Pharmaceuticals  Scheduled Walkin  Chennai         Single      2   \n",
       "3  Pharmaceuticals  Scheduled Walkin  Chennai         Single      2   \n",
       "4  Pharmaceuticals  Scheduled Walkin  Chennai        Married      2   \n",
       "\n",
       "  Nature of Skillset Observed Attendance Position to be closed  \n",
       "0            Routine                  No   Production- Sterile  \n",
       "1            Routine                  No   Production- Sterile  \n",
       "2            Routine                  No   Production- Sterile  \n",
       "3            Routine                  No   Production- Sterile  \n",
       "4            Routine                  No   Production- Sterile  "
      ]
     },
     "execution_count": 178,
     "metadata": {},
     "output_type": "execute_result"
    }
   ],
   "source": [
    "trimmed.head()"
   ]
  },
  {
   "cell_type": "markdown",
   "metadata": {},
   "source": [
    "We now have a trimmed down version of our dataset with only the variables of interest. Let's now define our model.\n",
    "\n",
    "## Model Definition\n",
    "With some expert knowledge and hypotheses, we need to model these variables as a bayesian network. Our model shall be as follows:\n",
    "\n",
    "<img src=\"bayesnet.png\">\n",
    "\n",
    "We're going to be exploring using belief propagation and Monte Carlo sampling to infer different queries. Let's say that we were interested in learning about the probability that a married individual will show up to their interview in June so we want to infer the query:\n",
    "\n",
    "$$\n",
    "P(ObservedAttendance \\; | \\; MaritalStatus=Married,Month=6)\n",
    "$$\n",
    "\n",
    "### Belief Propagation\n",
    "We're going to be using the `pgmpy` package to create our model and perform belief propagation. Pgmpy plays well with Pandas dataframes, so we can feed pgmpy our data and use the built-in Maximum Likelihood estimator to learn our conditional probability distributions."
   ]
  },
  {
   "cell_type": "code",
   "execution_count": 179,
   "metadata": {},
   "outputs": [],
   "source": [
    "# Ignore this. This exists in case the MLE doesn't converge.\n",
    "# This function is needed to manually construct the CPDs in the model\n",
    "def calc_probability(variable):\n",
    "    values = dict()\n",
    "    for value in variable:\n",
    "        if value not in values:\n",
    "            values[value] = 1\n",
    "        else:\n",
    "            values[value] += 1\n",
    "    total = variable.shape[0]\n",
    "    for value in values:\n",
    "        values[value] /= total\n",
    "    \n",
    "    return values"
   ]
  },
  {
   "cell_type": "markdown",
   "metadata": {},
   "source": [
    "Now we can build our pgmpy model:"
   ]
  },
  {
   "cell_type": "code",
   "execution_count": 180,
   "metadata": {},
   "outputs": [],
   "source": [
    "from pgmpy.models import BayesianModel\n",
    "from pgmpy.estimators import MaximumLikelihoodEstimator\n",
    "from pgmpy.inference import BeliefPropagation"
   ]
  },
  {
   "cell_type": "code",
   "execution_count": 181,
   "metadata": {},
   "outputs": [
    {
     "data": {
      "text/plain": [
       "Index(['Candidate Job Location', 'Day of the Week', 'Expected Attendance',\n",
       "       'Gender', 'Industry', 'Interview Type', 'Location', 'Marital Status',\n",
       "       'Month', 'Nature of Skillset', 'Observed Attendance',\n",
       "       'Position to be closed'],\n",
       "      dtype='object')"
      ]
     },
     "execution_count": 181,
     "metadata": {},
     "output_type": "execute_result"
    }
   ],
   "source": [
    "trimmed.columns"
   ]
  },
  {
   "cell_type": "code",
   "execution_count": 182,
   "metadata": {},
   "outputs": [],
   "source": [
    "model = BayesianModel([\n",
    "    (\"Industry\", \"Interview Type\"), \n",
    "    ('Candidate Job Location', \"Interview Type\"), \n",
    "    (\"Industry\", \"Location\"),\n",
    "    (\"Candidate Job Location\", \"Location\"),\n",
    "    (\"Day of the Week\",\"Expected Attendance\"),\n",
    "    (\"Day of the Week\", \"Observed Attendance\"),\n",
    "    (\"Month\", \"Expected Attendance\"),\n",
    "    (\"Month\", \"Observed Attendance\"),\n",
    "    (\"Interview Type\", \"Expected Attendance\"),\n",
    "    (\"Interview Type\", \"Observed Attendance\"),\n",
    "    (\"Location\", \"Expected Attendance\"),\n",
    "    (\"Location\", \"Observed Attendance\"),\n",
    "    (\"Nature of Skillset\", \"Position to be closed\"),\n",
    "    (\"Position to be closed\", \"Observed Attendance\"),\n",
    "    (\"Position to be closed\", \"Expected Attendance\"),\n",
    "    (\"Gender\", \"Marital Status\"),\n",
    "    (\"Marital Status\", \"Observed Attendance\"),\n",
    "    (\"Marital Status\", \"Expected Attendance\")\n",
    "])"
   ]
  },
  {
   "cell_type": "markdown",
   "metadata": {},
   "source": [
    "Now we can estimate our CPDs. **WARNING: THIS WILL TAKE A LONG TIME TO RUN**"
   ]
  },
  {
   "cell_type": "code",
   "execution_count": 183,
   "metadata": {},
   "outputs": [],
   "source": [
    "model.fit(trimmed, estimator=MaximumLikelihoodEstimator)"
   ]
  },
  {
   "cell_type": "code",
   "execution_count": 189,
   "metadata": {},
   "outputs": [
    {
     "name": "stdout",
     "output_type": "stream",
     "text": [
      "╒═══════════════════════════════════════╤═════════════╕\n",
      "│ Candidate Job Location(- Cochin- )    │ 0.00732899  │\n",
      "├───────────────────────────────────────┼─────────────┤\n",
      "│ Candidate Job Location(Bangalore)     │ 0.20684     │\n",
      "├───────────────────────────────────────┼─────────────┤\n",
      "│ Candidate Job Location(Chennai)       │ 0.727199    │\n",
      "├───────────────────────────────────────┼─────────────┤\n",
      "│ Candidate Job Location(Gurgaon)       │ 0.0285016   │\n",
      "├───────────────────────────────────────┼─────────────┤\n",
      "│ Candidate Job Location(Hosur)         │ 0.000814332 │\n",
      "├───────────────────────────────────────┼─────────────┤\n",
      "│ Candidate Job Location(Noida)         │ 0.012215    │\n",
      "├───────────────────────────────────────┼─────────────┤\n",
      "│ Candidate Job Location(Visakapatinam) │ 0.017101    │\n",
      "╘═══════════════════════════════════════╧═════════════╛\n"
     ]
    }
   ],
   "source": [
    "print(model.get_cpds()[0])"
   ]
  },
  {
   "cell_type": "code",
   "execution_count": 190,
   "metadata": {},
   "outputs": [
    {
     "name": "stdout",
     "output_type": "stream",
     "text": [
      "╒════════════════════╤═══════════╕\n",
      "│ Day of the Week(0) │ 0.0350163 │\n",
      "├────────────────────┼───────────┤\n",
      "│ Day of the Week(1) │ 0.192182  │\n",
      "├────────────────────┼───────────┤\n",
      "│ Day of the Week(2) │ 0.185668  │\n",
      "├────────────────────┼───────────┤\n",
      "│ Day of the Week(3) │ 0.324919  │\n",
      "├────────────────────┼───────────┤\n",
      "│ Day of the Week(4) │ 0.108306  │\n",
      "├────────────────────┼───────────┤\n",
      "│ Day of the Week(5) │ 0.12215   │\n",
      "├────────────────────┼───────────┤\n",
      "│ Day of the Week(6) │ 0.031759  │\n",
      "╘════════════════════╧═══════════╛\n"
     ]
    }
   ],
   "source": [
    "print(model.get_cpds()[1])"
   ]
  },
  {
   "cell_type": "code",
   "execution_count": 191,
   "metadata": {},
   "outputs": [
    {
     "name": "stderr",
     "output_type": "stream",
     "text": [
      "IOPub data rate exceeded.\n",
      "The notebook server will temporarily stop sending output\n",
      "to the client in order to avoid crashing it.\n",
      "To change this limit, set the config variable\n",
      "`--NotebookApp.iopub_data_rate_limit`.\n",
      "\n",
      "Current values:\n",
      "NotebookApp.iopub_data_rate_limit=1000000.0 (bytes/sec)\n",
      "NotebookApp.rate_limit_window=3.0 (secs)\n",
      "\n"
     ]
    }
   ],
   "source": [
    "print(model.get_cpds()[2])"
   ]
  },
  {
   "cell_type": "code",
   "execution_count": 192,
   "metadata": {},
   "outputs": [
    {
     "name": "stdout",
     "output_type": "stream",
     "text": [
      "╒════════════════╤══════════╕\n",
      "│ Gender(Female) │ 0.218241 │\n",
      "├────────────────┼──────────┤\n",
      "│ Gender(Male)   │ 0.781759 │\n",
      "╘════════════════╧══════════╛\n"
     ]
    }
   ],
   "source": [
    "print(model.get_cpds()[3])"
   ]
  },
  {
   "cell_type": "code",
   "execution_count": 193,
   "metadata": {},
   "outputs": [
    {
     "name": "stdout",
     "output_type": "stream",
     "text": [
      "╒════════════════════════════════════╤════════════╕\n",
      "│ Industry(BFSI)                     │ 0.76873    │\n",
      "├────────────────────────────────────┼────────────┤\n",
      "│ Industry(Electronics)              │ 0.0187296  │\n",
      "├────────────────────────────────────┼────────────┤\n",
      "│ Industry(IT)                       │ 0.00895765 │\n",
      "├────────────────────────────────────┼────────────┤\n",
      "│ Industry(IT Products and Services) │ 0.036645   │\n",
      "├────────────────────────────────────┼────────────┤\n",
      "│ Industry(IT Services)              │ 0.0187296  │\n",
      "├────────────────────────────────────┼────────────┤\n",
      "│ Industry(Pharmaceuticals)          │ 0.134365   │\n",
      "├────────────────────────────────────┼────────────┤\n",
      "│ Industry(Telecom)                  │ 0.0138436  │\n",
      "╘════════════════════════════════════╧════════════╛\n"
     ]
    }
   ],
   "source": [
    "print(model.get_cpds()[4])"
   ]
  },
  {
   "cell_type": "code",
   "execution_count": 196,
   "metadata": {},
   "outputs": [
    {
     "name": "stdout",
     "output_type": "stream",
     "text": [
      "╒═══════════════════════════════════╤════════════════════════════════════╤════════════════════════════════════╤════════════════════════════════════╤════════════════════════════════════╤════════════════════════════════════╤════════════════════════════════════╤════════════════════════════════════╤═══════════════════════════════════╤═══════════════════════════════════╤═══════════════════════════════════╤════════════════════════════════════╤═══════════════════════════════════╤═══════════════════════════════════╤═══════════════════════════════════╤═════════════════════════════════╤═════════════════════════════════╤═════════════════════════════════╤════════════════════════════════════╤═════════════════════════════════╤═════════════════════════════════╤═════════════════════════════════╤═════════════════════════════════╤═════════════════════════════════╤═════════════════════════════════╤════════════════════════════════════╤═════════════════════════════════╤═════════════════════════════════╤═════════════════════════════════╤═══════════════════════════════╤═══════════════════════════════╤═══════════════════════════════╤════════════════════════════════════╤═══════════════════════════════╤═══════════════════════════════╤═══════════════════════════════╤═══════════════════════════════╤═══════════════════════════════╤═══════════════════════════════╤════════════════════════════════════╤═══════════════════════════════╤═══════════════════════════════╤═══════════════════════════════╤═══════════════════════════════════════╤═══════════════════════════════════════╤═══════════════════════════════════════╤═══════════════════════════════════════╤═══════════════════════════════════════╤═══════════════════════════════════════╤═══════════════════════════════════════╕\n",
      "│ Candidate Job Location            │ Candidate Job Location(- Cochin- ) │ Candidate Job Location(- Cochin- ) │ Candidate Job Location(- Cochin- ) │ Candidate Job Location(- Cochin- ) │ Candidate Job Location(- Cochin- ) │ Candidate Job Location(- Cochin- ) │ Candidate Job Location(- Cochin- ) │ Candidate Job Location(Bangalore) │ Candidate Job Location(Bangalore) │ Candidate Job Location(Bangalore) │ Candidate Job Location(Bangalore)  │ Candidate Job Location(Bangalore) │ Candidate Job Location(Bangalore) │ Candidate Job Location(Bangalore) │ Candidate Job Location(Chennai) │ Candidate Job Location(Chennai) │ Candidate Job Location(Chennai) │ Candidate Job Location(Chennai)    │ Candidate Job Location(Chennai) │ Candidate Job Location(Chennai) │ Candidate Job Location(Chennai) │ Candidate Job Location(Gurgaon) │ Candidate Job Location(Gurgaon) │ Candidate Job Location(Gurgaon) │ Candidate Job Location(Gurgaon)    │ Candidate Job Location(Gurgaon) │ Candidate Job Location(Gurgaon) │ Candidate Job Location(Gurgaon) │ Candidate Job Location(Hosur) │ Candidate Job Location(Hosur) │ Candidate Job Location(Hosur) │ Candidate Job Location(Hosur)      │ Candidate Job Location(Hosur) │ Candidate Job Location(Hosur) │ Candidate Job Location(Hosur) │ Candidate Job Location(Noida) │ Candidate Job Location(Noida) │ Candidate Job Location(Noida) │ Candidate Job Location(Noida)      │ Candidate Job Location(Noida) │ Candidate Job Location(Noida) │ Candidate Job Location(Noida) │ Candidate Job Location(Visakapatinam) │ Candidate Job Location(Visakapatinam) │ Candidate Job Location(Visakapatinam) │ Candidate Job Location(Visakapatinam) │ Candidate Job Location(Visakapatinam) │ Candidate Job Location(Visakapatinam) │ Candidate Job Location(Visakapatinam) │\n",
      "├───────────────────────────────────┼────────────────────────────────────┼────────────────────────────────────┼────────────────────────────────────┼────────────────────────────────────┼────────────────────────────────────┼────────────────────────────────────┼────────────────────────────────────┼───────────────────────────────────┼───────────────────────────────────┼───────────────────────────────────┼────────────────────────────────────┼───────────────────────────────────┼───────────────────────────────────┼───────────────────────────────────┼─────────────────────────────────┼─────────────────────────────────┼─────────────────────────────────┼────────────────────────────────────┼─────────────────────────────────┼─────────────────────────────────┼─────────────────────────────────┼─────────────────────────────────┼─────────────────────────────────┼─────────────────────────────────┼────────────────────────────────────┼─────────────────────────────────┼─────────────────────────────────┼─────────────────────────────────┼───────────────────────────────┼───────────────────────────────┼───────────────────────────────┼────────────────────────────────────┼───────────────────────────────┼───────────────────────────────┼───────────────────────────────┼───────────────────────────────┼───────────────────────────────┼───────────────────────────────┼────────────────────────────────────┼───────────────────────────────┼───────────────────────────────┼───────────────────────────────┼───────────────────────────────────────┼───────────────────────────────────────┼───────────────────────────────────────┼───────────────────────────────────────┼───────────────────────────────────────┼───────────────────────────────────────┼───────────────────────────────────────┤\n",
      "│ Industry                          │ Industry(BFSI)                     │ Industry(Electronics)              │ Industry(IT)                       │ Industry(IT Products and Services) │ Industry(IT Services)              │ Industry(Pharmaceuticals)          │ Industry(Telecom)                  │ Industry(BFSI)                    │ Industry(Electronics)             │ Industry(IT)                      │ Industry(IT Products and Services) │ Industry(IT Services)             │ Industry(Pharmaceuticals)         │ Industry(Telecom)                 │ Industry(BFSI)                  │ Industry(Electronics)           │ Industry(IT)                    │ Industry(IT Products and Services) │ Industry(IT Services)           │ Industry(Pharmaceuticals)       │ Industry(Telecom)               │ Industry(BFSI)                  │ Industry(Electronics)           │ Industry(IT)                    │ Industry(IT Products and Services) │ Industry(IT Services)           │ Industry(Pharmaceuticals)       │ Industry(Telecom)               │ Industry(BFSI)                │ Industry(Electronics)         │ Industry(IT)                  │ Industry(IT Products and Services) │ Industry(IT Services)         │ Industry(Pharmaceuticals)     │ Industry(Telecom)             │ Industry(BFSI)                │ Industry(Electronics)         │ Industry(IT)                  │ Industry(IT Products and Services) │ Industry(IT Services)         │ Industry(Pharmaceuticals)     │ Industry(Telecom)             │ Industry(BFSI)                        │ Industry(Electronics)                 │ Industry(IT)                          │ Industry(IT Products and Services)    │ Industry(IT Services)                 │ Industry(Pharmaceuticals)             │ Industry(Telecom)                     │\n",
      "├───────────────────────────────────┼────────────────────────────────────┼────────────────────────────────────┼────────────────────────────────────┼────────────────────────────────────┼────────────────────────────────────┼────────────────────────────────────┼────────────────────────────────────┼───────────────────────────────────┼───────────────────────────────────┼───────────────────────────────────┼────────────────────────────────────┼───────────────────────────────────┼───────────────────────────────────┼───────────────────────────────────┼─────────────────────────────────┼─────────────────────────────────┼─────────────────────────────────┼────────────────────────────────────┼─────────────────────────────────┼─────────────────────────────────┼─────────────────────────────────┼─────────────────────────────────┼─────────────────────────────────┼─────────────────────────────────┼────────────────────────────────────┼─────────────────────────────────┼─────────────────────────────────┼─────────────────────────────────┼───────────────────────────────┼───────────────────────────────┼───────────────────────────────┼────────────────────────────────────┼───────────────────────────────┼───────────────────────────────┼───────────────────────────────┼───────────────────────────────┼───────────────────────────────┼───────────────────────────────┼────────────────────────────────────┼───────────────────────────────┼───────────────────────────────┼───────────────────────────────┼───────────────────────────────────────┼───────────────────────────────────────┼───────────────────────────────────────┼───────────────────────────────────────┼───────────────────────────────────────┼───────────────────────────────────────┼───────────────────────────────────────┤\n",
      "│ Interview Type(Sceduled walkin)   │ 0.16666666666666666                │ 0.16666666666666666                │ 0.0                                │ 0.16666666666666666                │ 0.16666666666666666                │ 0.16666666666666666                │ 0.16666666666666666                │ 0.004273504273504274              │ 0.16666666666666666               │ 0.16666666666666666               │ 0.16666666666666666                │ 0.0                               │ 0.0                               │ 0.16666666666666666               │ 0.0                             │ 0.0                             │ 0.0                             │ 0.16666666666666666                │ 0.16666666666666666             │ 0.0                             │ 0.0                             │ 0.16666666666666666             │ 0.16666666666666666             │ 0.16666666666666666             │ 0.0                                │ 0.0                             │ 0.16666666666666666             │ 0.16666666666666666             │ 0.16666666666666666           │ 0.16666666666666666           │ 0.16666666666666666           │ 0.16666666666666666                │ 0.16666666666666666           │ 0.0                           │ 0.16666666666666666           │ 0.16666666666666666           │ 0.16666666666666666           │ 0.16666666666666666           │ 0.0                                │ 0.16666666666666666           │ 0.16666666666666666           │ 0.16666666666666666           │ 0.16666666666666666                   │ 0.16666666666666666                   │ 0.16666666666666666                   │ 0.16666666666666666                   │ 0.16666666666666666                   │ 0.0                                   │ 0.16666666666666666                   │\n",
      "├───────────────────────────────────┼────────────────────────────────────┼────────────────────────────────────┼────────────────────────────────────┼────────────────────────────────────┼────────────────────────────────────┼────────────────────────────────────┼────────────────────────────────────┼───────────────────────────────────┼───────────────────────────────────┼───────────────────────────────────┼────────────────────────────────────┼───────────────────────────────────┼───────────────────────────────────┼───────────────────────────────────┼─────────────────────────────────┼─────────────────────────────────┼─────────────────────────────────┼────────────────────────────────────┼─────────────────────────────────┼─────────────────────────────────┼─────────────────────────────────┼─────────────────────────────────┼─────────────────────────────────┼─────────────────────────────────┼────────────────────────────────────┼─────────────────────────────────┼─────────────────────────────────┼─────────────────────────────────┼───────────────────────────────┼───────────────────────────────┼───────────────────────────────┼────────────────────────────────────┼───────────────────────────────┼───────────────────────────────┼───────────────────────────────┼───────────────────────────────┼───────────────────────────────┼───────────────────────────────┼────────────────────────────────────┼───────────────────────────────┼───────────────────────────────┼───────────────────────────────┼───────────────────────────────────────┼───────────────────────────────────────┼───────────────────────────────────────┼───────────────────────────────────────┼───────────────────────────────────────┼───────────────────────────────────────┼───────────────────────────────────────┤\n",
      "│ Interview Type(Scheduled )        │ 0.16666666666666666                │ 0.16666666666666666                │ 1.0                                │ 0.16666666666666666                │ 0.16666666666666666                │ 0.16666666666666666                │ 0.16666666666666666                │ 0.19230769230769232               │ 0.16666666666666666               │ 0.16666666666666666               │ 0.16666666666666666                │ 0.0                               │ 0.0                               │ 0.16666666666666666               │ 0.16338028169014085             │ 1.0                             │ 1.0                             │ 0.16666666666666666                │ 0.16666666666666666             │ 0.624113475177305               │ 1.0                             │ 0.16666666666666666             │ 0.16666666666666666             │ 0.16666666666666666             │ 1.0                                │ 0.0                             │ 0.16666666666666666             │ 0.16666666666666666             │ 0.16666666666666666           │ 0.16666666666666666           │ 0.16666666666666666           │ 0.16666666666666666                │ 0.16666666666666666           │ 0.0                           │ 0.16666666666666666           │ 0.16666666666666666           │ 0.16666666666666666           │ 0.16666666666666666           │ 1.0                                │ 0.16666666666666666           │ 0.16666666666666666           │ 0.16666666666666666           │ 0.16666666666666666                   │ 0.16666666666666666                   │ 0.16666666666666666                   │ 0.16666666666666666                   │ 0.16666666666666666                   │ 1.0                                   │ 0.16666666666666666                   │\n",
      "├───────────────────────────────────┼────────────────────────────────────┼────────────────────────────────────┼────────────────────────────────────┼────────────────────────────────────┼────────────────────────────────────┼────────────────────────────────────┼────────────────────────────────────┼───────────────────────────────────┼───────────────────────────────────┼───────────────────────────────────┼────────────────────────────────────┼───────────────────────────────────┼───────────────────────────────────┼───────────────────────────────────┼─────────────────────────────────┼─────────────────────────────────┼─────────────────────────────────┼────────────────────────────────────┼─────────────────────────────────┼─────────────────────────────────┼─────────────────────────────────┼─────────────────────────────────┼─────────────────────────────────┼─────────────────────────────────┼────────────────────────────────────┼─────────────────────────────────┼─────────────────────────────────┼─────────────────────────────────┼───────────────────────────────┼───────────────────────────────┼───────────────────────────────┼────────────────────────────────────┼───────────────────────────────┼───────────────────────────────┼───────────────────────────────┼───────────────────────────────┼───────────────────────────────┼───────────────────────────────┼────────────────────────────────────┼───────────────────────────────┼───────────────────────────────┼───────────────────────────────┼───────────────────────────────────────┼───────────────────────────────────────┼───────────────────────────────────────┼───────────────────────────────────────┼───────────────────────────────────────┼───────────────────────────────────────┼───────────────────────────────────────┤\n",
      "│ Interview Type(Scheduled Walk In) │ 0.16666666666666666                │ 0.16666666666666666                │ 0.0                                │ 0.16666666666666666                │ 0.16666666666666666                │ 0.16666666666666666                │ 0.16666666666666666                │ 0.2863247863247863                │ 0.16666666666666666               │ 0.16666666666666666               │ 0.16666666666666666                │ 0.0                               │ 0.0                               │ 0.16666666666666666               │ 0.547887323943662               │ 0.0                             │ 0.0                             │ 0.16666666666666666                │ 0.16666666666666666             │ 0.0                             │ 0.0                             │ 0.16666666666666666             │ 0.16666666666666666             │ 0.16666666666666666             │ 0.0                                │ 0.0                             │ 0.16666666666666666             │ 0.16666666666666666             │ 0.16666666666666666           │ 0.16666666666666666           │ 0.16666666666666666           │ 0.16666666666666666                │ 0.16666666666666666           │ 0.0                           │ 0.16666666666666666           │ 0.16666666666666666           │ 0.16666666666666666           │ 0.16666666666666666           │ 0.0                                │ 0.16666666666666666           │ 0.16666666666666666           │ 0.16666666666666666           │ 0.16666666666666666                   │ 0.16666666666666666                   │ 0.16666666666666666                   │ 0.16666666666666666                   │ 0.16666666666666666                   │ 0.0                                   │ 0.16666666666666666                   │\n",
      "├───────────────────────────────────┼────────────────────────────────────┼────────────────────────────────────┼────────────────────────────────────┼────────────────────────────────────┼────────────────────────────────────┼────────────────────────────────────┼────────────────────────────────────┼───────────────────────────────────┼───────────────────────────────────┼───────────────────────────────────┼────────────────────────────────────┼───────────────────────────────────┼───────────────────────────────────┼───────────────────────────────────┼─────────────────────────────────┼─────────────────────────────────┼─────────────────────────────────┼────────────────────────────────────┼─────────────────────────────────┼─────────────────────────────────┼─────────────────────────────────┼─────────────────────────────────┼─────────────────────────────────┼─────────────────────────────────┼────────────────────────────────────┼─────────────────────────────────┼─────────────────────────────────┼─────────────────────────────────┼───────────────────────────────┼───────────────────────────────┼───────────────────────────────┼────────────────────────────────────┼───────────────────────────────┼───────────────────────────────┼───────────────────────────────┼───────────────────────────────┼───────────────────────────────┼───────────────────────────────┼────────────────────────────────────┼───────────────────────────────┼───────────────────────────────┼───────────────────────────────┼───────────────────────────────────────┼───────────────────────────────────────┼───────────────────────────────────────┼───────────────────────────────────────┼───────────────────────────────────────┼───────────────────────────────────────┼───────────────────────────────────────┤\n",
      "│ Interview Type(Scheduled Walkin)  │ 0.16666666666666666                │ 0.16666666666666666                │ 0.0                                │ 0.16666666666666666                │ 0.16666666666666666                │ 0.16666666666666666                │ 0.16666666666666666                │ 0.14957264957264957               │ 0.16666666666666666               │ 0.16666666666666666               │ 0.16666666666666666                │ 1.0                               │ 1.0                               │ 0.16666666666666666               │ 0.14788732394366197             │ 0.0                             │ 0.0                             │ 0.16666666666666666                │ 0.16666666666666666             │ 0.16312056737588654             │ 0.0                             │ 0.16666666666666666             │ 0.16666666666666666             │ 0.16666666666666666             │ 0.0                                │ 1.0                             │ 0.16666666666666666             │ 0.16666666666666666             │ 0.16666666666666666           │ 0.16666666666666666           │ 0.16666666666666666           │ 0.16666666666666666                │ 0.16666666666666666           │ 1.0                           │ 0.16666666666666666           │ 0.16666666666666666           │ 0.16666666666666666           │ 0.16666666666666666           │ 0.0                                │ 0.16666666666666666           │ 0.16666666666666666           │ 0.16666666666666666           │ 0.16666666666666666                   │ 0.16666666666666666                   │ 0.16666666666666666                   │ 0.16666666666666666                   │ 0.16666666666666666                   │ 0.0                                   │ 0.16666666666666666                   │\n",
      "├───────────────────────────────────┼────────────────────────────────────┼────────────────────────────────────┼────────────────────────────────────┼────────────────────────────────────┼────────────────────────────────────┼────────────────────────────────────┼────────────────────────────────────┼───────────────────────────────────┼───────────────────────────────────┼───────────────────────────────────┼────────────────────────────────────┼───────────────────────────────────┼───────────────────────────────────┼───────────────────────────────────┼─────────────────────────────────┼─────────────────────────────────┼─────────────────────────────────┼────────────────────────────────────┼─────────────────────────────────┼─────────────────────────────────┼─────────────────────────────────┼─────────────────────────────────┼─────────────────────────────────┼─────────────────────────────────┼────────────────────────────────────┼─────────────────────────────────┼─────────────────────────────────┼─────────────────────────────────┼───────────────────────────────┼───────────────────────────────┼───────────────────────────────┼────────────────────────────────────┼───────────────────────────────┼───────────────────────────────┼───────────────────────────────┼───────────────────────────────┼───────────────────────────────┼───────────────────────────────┼────────────────────────────────────┼───────────────────────────────┼───────────────────────────────┼───────────────────────────────┼───────────────────────────────────────┼───────────────────────────────────────┼───────────────────────────────────────┼───────────────────────────────────────┼───────────────────────────────────────┼───────────────────────────────────────┼───────────────────────────────────────┤\n",
      "│ Interview Type(Walkin)            │ 0.16666666666666666                │ 0.16666666666666666                │ 0.0                                │ 0.16666666666666666                │ 0.16666666666666666                │ 0.16666666666666666                │ 0.16666666666666666                │ 0.36752136752136755               │ 0.16666666666666666               │ 0.16666666666666666               │ 0.16666666666666666                │ 0.0                               │ 0.0                               │ 0.16666666666666666               │ 0.1028169014084507              │ 0.0                             │ 0.0                             │ 0.16666666666666666                │ 0.16666666666666666             │ 0.2127659574468085              │ 0.0                             │ 0.16666666666666666             │ 0.16666666666666666             │ 0.16666666666666666             │ 0.0                                │ 0.0                             │ 0.16666666666666666             │ 0.16666666666666666             │ 0.16666666666666666           │ 0.16666666666666666           │ 0.16666666666666666           │ 0.16666666666666666                │ 0.16666666666666666           │ 0.0                           │ 0.16666666666666666           │ 0.16666666666666666           │ 0.16666666666666666           │ 0.16666666666666666           │ 0.0                                │ 0.16666666666666666           │ 0.16666666666666666           │ 0.16666666666666666           │ 0.16666666666666666                   │ 0.16666666666666666                   │ 0.16666666666666666                   │ 0.16666666666666666                   │ 0.16666666666666666                   │ 0.0                                   │ 0.16666666666666666                   │\n",
      "├───────────────────────────────────┼────────────────────────────────────┼────────────────────────────────────┼────────────────────────────────────┼────────────────────────────────────┼────────────────────────────────────┼────────────────────────────────────┼────────────────────────────────────┼───────────────────────────────────┼───────────────────────────────────┼───────────────────────────────────┼────────────────────────────────────┼───────────────────────────────────┼───────────────────────────────────┼───────────────────────────────────┼─────────────────────────────────┼─────────────────────────────────┼─────────────────────────────────┼────────────────────────────────────┼─────────────────────────────────┼─────────────────────────────────┼─────────────────────────────────┼─────────────────────────────────┼─────────────────────────────────┼─────────────────────────────────┼────────────────────────────────────┼─────────────────────────────────┼─────────────────────────────────┼─────────────────────────────────┼───────────────────────────────┼───────────────────────────────┼───────────────────────────────┼────────────────────────────────────┼───────────────────────────────┼───────────────────────────────┼───────────────────────────────┼───────────────────────────────┼───────────────────────────────┼───────────────────────────────┼────────────────────────────────────┼───────────────────────────────┼───────────────────────────────┼───────────────────────────────┼───────────────────────────────────────┼───────────────────────────────────────┼───────────────────────────────────────┼───────────────────────────────────────┼───────────────────────────────────────┼───────────────────────────────────────┼───────────────────────────────────────┤\n",
      "│ Interview Type(Walkin )           │ 0.16666666666666666                │ 0.16666666666666666                │ 0.0                                │ 0.16666666666666666                │ 0.16666666666666666                │ 0.16666666666666666                │ 0.16666666666666666                │ 0.0                               │ 0.16666666666666666               │ 0.16666666666666666               │ 0.16666666666666666                │ 0.0                               │ 0.0                               │ 0.16666666666666666               │ 0.038028169014084505            │ 0.0                             │ 0.0                             │ 0.16666666666666666                │ 0.16666666666666666             │ 0.0                             │ 0.0                             │ 0.16666666666666666             │ 0.16666666666666666             │ 0.16666666666666666             │ 0.0                                │ 0.0                             │ 0.16666666666666666             │ 0.16666666666666666             │ 0.16666666666666666           │ 0.16666666666666666           │ 0.16666666666666666           │ 0.16666666666666666                │ 0.16666666666666666           │ 0.0                           │ 0.16666666666666666           │ 0.16666666666666666           │ 0.16666666666666666           │ 0.16666666666666666           │ 0.0                                │ 0.16666666666666666           │ 0.16666666666666666           │ 0.16666666666666666           │ 0.16666666666666666                   │ 0.16666666666666666                   │ 0.16666666666666666                   │ 0.16666666666666666                   │ 0.16666666666666666                   │ 0.0                                   │ 0.16666666666666666                   │\n",
      "╘═══════════════════════════════════╧════════════════════════════════════╧════════════════════════════════════╧════════════════════════════════════╧════════════════════════════════════╧════════════════════════════════════╧════════════════════════════════════╧════════════════════════════════════╧═══════════════════════════════════╧═══════════════════════════════════╧═══════════════════════════════════╧════════════════════════════════════╧═══════════════════════════════════╧═══════════════════════════════════╧═══════════════════════════════════╧═════════════════════════════════╧═════════════════════════════════╧═════════════════════════════════╧════════════════════════════════════╧═════════════════════════════════╧═════════════════════════════════╧═════════════════════════════════╧═════════════════════════════════╧═════════════════════════════════╧═════════════════════════════════╧════════════════════════════════════╧═════════════════════════════════╧═════════════════════════════════╧═════════════════════════════════╧═══════════════════════════════╧═══════════════════════════════╧═══════════════════════════════╧════════════════════════════════════╧═══════════════════════════════╧═══════════════════════════════╧═══════════════════════════════╧═══════════════════════════════╧═══════════════════════════════╧═══════════════════════════════╧════════════════════════════════════╧═══════════════════════════════╧═══════════════════════════════╧═══════════════════════════════╧═══════════════════════════════════════╧═══════════════════════════════════════╧═══════════════════════════════════════╧═══════════════════════════════════════╧═══════════════════════════════════════╧═══════════════════════════════════════╧═══════════════════════════════════════╛\n"
     ]
    }
   ],
   "source": [
    "print(model.get_cpds()[5])"
   ]
  },
  {
   "cell_type": "code",
   "execution_count": 195,
   "metadata": {},
   "outputs": [
    {
     "name": "stdout",
     "output_type": "stream",
     "text": [
      "╒════════════════════════╤════════════════════════════════════╤════════════════════════════════════╤════════════════════════════════════╤════════════════════════════════════╤════════════════════════════════════╤════════════════════════════════════╤════════════════════════════════════╤═══════════════════════════════════╤═══════════════════════════════════╤═══════════════════════════════════╤════════════════════════════════════╤═══════════════════════════════════╤═══════════════════════════════════╤═══════════════════════════════════╤═════════════════════════════════╤═════════════════════════════════╤═════════════════════════════════╤════════════════════════════════════╤═════════════════════════════════╤═════════════════════════════════╤═════════════════════════════════╤═════════════════════════════════╤═════════════════════════════════╤═════════════════════════════════╤════════════════════════════════════╤═════════════════════════════════╤═════════════════════════════════╤═════════════════════════════════╤═══════════════════════════════╤═══════════════════════════════╤═══════════════════════════════╤════════════════════════════════════╤═══════════════════════════════╤═══════════════════════════════╤═══════════════════════════════╤═══════════════════════════════╤═══════════════════════════════╤═══════════════════════════════╤════════════════════════════════════╤═══════════════════════════════╤═══════════════════════════════╤═══════════════════════════════╤═══════════════════════════════════════╤═══════════════════════════════════════╤═══════════════════════════════════════╤═══════════════════════════════════════╤═══════════════════════════════════════╤═══════════════════════════════════════╤═══════════════════════════════════════╕\n",
      "│ Candidate Job Location │ Candidate Job Location(- Cochin- ) │ Candidate Job Location(- Cochin- ) │ Candidate Job Location(- Cochin- ) │ Candidate Job Location(- Cochin- ) │ Candidate Job Location(- Cochin- ) │ Candidate Job Location(- Cochin- ) │ Candidate Job Location(- Cochin- ) │ Candidate Job Location(Bangalore) │ Candidate Job Location(Bangalore) │ Candidate Job Location(Bangalore) │ Candidate Job Location(Bangalore)  │ Candidate Job Location(Bangalore) │ Candidate Job Location(Bangalore) │ Candidate Job Location(Bangalore) │ Candidate Job Location(Chennai) │ Candidate Job Location(Chennai) │ Candidate Job Location(Chennai) │ Candidate Job Location(Chennai)    │ Candidate Job Location(Chennai) │ Candidate Job Location(Chennai) │ Candidate Job Location(Chennai) │ Candidate Job Location(Gurgaon) │ Candidate Job Location(Gurgaon) │ Candidate Job Location(Gurgaon) │ Candidate Job Location(Gurgaon)    │ Candidate Job Location(Gurgaon) │ Candidate Job Location(Gurgaon) │ Candidate Job Location(Gurgaon) │ Candidate Job Location(Hosur) │ Candidate Job Location(Hosur) │ Candidate Job Location(Hosur) │ Candidate Job Location(Hosur)      │ Candidate Job Location(Hosur) │ Candidate Job Location(Hosur) │ Candidate Job Location(Hosur) │ Candidate Job Location(Noida) │ Candidate Job Location(Noida) │ Candidate Job Location(Noida) │ Candidate Job Location(Noida)      │ Candidate Job Location(Noida) │ Candidate Job Location(Noida) │ Candidate Job Location(Noida) │ Candidate Job Location(Visakapatinam) │ Candidate Job Location(Visakapatinam) │ Candidate Job Location(Visakapatinam) │ Candidate Job Location(Visakapatinam) │ Candidate Job Location(Visakapatinam) │ Candidate Job Location(Visakapatinam) │ Candidate Job Location(Visakapatinam) │\n",
      "├────────────────────────┼────────────────────────────────────┼────────────────────────────────────┼────────────────────────────────────┼────────────────────────────────────┼────────────────────────────────────┼────────────────────────────────────┼────────────────────────────────────┼───────────────────────────────────┼───────────────────────────────────┼───────────────────────────────────┼────────────────────────────────────┼───────────────────────────────────┼───────────────────────────────────┼───────────────────────────────────┼─────────────────────────────────┼─────────────────────────────────┼─────────────────────────────────┼────────────────────────────────────┼─────────────────────────────────┼─────────────────────────────────┼─────────────────────────────────┼─────────────────────────────────┼─────────────────────────────────┼─────────────────────────────────┼────────────────────────────────────┼─────────────────────────────────┼─────────────────────────────────┼─────────────────────────────────┼───────────────────────────────┼───────────────────────────────┼───────────────────────────────┼────────────────────────────────────┼───────────────────────────────┼───────────────────────────────┼───────────────────────────────┼───────────────────────────────┼───────────────────────────────┼───────────────────────────────┼────────────────────────────────────┼───────────────────────────────┼───────────────────────────────┼───────────────────────────────┼───────────────────────────────────────┼───────────────────────────────────────┼───────────────────────────────────────┼───────────────────────────────────────┼───────────────────────────────────────┼───────────────────────────────────────┼───────────────────────────────────────┤\n",
      "│ Industry               │ Industry(BFSI)                     │ Industry(Electronics)              │ Industry(IT)                       │ Industry(IT Products and Services) │ Industry(IT Services)              │ Industry(Pharmaceuticals)          │ Industry(Telecom)                  │ Industry(BFSI)                    │ Industry(Electronics)             │ Industry(IT)                      │ Industry(IT Products and Services) │ Industry(IT Services)             │ Industry(Pharmaceuticals)         │ Industry(Telecom)                 │ Industry(BFSI)                  │ Industry(Electronics)           │ Industry(IT)                    │ Industry(IT Products and Services) │ Industry(IT Services)           │ Industry(Pharmaceuticals)       │ Industry(Telecom)               │ Industry(BFSI)                  │ Industry(Electronics)           │ Industry(IT)                    │ Industry(IT Products and Services) │ Industry(IT Services)           │ Industry(Pharmaceuticals)       │ Industry(Telecom)               │ Industry(BFSI)                │ Industry(Electronics)         │ Industry(IT)                  │ Industry(IT Products and Services) │ Industry(IT Services)         │ Industry(Pharmaceuticals)     │ Industry(Telecom)             │ Industry(BFSI)                │ Industry(Electronics)         │ Industry(IT)                  │ Industry(IT Products and Services) │ Industry(IT Services)         │ Industry(Pharmaceuticals)     │ Industry(Telecom)             │ Industry(BFSI)                        │ Industry(Electronics)                 │ Industry(IT)                          │ Industry(IT Products and Services)    │ Industry(IT Services)                 │ Industry(Pharmaceuticals)             │ Industry(Telecom)                     │\n",
      "├────────────────────────┼────────────────────────────────────┼────────────────────────────────────┼────────────────────────────────────┼────────────────────────────────────┼────────────────────────────────────┼────────────────────────────────────┼────────────────────────────────────┼───────────────────────────────────┼───────────────────────────────────┼───────────────────────────────────┼────────────────────────────────────┼───────────────────────────────────┼───────────────────────────────────┼───────────────────────────────────┼─────────────────────────────────┼─────────────────────────────────┼─────────────────────────────────┼────────────────────────────────────┼─────────────────────────────────┼─────────────────────────────────┼─────────────────────────────────┼─────────────────────────────────┼─────────────────────────────────┼─────────────────────────────────┼────────────────────────────────────┼─────────────────────────────────┼─────────────────────────────────┼─────────────────────────────────┼───────────────────────────────┼───────────────────────────────┼───────────────────────────────┼────────────────────────────────────┼───────────────────────────────┼───────────────────────────────┼───────────────────────────────┼───────────────────────────────┼───────────────────────────────┼───────────────────────────────┼────────────────────────────────────┼───────────────────────────────┼───────────────────────────────┼───────────────────────────────┼───────────────────────────────────────┼───────────────────────────────────────┼───────────────────────────────────────┼───────────────────────────────────────┼───────────────────────────────────────┼───────────────────────────────────────┼───────────────────────────────────────┤\n",
      "│ Location(- Cochin- )   │ 0.09090909090909091                │ 0.09090909090909091                │ 1.0                                │ 0.09090909090909091                │ 0.09090909090909091                │ 0.09090909090909091                │ 0.09090909090909091                │ 0.0                               │ 0.09090909090909091               │ 0.09090909090909091               │ 0.09090909090909091                │ 0.0                               │ 0.0                               │ 0.09090909090909091               │ 0.0                             │ 0.0                             │ 0.0                             │ 0.09090909090909091                │ 0.09090909090909091             │ 0.0                             │ 0.0                             │ 0.09090909090909091             │ 0.09090909090909091             │ 0.09090909090909091             │ 0.0                                │ 0.0                             │ 0.09090909090909091             │ 0.09090909090909091             │ 0.09090909090909091           │ 0.09090909090909091           │ 0.09090909090909091           │ 0.09090909090909091                │ 0.09090909090909091           │ 0.0                           │ 0.09090909090909091           │ 0.09090909090909091           │ 0.09090909090909091           │ 0.09090909090909091           │ 0.0                                │ 0.09090909090909091           │ 0.09090909090909091           │ 0.09090909090909091           │ 0.09090909090909091                   │ 0.09090909090909091                   │ 0.09090909090909091                   │ 0.09090909090909091                   │ 0.09090909090909091                   │ 0.0                                   │ 0.09090909090909091                   │\n",
      "├────────────────────────┼────────────────────────────────────┼────────────────────────────────────┼────────────────────────────────────┼────────────────────────────────────┼────────────────────────────────────┼────────────────────────────────────┼────────────────────────────────────┼───────────────────────────────────┼───────────────────────────────────┼───────────────────────────────────┼────────────────────────────────────┼───────────────────────────────────┼───────────────────────────────────┼───────────────────────────────────┼─────────────────────────────────┼─────────────────────────────────┼─────────────────────────────────┼────────────────────────────────────┼─────────────────────────────────┼─────────────────────────────────┼─────────────────────────────────┼─────────────────────────────────┼─────────────────────────────────┼─────────────────────────────────┼────────────────────────────────────┼─────────────────────────────────┼─────────────────────────────────┼─────────────────────────────────┼───────────────────────────────┼───────────────────────────────┼───────────────────────────────┼────────────────────────────────────┼───────────────────────────────┼───────────────────────────────┼───────────────────────────────┼───────────────────────────────┼───────────────────────────────┼───────────────────────────────┼────────────────────────────────────┼───────────────────────────────┼───────────────────────────────┼───────────────────────────────┼───────────────────────────────────────┼───────────────────────────────────────┼───────────────────────────────────────┼───────────────────────────────────────┼───────────────────────────────────────┼───────────────────────────────────────┼───────────────────────────────────────┤\n",
      "│ Location(Bangalore)    │ 0.09090909090909091                │ 0.09090909090909091                │ 0.0                                │ 0.09090909090909091                │ 0.09090909090909091                │ 0.09090909090909091                │ 0.09090909090909091                │ 1.0                               │ 0.09090909090909091               │ 0.09090909090909091               │ 0.09090909090909091                │ 1.0                               │ 0.0                               │ 0.09090909090909091               │ 0.0                             │ 0.0                             │ 0.0                             │ 0.09090909090909091                │ 0.09090909090909091             │ 0.22695035460992907             │ 0.0                             │ 0.09090909090909091             │ 0.09090909090909091             │ 0.09090909090909091             │ 0.0                                │ 0.0                             │ 0.09090909090909091             │ 0.09090909090909091             │ 0.09090909090909091           │ 0.09090909090909091           │ 0.09090909090909091           │ 0.09090909090909091                │ 0.09090909090909091           │ 0.0                           │ 0.09090909090909091           │ 0.09090909090909091           │ 0.09090909090909091           │ 0.09090909090909091           │ 0.0                                │ 0.09090909090909091           │ 0.09090909090909091           │ 0.09090909090909091           │ 0.09090909090909091                   │ 0.09090909090909091                   │ 0.09090909090909091                   │ 0.09090909090909091                   │ 0.09090909090909091                   │ 0.14285714285714285                   │ 0.09090909090909091                   │\n",
      "├────────────────────────┼────────────────────────────────────┼────────────────────────────────────┼────────────────────────────────────┼────────────────────────────────────┼────────────────────────────────────┼────────────────────────────────────┼────────────────────────────────────┼───────────────────────────────────┼───────────────────────────────────┼───────────────────────────────────┼────────────────────────────────────┼───────────────────────────────────┼───────────────────────────────────┼───────────────────────────────────┼─────────────────────────────────┼─────────────────────────────────┼─────────────────────────────────┼────────────────────────────────────┼─────────────────────────────────┼─────────────────────────────────┼─────────────────────────────────┼─────────────────────────────────┼─────────────────────────────────┼─────────────────────────────────┼────────────────────────────────────┼─────────────────────────────────┼─────────────────────────────────┼─────────────────────────────────┼───────────────────────────────┼───────────────────────────────┼───────────────────────────────┼────────────────────────────────────┼───────────────────────────────┼───────────────────────────────┼───────────────────────────────┼───────────────────────────────┼───────────────────────────────┼───────────────────────────────┼────────────────────────────────────┼───────────────────────────────┼───────────────────────────────┼───────────────────────────────┼───────────────────────────────────────┼───────────────────────────────────────┼───────────────────────────────────────┼───────────────────────────────────────┼───────────────────────────────────────┼───────────────────────────────────────┼───────────────────────────────────────┤\n",
      "│ Location(CHENNAI)      │ 0.09090909090909091                │ 0.09090909090909091                │ 0.0                                │ 0.09090909090909091                │ 0.09090909090909091                │ 0.09090909090909091                │ 0.09090909090909091                │ 0.0                               │ 0.09090909090909091               │ 0.09090909090909091               │ 0.09090909090909091                │ 0.0                               │ 0.0                               │ 0.09090909090909091               │ 0.0014084507042253522           │ 0.0                             │ 0.0                             │ 0.09090909090909091                │ 0.09090909090909091             │ 0.0                             │ 0.0                             │ 0.09090909090909091             │ 0.09090909090909091             │ 0.09090909090909091             │ 0.0                                │ 0.0                             │ 0.09090909090909091             │ 0.09090909090909091             │ 0.09090909090909091           │ 0.09090909090909091           │ 0.09090909090909091           │ 0.09090909090909091                │ 0.09090909090909091           │ 0.0                           │ 0.09090909090909091           │ 0.09090909090909091           │ 0.09090909090909091           │ 0.09090909090909091           │ 0.0                                │ 0.09090909090909091           │ 0.09090909090909091           │ 0.09090909090909091           │ 0.09090909090909091                   │ 0.09090909090909091                   │ 0.09090909090909091                   │ 0.09090909090909091                   │ 0.09090909090909091                   │ 0.0                                   │ 0.09090909090909091                   │\n",
      "├────────────────────────┼────────────────────────────────────┼────────────────────────────────────┼────────────────────────────────────┼────────────────────────────────────┼────────────────────────────────────┼────────────────────────────────────┼────────────────────────────────────┼───────────────────────────────────┼───────────────────────────────────┼───────────────────────────────────┼────────────────────────────────────┼───────────────────────────────────┼───────────────────────────────────┼───────────────────────────────────┼─────────────────────────────────┼─────────────────────────────────┼─────────────────────────────────┼────────────────────────────────────┼─────────────────────────────────┼─────────────────────────────────┼─────────────────────────────────┼─────────────────────────────────┼─────────────────────────────────┼─────────────────────────────────┼────────────────────────────────────┼─────────────────────────────────┼─────────────────────────────────┼─────────────────────────────────┼───────────────────────────────┼───────────────────────────────┼───────────────────────────────┼────────────────────────────────────┼───────────────────────────────┼───────────────────────────────┼───────────────────────────────┼───────────────────────────────┼───────────────────────────────┼───────────────────────────────┼────────────────────────────────────┼───────────────────────────────┼───────────────────────────────┼───────────────────────────────┼───────────────────────────────────────┼───────────────────────────────────────┼───────────────────────────────────────┼───────────────────────────────────────┼───────────────────────────────────────┼───────────────────────────────────────┼───────────────────────────────────────┤\n",
      "│ Location(Chennai)      │ 0.09090909090909091                │ 0.09090909090909091                │ 0.0                                │ 0.09090909090909091                │ 0.09090909090909091                │ 0.09090909090909091                │ 0.09090909090909091                │ 0.0                               │ 0.09090909090909091               │ 0.09090909090909091               │ 0.09090909090909091                │ 0.0                               │ 1.0                               │ 0.09090909090909091               │ 0.8732394366197183              │ 1.0                             │ 1.0                             │ 0.09090909090909091                │ 0.09090909090909091             │ 0.624113475177305               │ 1.0                             │ 0.09090909090909091             │ 0.09090909090909091             │ 0.09090909090909091             │ 0.0                                │ 0.0                             │ 0.09090909090909091             │ 0.09090909090909091             │ 0.09090909090909091           │ 0.09090909090909091           │ 0.09090909090909091           │ 0.09090909090909091                │ 0.09090909090909091           │ 1.0                           │ 0.09090909090909091           │ 0.09090909090909091           │ 0.09090909090909091           │ 0.09090909090909091           │ 0.0                                │ 0.09090909090909091           │ 0.09090909090909091           │ 0.09090909090909091           │ 0.09090909090909091                   │ 0.09090909090909091                   │ 0.09090909090909091                   │ 0.09090909090909091                   │ 0.09090909090909091                   │ 0.047619047619047616                  │ 0.09090909090909091                   │\n",
      "├────────────────────────┼────────────────────────────────────┼────────────────────────────────────┼────────────────────────────────────┼────────────────────────────────────┼────────────────────────────────────┼────────────────────────────────────┼────────────────────────────────────┼───────────────────────────────────┼───────────────────────────────────┼───────────────────────────────────┼────────────────────────────────────┼───────────────────────────────────┼───────────────────────────────────┼───────────────────────────────────┼─────────────────────────────────┼─────────────────────────────────┼─────────────────────────────────┼────────────────────────────────────┼─────────────────────────────────┼─────────────────────────────────┼─────────────────────────────────┼─────────────────────────────────┼─────────────────────────────────┼─────────────────────────────────┼────────────────────────────────────┼─────────────────────────────────┼─────────────────────────────────┼─────────────────────────────────┼───────────────────────────────┼───────────────────────────────┼───────────────────────────────┼────────────────────────────────────┼───────────────────────────────┼───────────────────────────────┼───────────────────────────────┼───────────────────────────────┼───────────────────────────────┼───────────────────────────────┼────────────────────────────────────┼───────────────────────────────┼───────────────────────────────┼───────────────────────────────┼───────────────────────────────────────┼───────────────────────────────────────┼───────────────────────────────────────┼───────────────────────────────────────┼───────────────────────────────────────┼───────────────────────────────────────┼───────────────────────────────────────┤\n",
      "│ Location(Delhi)        │ 0.09090909090909091                │ 0.09090909090909091                │ 0.0                                │ 0.09090909090909091                │ 0.09090909090909091                │ 0.09090909090909091                │ 0.09090909090909091                │ 0.0                               │ 0.09090909090909091               │ 0.09090909090909091               │ 0.09090909090909091                │ 0.0                               │ 0.0                               │ 0.09090909090909091               │ 0.0                             │ 0.0                             │ 0.0                             │ 0.09090909090909091                │ 0.09090909090909091             │ 0.0                             │ 0.0                             │ 0.09090909090909091             │ 0.09090909090909091             │ 0.09090909090909091             │ 0.03333333333333333                │ 0.0                             │ 0.09090909090909091             │ 0.09090909090909091             │ 0.09090909090909091           │ 0.09090909090909091           │ 0.09090909090909091           │ 0.09090909090909091                │ 0.09090909090909091           │ 0.0                           │ 0.09090909090909091           │ 0.09090909090909091           │ 0.09090909090909091           │ 0.09090909090909091           │ 0.0                                │ 0.09090909090909091           │ 0.09090909090909091           │ 0.09090909090909091           │ 0.09090909090909091                   │ 0.09090909090909091                   │ 0.09090909090909091                   │ 0.09090909090909091                   │ 0.09090909090909091                   │ 0.0                                   │ 0.09090909090909091                   │\n",
      "├────────────────────────┼────────────────────────────────────┼────────────────────────────────────┼────────────────────────────────────┼────────────────────────────────────┼────────────────────────────────────┼────────────────────────────────────┼────────────────────────────────────┼───────────────────────────────────┼───────────────────────────────────┼───────────────────────────────────┼────────────────────────────────────┼───────────────────────────────────┼───────────────────────────────────┼───────────────────────────────────┼─────────────────────────────────┼─────────────────────────────────┼─────────────────────────────────┼────────────────────────────────────┼─────────────────────────────────┼─────────────────────────────────┼─────────────────────────────────┼─────────────────────────────────┼─────────────────────────────────┼─────────────────────────────────┼────────────────────────────────────┼─────────────────────────────────┼─────────────────────────────────┼─────────────────────────────────┼───────────────────────────────┼───────────────────────────────┼───────────────────────────────┼────────────────────────────────────┼───────────────────────────────┼───────────────────────────────┼───────────────────────────────┼───────────────────────────────┼───────────────────────────────┼───────────────────────────────┼────────────────────────────────────┼───────────────────────────────┼───────────────────────────────┼───────────────────────────────┼───────────────────────────────────────┼───────────────────────────────────────┼───────────────────────────────────────┼───────────────────────────────────────┼───────────────────────────────────────┼───────────────────────────────────────┼───────────────────────────────────────┤\n",
      "│ Location(Gurgaon)      │ 0.09090909090909091                │ 0.09090909090909091                │ 0.0                                │ 0.09090909090909091                │ 0.09090909090909091                │ 0.09090909090909091                │ 0.09090909090909091                │ 0.0                               │ 0.09090909090909091               │ 0.09090909090909091               │ 0.09090909090909091                │ 0.0                               │ 0.0                               │ 0.09090909090909091               │ 0.0                             │ 0.0                             │ 0.0                             │ 0.09090909090909091                │ 0.09090909090909091             │ 0.0                             │ 0.0                             │ 0.09090909090909091             │ 0.09090909090909091             │ 0.09090909090909091             │ 0.9333333333333333                 │ 1.0                             │ 0.09090909090909091             │ 0.09090909090909091             │ 0.09090909090909091           │ 0.09090909090909091           │ 0.09090909090909091           │ 0.09090909090909091                │ 0.09090909090909091           │ 0.0                           │ 0.09090909090909091           │ 0.09090909090909091           │ 0.09090909090909091           │ 0.09090909090909091           │ 0.0                                │ 0.09090909090909091           │ 0.09090909090909091           │ 0.09090909090909091           │ 0.09090909090909091                   │ 0.09090909090909091                   │ 0.09090909090909091                   │ 0.09090909090909091                   │ 0.09090909090909091                   │ 0.0                                   │ 0.09090909090909091                   │\n",
      "├────────────────────────┼────────────────────────────────────┼────────────────────────────────────┼────────────────────────────────────┼────────────────────────────────────┼────────────────────────────────────┼────────────────────────────────────┼────────────────────────────────────┼───────────────────────────────────┼───────────────────────────────────┼───────────────────────────────────┼────────────────────────────────────┼───────────────────────────────────┼───────────────────────────────────┼───────────────────────────────────┼─────────────────────────────────┼─────────────────────────────────┼─────────────────────────────────┼────────────────────────────────────┼─────────────────────────────────┼─────────────────────────────────┼─────────────────────────────────┼─────────────────────────────────┼─────────────────────────────────┼─────────────────────────────────┼────────────────────────────────────┼─────────────────────────────────┼─────────────────────────────────┼─────────────────────────────────┼───────────────────────────────┼───────────────────────────────┼───────────────────────────────┼────────────────────────────────────┼───────────────────────────────┼───────────────────────────────┼───────────────────────────────┼───────────────────────────────┼───────────────────────────────┼───────────────────────────────┼────────────────────────────────────┼───────────────────────────────┼───────────────────────────────┼───────────────────────────────┼───────────────────────────────────────┼───────────────────────────────────────┼───────────────────────────────────────┼───────────────────────────────────────┼───────────────────────────────────────┼───────────────────────────────────────┼───────────────────────────────────────┤\n",
      "│ Location(Gurgaonr)     │ 0.09090909090909091                │ 0.09090909090909091                │ 0.0                                │ 0.09090909090909091                │ 0.09090909090909091                │ 0.09090909090909091                │ 0.09090909090909091                │ 0.0                               │ 0.09090909090909091               │ 0.09090909090909091               │ 0.09090909090909091                │ 0.0                               │ 0.0                               │ 0.09090909090909091               │ 0.0                             │ 0.0                             │ 0.0                             │ 0.09090909090909091                │ 0.09090909090909091             │ 0.0                             │ 0.0                             │ 0.09090909090909091             │ 0.09090909090909091             │ 0.09090909090909091             │ 0.03333333333333333                │ 0.0                             │ 0.09090909090909091             │ 0.09090909090909091             │ 0.09090909090909091           │ 0.09090909090909091           │ 0.09090909090909091           │ 0.09090909090909091                │ 0.09090909090909091           │ 0.0                           │ 0.09090909090909091           │ 0.09090909090909091           │ 0.09090909090909091           │ 0.09090909090909091           │ 0.0                                │ 0.09090909090909091           │ 0.09090909090909091           │ 0.09090909090909091           │ 0.09090909090909091                   │ 0.09090909090909091                   │ 0.09090909090909091                   │ 0.09090909090909091                   │ 0.09090909090909091                   │ 0.0                                   │ 0.09090909090909091                   │\n",
      "├────────────────────────┼────────────────────────────────────┼────────────────────────────────────┼────────────────────────────────────┼────────────────────────────────────┼────────────────────────────────────┼────────────────────────────────────┼────────────────────────────────────┼───────────────────────────────────┼───────────────────────────────────┼───────────────────────────────────┼────────────────────────────────────┼───────────────────────────────────┼───────────────────────────────────┼───────────────────────────────────┼─────────────────────────────────┼─────────────────────────────────┼─────────────────────────────────┼────────────────────────────────────┼─────────────────────────────────┼─────────────────────────────────┼─────────────────────────────────┼─────────────────────────────────┼─────────────────────────────────┼─────────────────────────────────┼────────────────────────────────────┼─────────────────────────────────┼─────────────────────────────────┼─────────────────────────────────┼───────────────────────────────┼───────────────────────────────┼───────────────────────────────┼────────────────────────────────────┼───────────────────────────────┼───────────────────────────────┼───────────────────────────────┼───────────────────────────────┼───────────────────────────────┼───────────────────────────────┼────────────────────────────────────┼───────────────────────────────┼───────────────────────────────┼───────────────────────────────┼───────────────────────────────────────┼───────────────────────────────────────┼───────────────────────────────────────┼───────────────────────────────────────┼───────────────────────────────────────┼───────────────────────────────────────┼───────────────────────────────────────┤\n",
      "│ Location(Hyderabad)    │ 0.09090909090909091                │ 0.09090909090909091                │ 0.0                                │ 0.09090909090909091                │ 0.09090909090909091                │ 0.09090909090909091                │ 0.09090909090909091                │ 0.0                               │ 0.09090909090909091               │ 0.09090909090909091               │ 0.09090909090909091                │ 0.0                               │ 0.0                               │ 0.09090909090909091               │ 0.0                             │ 0.0                             │ 0.0                             │ 0.09090909090909091                │ 0.09090909090909091             │ 0.14893617021276595             │ 0.0                             │ 0.09090909090909091             │ 0.09090909090909091             │ 0.09090909090909091             │ 0.0                                │ 0.0                             │ 0.09090909090909091             │ 0.09090909090909091             │ 0.09090909090909091           │ 0.09090909090909091           │ 0.09090909090909091           │ 0.09090909090909091                │ 0.09090909090909091           │ 0.0                           │ 0.09090909090909091           │ 0.09090909090909091           │ 0.09090909090909091           │ 0.09090909090909091           │ 0.0                                │ 0.09090909090909091           │ 0.09090909090909091           │ 0.09090909090909091           │ 0.09090909090909091                   │ 0.09090909090909091                   │ 0.09090909090909091                   │ 0.09090909090909091                   │ 0.09090909090909091                   │ 0.8095238095238095                    │ 0.09090909090909091                   │\n",
      "├────────────────────────┼────────────────────────────────────┼────────────────────────────────────┼────────────────────────────────────┼────────────────────────────────────┼────────────────────────────────────┼────────────────────────────────────┼────────────────────────────────────┼───────────────────────────────────┼───────────────────────────────────┼───────────────────────────────────┼────────────────────────────────────┼───────────────────────────────────┼───────────────────────────────────┼───────────────────────────────────┼─────────────────────────────────┼─────────────────────────────────┼─────────────────────────────────┼────────────────────────────────────┼─────────────────────────────────┼─────────────────────────────────┼─────────────────────────────────┼─────────────────────────────────┼─────────────────────────────────┼─────────────────────────────────┼────────────────────────────────────┼─────────────────────────────────┼─────────────────────────────────┼─────────────────────────────────┼───────────────────────────────┼───────────────────────────────┼───────────────────────────────┼────────────────────────────────────┼───────────────────────────────┼───────────────────────────────┼───────────────────────────────┼───────────────────────────────┼───────────────────────────────┼───────────────────────────────┼────────────────────────────────────┼───────────────────────────────┼───────────────────────────────┼───────────────────────────────┼───────────────────────────────────────┼───────────────────────────────────────┼───────────────────────────────────────┼───────────────────────────────────────┼───────────────────────────────────────┼───────────────────────────────────────┼───────────────────────────────────────┤\n",
      "│ Location(Noida)        │ 0.09090909090909091                │ 0.09090909090909091                │ 0.0                                │ 0.09090909090909091                │ 0.09090909090909091                │ 0.09090909090909091                │ 0.09090909090909091                │ 0.0                               │ 0.09090909090909091               │ 0.09090909090909091               │ 0.09090909090909091                │ 0.0                               │ 0.0                               │ 0.09090909090909091               │ 0.0                             │ 0.0                             │ 0.0                             │ 0.09090909090909091                │ 0.09090909090909091             │ 0.0                             │ 0.0                             │ 0.09090909090909091             │ 0.09090909090909091             │ 0.09090909090909091             │ 0.0                                │ 0.0                             │ 0.09090909090909091             │ 0.09090909090909091             │ 0.09090909090909091           │ 0.09090909090909091           │ 0.09090909090909091           │ 0.09090909090909091                │ 0.09090909090909091           │ 0.0                           │ 0.09090909090909091           │ 0.09090909090909091           │ 0.09090909090909091           │ 0.09090909090909091           │ 1.0                                │ 0.09090909090909091           │ 0.09090909090909091           │ 0.09090909090909091           │ 0.09090909090909091                   │ 0.09090909090909091                   │ 0.09090909090909091                   │ 0.09090909090909091                   │ 0.09090909090909091                   │ 0.0                                   │ 0.09090909090909091                   │\n",
      "├────────────────────────┼────────────────────────────────────┼────────────────────────────────────┼────────────────────────────────────┼────────────────────────────────────┼────────────────────────────────────┼────────────────────────────────────┼────────────────────────────────────┼───────────────────────────────────┼───────────────────────────────────┼───────────────────────────────────┼────────────────────────────────────┼───────────────────────────────────┼───────────────────────────────────┼───────────────────────────────────┼─────────────────────────────────┼─────────────────────────────────┼─────────────────────────────────┼────────────────────────────────────┼─────────────────────────────────┼─────────────────────────────────┼─────────────────────────────────┼─────────────────────────────────┼─────────────────────────────────┼─────────────────────────────────┼────────────────────────────────────┼─────────────────────────────────┼─────────────────────────────────┼─────────────────────────────────┼───────────────────────────────┼───────────────────────────────┼───────────────────────────────┼────────────────────────────────────┼───────────────────────────────┼───────────────────────────────┼───────────────────────────────┼───────────────────────────────┼───────────────────────────────┼───────────────────────────────┼────────────────────────────────────┼───────────────────────────────┼───────────────────────────────┼───────────────────────────────┼───────────────────────────────────────┼───────────────────────────────────────┼───────────────────────────────────────┼───────────────────────────────────────┼───────────────────────────────────────┼───────────────────────────────────────┼───────────────────────────────────────┤\n",
      "│ Location(chennai)      │ 0.09090909090909091                │ 0.09090909090909091                │ 0.0                                │ 0.09090909090909091                │ 0.09090909090909091                │ 0.09090909090909091                │ 0.09090909090909091                │ 0.0                               │ 0.09090909090909091               │ 0.09090909090909091               │ 0.09090909090909091                │ 0.0                               │ 0.0                               │ 0.09090909090909091               │ 0.12112676056338029             │ 0.0                             │ 0.0                             │ 0.09090909090909091                │ 0.09090909090909091             │ 0.0                             │ 0.0                             │ 0.09090909090909091             │ 0.09090909090909091             │ 0.09090909090909091             │ 0.0                                │ 0.0                             │ 0.09090909090909091             │ 0.09090909090909091             │ 0.09090909090909091           │ 0.09090909090909091           │ 0.09090909090909091           │ 0.09090909090909091                │ 0.09090909090909091           │ 0.0                           │ 0.09090909090909091           │ 0.09090909090909091           │ 0.09090909090909091           │ 0.09090909090909091           │ 0.0                                │ 0.09090909090909091           │ 0.09090909090909091           │ 0.09090909090909091           │ 0.09090909090909091                   │ 0.09090909090909091                   │ 0.09090909090909091                   │ 0.09090909090909091                   │ 0.09090909090909091                   │ 0.0                                   │ 0.09090909090909091                   │\n",
      "├────────────────────────┼────────────────────────────────────┼────────────────────────────────────┼────────────────────────────────────┼────────────────────────────────────┼────────────────────────────────────┼────────────────────────────────────┼────────────────────────────────────┼───────────────────────────────────┼───────────────────────────────────┼───────────────────────────────────┼────────────────────────────────────┼───────────────────────────────────┼───────────────────────────────────┼───────────────────────────────────┼─────────────────────────────────┼─────────────────────────────────┼─────────────────────────────────┼────────────────────────────────────┼─────────────────────────────────┼─────────────────────────────────┼─────────────────────────────────┼─────────────────────────────────┼─────────────────────────────────┼─────────────────────────────────┼────────────────────────────────────┼─────────────────────────────────┼─────────────────────────────────┼─────────────────────────────────┼───────────────────────────────┼───────────────────────────────┼───────────────────────────────┼────────────────────────────────────┼───────────────────────────────┼───────────────────────────────┼───────────────────────────────┼───────────────────────────────┼───────────────────────────────┼───────────────────────────────┼────────────────────────────────────┼───────────────────────────────┼───────────────────────────────┼───────────────────────────────┼───────────────────────────────────────┼───────────────────────────────────────┼───────────────────────────────────────┼───────────────────────────────────────┼───────────────────────────────────────┼───────────────────────────────────────┼───────────────────────────────────────┤\n",
      "│ Location(chennai )     │ 0.09090909090909091                │ 0.09090909090909091                │ 0.0                                │ 0.09090909090909091                │ 0.09090909090909091                │ 0.09090909090909091                │ 0.09090909090909091                │ 0.0                               │ 0.09090909090909091               │ 0.09090909090909091               │ 0.09090909090909091                │ 0.0                               │ 0.0                               │ 0.09090909090909091               │ 0.004225352112676056            │ 0.0                             │ 0.0                             │ 0.09090909090909091                │ 0.09090909090909091             │ 0.0                             │ 0.0                             │ 0.09090909090909091             │ 0.09090909090909091             │ 0.09090909090909091             │ 0.0                                │ 0.0                             │ 0.09090909090909091             │ 0.09090909090909091             │ 0.09090909090909091           │ 0.09090909090909091           │ 0.09090909090909091           │ 0.09090909090909091                │ 0.09090909090909091           │ 0.0                           │ 0.09090909090909091           │ 0.09090909090909091           │ 0.09090909090909091           │ 0.09090909090909091           │ 0.0                                │ 0.09090909090909091           │ 0.09090909090909091           │ 0.09090909090909091           │ 0.09090909090909091                   │ 0.09090909090909091                   │ 0.09090909090909091                   │ 0.09090909090909091                   │ 0.09090909090909091                   │ 0.0                                   │ 0.09090909090909091                   │\n",
      "╘════════════════════════╧════════════════════════════════════╧════════════════════════════════════╧════════════════════════════════════╧════════════════════════════════════╧════════════════════════════════════╧════════════════════════════════════╧════════════════════════════════════╧═══════════════════════════════════╧═══════════════════════════════════╧═══════════════════════════════════╧════════════════════════════════════╧═══════════════════════════════════╧═══════════════════════════════════╧═══════════════════════════════════╧═════════════════════════════════╧═════════════════════════════════╧═════════════════════════════════╧════════════════════════════════════╧═════════════════════════════════╧═════════════════════════════════╧═════════════════════════════════╧═════════════════════════════════╧═════════════════════════════════╧═════════════════════════════════╧════════════════════════════════════╧═════════════════════════════════╧═════════════════════════════════╧═════════════════════════════════╧═══════════════════════════════╧═══════════════════════════════╧═══════════════════════════════╧════════════════════════════════════╧═══════════════════════════════╧═══════════════════════════════╧═══════════════════════════════╧═══════════════════════════════╧═══════════════════════════════╧═══════════════════════════════╧════════════════════════════════════╧═══════════════════════════════╧═══════════════════════════════╧═══════════════════════════════╧═══════════════════════════════════════╧═══════════════════════════════════════╧═══════════════════════════════════════╧═══════════════════════════════════════╧═══════════════════════════════════════╧═══════════════════════════════════════╧═══════════════════════════════════════╛\n"
     ]
    }
   ],
   "source": [
    "print(model.get_cpds()[6])"
   ]
  },
  {
   "cell_type": "code",
   "execution_count": 197,
   "metadata": {},
   "outputs": [
    {
     "name": "stdout",
     "output_type": "stream",
     "text": [
      "╒═════════════════════════╤═══════════════════╤══════════════╕\n",
      "│ Gender                  │ Gender(Female)    │ Gender(Male) │\n",
      "├─────────────────────────┼───────────────────┼──────────────┤\n",
      "│ Marital Status(Married) │ 0.582089552238806 │ 0.321875     │\n",
      "├─────────────────────────┼───────────────────┼──────────────┤\n",
      "│ Marital Status(Single)  │ 0.417910447761194 │ 0.678125     │\n",
      "╘═════════════════════════╧═══════════════════╧══════════════╛\n"
     ]
    }
   ],
   "source": [
    "print(model.get_cpds()[7])"
   ]
  },
  {
   "cell_type": "code",
   "execution_count": 198,
   "metadata": {},
   "outputs": [
    {
     "name": "stdout",
     "output_type": "stream",
     "text": [
      "╒═══════════╤════════════╕\n",
      "│ Month(1)  │ 0.0781759  │\n",
      "├───────────┼────────────┤\n",
      "│ Month(2)  │ 0.118893   │\n",
      "├───────────┼────────────┤\n",
      "│ Month(3)  │ 0.0871336  │\n",
      "├───────────┼────────────┤\n",
      "│ Month(4)  │ 0.236156   │\n",
      "├───────────┼────────────┤\n",
      "│ Month(5)  │ 0.0936482  │\n",
      "├───────────┼────────────┤\n",
      "│ Month(6)  │ 0.258958   │\n",
      "├───────────┼────────────┤\n",
      "│ Month(7)  │ 0.0374593  │\n",
      "├───────────┼────────────┤\n",
      "│ Month(8)  │ 0.0390879  │\n",
      "├───────────┼────────────┤\n",
      "│ Month(9)  │ 0.0211726  │\n",
      "├───────────┼────────────┤\n",
      "│ Month(10) │ 0.00732899 │\n",
      "├───────────┼────────────┤\n",
      "│ Month(11) │ 0.0154723  │\n",
      "├───────────┼────────────┤\n",
      "│ Month(12) │ 0.00651466 │\n",
      "╘═══════════╧════════════╛\n"
     ]
    }
   ],
   "source": [
    "print(model.get_cpds()[8])"
   ]
  },
  {
   "cell_type": "code",
   "execution_count": 199,
   "metadata": {},
   "outputs": [
    {
     "name": "stdout",
     "output_type": "stream",
     "text": [
      "╒════════════════════════════════════════════════════════════╤═════════════╕\n",
      "│ Nature of Skillset(- SAPBO, Informatica)                   │ 0.00325733  │\n",
      "├────────────────────────────────────────────────────────────┼─────────────┤\n",
      "│ Nature of Skillset(10.00 AM)                               │ 0.000814332 │\n",
      "├────────────────────────────────────────────────────────────┼─────────────┤\n",
      "│ Nature of Skillset(11.30 AM)                               │ 0.00162866  │\n",
      "├────────────────────────────────────────────────────────────┼─────────────┤\n",
      "│ Nature of Skillset(11.30 Am)                               │ 0.000814332 │\n",
      "├────────────────────────────────────────────────────────────┼─────────────┤\n",
      "│ Nature of Skillset(12.30 Pm)                               │ 0.000814332 │\n",
      "├────────────────────────────────────────────────────────────┼─────────────┤\n",
      "│ Nature of Skillset(9.00 Am)                                │ 0.000814332 │\n",
      "├────────────────────────────────────────────────────────────┼─────────────┤\n",
      "│ Nature of Skillset(9.30 AM)                                │ 0.000814332 │\n",
      "├────────────────────────────────────────────────────────────┼─────────────┤\n",
      "│ Nature of Skillset(ALS Testing)                            │ 0.012215    │\n",
      "├────────────────────────────────────────────────────────────┼─────────────┤\n",
      "│ Nature of Skillset(AML/KYC/CDD)                            │ 0.0684039   │\n",
      "├────────────────────────────────────────────────────────────┼─────────────┤\n",
      "│ Nature of Skillset(Accounting Operations)                  │ 0.0700326   │\n",
      "├────────────────────────────────────────────────────────────┼─────────────┤\n",
      "│ Nature of Skillset(Analytical R & D)                       │ 0.0105863   │\n",
      "├────────────────────────────────────────────────────────────┼─────────────┤\n",
      "│ Nature of Skillset(Analytical R&D)                         │ 0.002443    │\n",
      "├────────────────────────────────────────────────────────────┼─────────────┤\n",
      "│ Nature of Skillset(Automation Testing Java)                │ 0.00570033  │\n",
      "├────────────────────────────────────────────────────────────┼─────────────┤\n",
      "│ Nature of Skillset(Banking Operations)                     │ 0.0179153   │\n",
      "├────────────────────────────────────────────────────────────┼─────────────┤\n",
      "│ Nature of Skillset(Banking operations)                     │ 0.00162866  │\n",
      "├────────────────────────────────────────────────────────────┼─────────────┤\n",
      "│ Nature of Skillset(BaseSAS Program/ Reporting)             │ 0.000814332 │\n",
      "├────────────────────────────────────────────────────────────┼─────────────┤\n",
      "│ Nature of Skillset(Biosimilars)                            │ 0.000814332 │\n",
      "├────────────────────────────────────────────────────────────┼─────────────┤\n",
      "│ Nature of Skillset(Biosimiliars)                           │ 0.00488599  │\n",
      "├────────────────────────────────────────────────────────────┼─────────────┤\n",
      "│ Nature of Skillset(Biosimillar)                            │ 0.002443    │\n",
      "├────────────────────────────────────────────────────────────┼─────────────┤\n",
      "│ Nature of Skillset(CDD KYC)                                │ 0.0423453   │\n",
      "├────────────────────────────────────────────────────────────┼─────────────┤\n",
      "│ Nature of Skillset(COTS)                                   │ 0.00325733  │\n",
      "├────────────────────────────────────────────────────────────┼─────────────┤\n",
      "│ Nature of Skillset(COTS Developer)                         │ 0.0105863   │\n",
      "├────────────────────────────────────────────────────────────┼─────────────┤\n",
      "│ Nature of Skillset(Core Java)                              │ 0.0138436   │\n",
      "├────────────────────────────────────────────────────────────┼─────────────┤\n",
      "│ Nature of Skillset(Dot Net)                                │ 0.00732899  │\n",
      "├────────────────────────────────────────────────────────────┼─────────────┤\n",
      "│ Nature of Skillset(EMEA)                                   │ 0.00488599  │\n",
      "├────────────────────────────────────────────────────────────┼─────────────┤\n",
      "│ Nature of Skillset(ETL)                                    │ 0.00732899  │\n",
      "├────────────────────────────────────────────────────────────┼─────────────┤\n",
      "│ Nature of Skillset(Fresher)                                │ 0.0700326   │\n",
      "├────────────────────────────────────────────────────────────┼─────────────┤\n",
      "│ Nature of Skillset(Global Labelling)                       │ 0.00488599  │\n",
      "├────────────────────────────────────────────────────────────┼─────────────┤\n",
      "│ Nature of Skillset(Hadoop)                                 │ 0.00977199  │\n",
      "├────────────────────────────────────────────────────────────┼─────────────┤\n",
      "│ Nature of Skillset(JAVA, J2ee)                             │ 0.000814332 │\n",
      "├────────────────────────────────────────────────────────────┼─────────────┤\n",
      "│ Nature of Skillset(JAVA,J2ee)                              │ 0.000814332 │\n",
      "├────────────────────────────────────────────────────────────┼─────────────┤\n",
      "│ Nature of Skillset(JAVA,SQL)                               │ 0.00407166  │\n",
      "├────────────────────────────────────────────────────────────┼─────────────┤\n",
      "│ Nature of Skillset(JAVA/J2EE)                              │ 0.002443    │\n",
      "├────────────────────────────────────────────────────────────┼─────────────┤\n",
      "│ Nature of Skillset(JAVA/J2EE/Struts/Hibernate)             │ 0.179153    │\n",
      "├────────────────────────────────────────────────────────────┼─────────────┤\n",
      "│ Nature of Skillset(JAVA/SPRING/HIBERNATE/JSF)              │ 0.034202    │\n",
      "├────────────────────────────────────────────────────────────┼─────────────┤\n",
      "│ Nature of Skillset(Java)                                   │ 0.017101    │\n",
      "├────────────────────────────────────────────────────────────┼─────────────┤\n",
      "│ Nature of Skillset(Java )                                  │ 0.00814332  │\n",
      "├────────────────────────────────────────────────────────────┼─────────────┤\n",
      "│ Nature of Skillset(Java ,J2ee)                             │ 0.00325733  │\n",
      "├────────────────────────────────────────────────────────────┼─────────────┤\n",
      "│ Nature of Skillset(Java Developer)                         │ 0.0203583   │\n",
      "├────────────────────────────────────────────────────────────┼─────────────┤\n",
      "│ Nature of Skillset(Java J2EE)                              │ 0.026873    │\n",
      "├────────────────────────────────────────────────────────────┼─────────────┤\n",
      "│ Nature of Skillset(Java J2ee)                              │ 0.0130293   │\n",
      "├────────────────────────────────────────────────────────────┼─────────────┤\n",
      "│ Nature of Skillset(Java JSF)                               │ 0.00325733  │\n",
      "├────────────────────────────────────────────────────────────┼─────────────┤\n",
      "│ Nature of Skillset(Java Tech Lead)                         │ 0.00488599  │\n",
      "├────────────────────────────────────────────────────────────┼─────────────┤\n",
      "│ Nature of Skillset(Java, J2Ee)                             │ 0.000814332 │\n",
      "├────────────────────────────────────────────────────────────┼─────────────┤\n",
      "│ Nature of Skillset(Java, SQL)                              │ 0.002443    │\n",
      "├────────────────────────────────────────────────────────────┼─────────────┤\n",
      "│ Nature of Skillset(Java, Spring, Hibernate)                │ 0.00162866  │\n",
      "├────────────────────────────────────────────────────────────┼─────────────┤\n",
      "│ Nature of Skillset(Java, XML, Struts, hibernate)           │ 0.002443    │\n",
      "├────────────────────────────────────────────────────────────┼─────────────┤\n",
      "│ Nature of Skillset(Java,J2EE)                              │ 0.00407166  │\n",
      "├────────────────────────────────────────────────────────────┼─────────────┤\n",
      "│ Nature of Skillset(Java,J2ee, JSF)                         │ 0.00488599  │\n",
      "├────────────────────────────────────────────────────────────┼─────────────┤\n",
      "│ Nature of Skillset(Java,SQL)                               │ 0.002443    │\n",
      "├────────────────────────────────────────────────────────────┼─────────────┤\n",
      "│ Nature of Skillset(Java,spring,hibernate)                  │ 0.002443    │\n",
      "├────────────────────────────────────────────────────────────┼─────────────┤\n",
      "│ Nature of Skillset(Java-SAS)                               │ 0.00407166  │\n",
      "├────────────────────────────────────────────────────────────┼─────────────┤\n",
      "│ Nature of Skillset(Java/J2ee)                              │ 0.00570033  │\n",
      "├────────────────────────────────────────────────────────────┼─────────────┤\n",
      "│ Nature of Skillset(Java/J2ee/Core Java)                    │ 0.00488599  │\n",
      "├────────────────────────────────────────────────────────────┼─────────────┤\n",
      "│ Nature of Skillset(L & L)                                  │ 0.00162866  │\n",
      "├────────────────────────────────────────────────────────────┼─────────────┤\n",
      "│ Nature of Skillset(LCM -Manager)                           │ 0.00162866  │\n",
      "├────────────────────────────────────────────────────────────┼─────────────┤\n",
      "│ Nature of Skillset(Lending & Liability)                    │ 0.00325733  │\n",
      "├────────────────────────────────────────────────────────────┼─────────────┤\n",
      "│ Nature of Skillset(Lending And Liabilities)                │ 0.002443    │\n",
      "├────────────────────────────────────────────────────────────┼─────────────┤\n",
      "│ Nature of Skillset(Lending and Liabilities)                │ 0.0179153   │\n",
      "├────────────────────────────────────────────────────────────┼─────────────┤\n",
      "│ Nature of Skillset(Lending&Liablities)                     │ 0.00162866  │\n",
      "├────────────────────────────────────────────────────────────┼─────────────┤\n",
      "│ Nature of Skillset(Licensing – RA)                         │ 0.00325733  │\n",
      "├────────────────────────────────────────────────────────────┼─────────────┤\n",
      "│ Nature of Skillset(Manager)                                │ 0.000814332 │\n",
      "├────────────────────────────────────────────────────────────┼─────────────┤\n",
      "│ Nature of Skillset(Oracle)                                 │ 0.0350163   │\n",
      "├────────────────────────────────────────────────────────────┼─────────────┤\n",
      "│ Nature of Skillset(Oracle Plsql)                           │ 0.0203583   │\n",
      "├────────────────────────────────────────────────────────────┼─────────────┤\n",
      "│ Nature of Skillset(Product Control)                        │ 0.00407166  │\n",
      "├────────────────────────────────────────────────────────────┼─────────────┤\n",
      "│ Nature of Skillset(Production)                             │ 0.000814332 │\n",
      "├────────────────────────────────────────────────────────────┼─────────────┤\n",
      "│ Nature of Skillset(Production Support - SCCM)              │ 0.00162866  │\n",
      "├────────────────────────────────────────────────────────────┼─────────────┤\n",
      "│ Nature of Skillset(Publishing)                             │ 0.00732899  │\n",
      "├────────────────────────────────────────────────────────────┼─────────────┤\n",
      "│ Nature of Skillset(RA Label)                               │ 0.00162866  │\n",
      "├────────────────────────────────────────────────────────────┼─────────────┤\n",
      "│ Nature of Skillset(RA Publishing)                          │ 0.00732899  │\n",
      "├────────────────────────────────────────────────────────────┼─────────────┤\n",
      "│ Nature of Skillset(Regulatory)                             │ 0.00977199  │\n",
      "├────────────────────────────────────────────────────────────┼─────────────┤\n",
      "│ Nature of Skillset(Routine)                                │ 0.0382736   │\n",
      "├────────────────────────────────────────────────────────────┼─────────────┤\n",
      "│ Nature of Skillset(SAS)                                    │ 0.0179153   │\n",
      "├────────────────────────────────────────────────────────────┼─────────────┤\n",
      "│ Nature of Skillset(SCCM)                                   │ 0.0114007   │\n",
      "├────────────────────────────────────────────────────────────┼─────────────┤\n",
      "│ Nature of Skillset(SCCM – SQL)                             │ 0.000814332 │\n",
      "├────────────────────────────────────────────────────────────┼─────────────┤\n",
      "│ Nature of Skillset(SCCM – Sharepoint)                      │ 0.000814332 │\n",
      "├────────────────────────────────────────────────────────────┼─────────────┤\n",
      "│ Nature of Skillset(SCCM-(Network, sharepoint,ms exchange)) │ 0.000814332 │\n",
      "├────────────────────────────────────────────────────────────┼─────────────┤\n",
      "│ Nature of Skillset(SCCm- Desktop support)                  │ 0.00325733  │\n",
      "├────────────────────────────────────────────────────────────┼─────────────┤\n",
      "│ Nature of Skillset(Sccm- networking)                       │ 0.000814332 │\n",
      "├────────────────────────────────────────────────────────────┼─────────────┤\n",
      "│ Nature of Skillset(Senior Analyst)                         │ 0.00407166  │\n",
      "├────────────────────────────────────────────────────────────┼─────────────┤\n",
      "│ Nature of Skillset(Senior software engineer-Mednet)        │ 0.012215    │\n",
      "├────────────────────────────────────────────────────────────┼─────────────┤\n",
      "│ Nature of Skillset(Sr Automation Testing)                  │ 0.0105863   │\n",
      "├────────────────────────────────────────────────────────────┼─────────────┤\n",
      "│ Nature of Skillset(Submission Management)                  │ 0.00162866  │\n",
      "├────────────────────────────────────────────────────────────┼─────────────┤\n",
      "│ Nature of Skillset(T-24 developer)                         │ 0.012215    │\n",
      "├────────────────────────────────────────────────────────────┼─────────────┤\n",
      "│ Nature of Skillset(TL)                                     │ 0.002443    │\n",
      "├────────────────────────────────────────────────────────────┼─────────────┤\n",
      "│ Nature of Skillset(Tech Lead- Mednet)                      │ 0.000814332 │\n",
      "├────────────────────────────────────────────────────────────┼─────────────┤\n",
      "│ Nature of Skillset(Tech lead-Mednet)                       │ 0.00651466  │\n",
      "├────────────────────────────────────────────────────────────┼─────────────┤\n",
      "│ Nature of Skillset(Technical Lead)                         │ 0.000814332 │\n",
      "├────────────────────────────────────────────────────────────┼─────────────┤\n",
      "│ Nature of Skillset(generic drugs – RA)                     │ 0.00325733  │\n",
      "├────────────────────────────────────────────────────────────┼─────────────┤\n",
      "│ Nature of Skillset(production)                             │ 0.00570033  │\n",
      "├────────────────────────────────────────────────────────────┼─────────────┤\n",
      "│ Nature of Skillset(sccm)                                   │ 0.000814332 │\n",
      "├────────────────────────────────────────────────────────────┼─────────────┤\n",
      "│ Nature of Skillset(testing)                                │ 0.00895765  │\n",
      "╘════════════════════════════════════════════════════════════╧═════════════╛\n"
     ]
    }
   ],
   "source": [
    "print(model.get_cpds()[9])"
   ]
  },
  {
   "cell_type": "code",
   "execution_count": 200,
   "metadata": {
    "scrolled": true
   },
   "outputs": [
    {
     "name": "stderr",
     "output_type": "stream",
     "text": [
      "IOPub data rate exceeded.\n",
      "The notebook server will temporarily stop sending output\n",
      "to the client in order to avoid crashing it.\n",
      "To change this limit, set the config variable\n",
      "`--NotebookApp.iopub_data_rate_limit`.\n",
      "\n",
      "Current values:\n",
      "NotebookApp.iopub_data_rate_limit=1000000.0 (bytes/sec)\n",
      "NotebookApp.rate_limit_window=3.0 (secs)\n",
      "\n"
     ]
    }
   ],
   "source": [
    "print(model.get_cpds()[10])"
   ]
  },
  {
   "cell_type": "code",
   "execution_count": 201,
   "metadata": {},
   "outputs": [
    {
     "name": "stdout",
     "output_type": "stream",
     "text": [
      "╒════════════════════════════════════════════╤══════════════════════════════════════════╤══════════════════════════════╤══════════════════════════════╤══════════════════════════════╤══════════════════════════════╤═════════════════════════════╤═════════════════════════════╤═════════════════════════════════╤═════════════════════════════════╤═══════════════════════════════════════════╤══════════════════════════════════════╤════════════════════════════════════╤═════════════════════════════════════════════╤════════════════════════════════════════╤════════════════════════════════════════╤════════════════════════════════════════════════╤═════════════════════════════════╤══════════════════════════════════╤═════════════════════════════════╤═════════════════════════════╤══════════════════════════╤════════════════════════════════════╤═══════════════════════════════╤═════════════════════════════╤══════════════════════════╤═════════════════════════╤═════════════════════════════╤══════════════════════════════════════╤════════════════════════════╤════════════════════════════════╤═══════════════════════════════╤══════════════════════════════╤═══════════════════════════════╤════════════════════════════════════════════════╤═══════════════════════════════════════════════╤══════════════════════════╤═══════════════════════════╤════════════════════════════════╤════════════════════════════════════╤═══════════════════════════════╤═══════════════════════════════╤══════════════════════════════╤════════════════════════════════════╤════════════════════════════════╤═══════════════════════════════╤═════════════════════════════════════════════╤══════════════════════════════════════════════════╤═══════════════════════════════╤════════════════════════════════════╤══════════════════════════════╤═══════════════════════════════════════════╤══════════════════════════════╤═══════════════════════════════╤═════════════════════════════════════════╤═══════════════════════════╤══════════════════════════════════╤═════════════════════════════════════════╤═════════════════════════════════════════════╤═════════════════════════════════════════════╤════════════════════════════════════════╤════════════════════════════════════╤═════════════════════════════╤════════════════════════════╤══════════════════════════════════╤═════════════════════════════════════╤════════════════════════════════╤═══════════════════════════════════════════════╤════════════════════════════════╤══════════════════════════════╤═══════════════════════════════════╤════════════════════════════════╤═════════════════════════════╤═════════════════════════╤══════════════════════════╤════════════════════════════════╤═══════════════════════════════════════╤════════════════════════════════════════════════════════════╤═══════════════════════════════════════════╤══════════════════════════════════════╤════════════════════════════════════╤═════════════════════════════════════════════════════╤═══════════════════════════════════════════╤═══════════════════════════════════════════╤════════════════════════════════════╤════════════════════════╤═══════════════════════════════════════╤══════════════════════════════════════╤════════════════════════════════════╤════════════════════════════════════════╤════════════════════════════════╤══════════════════════════╤═════════════════════════════╕\n",
      "│ Nature of Skillset                         │ Nature of Skillset(- SAPBO, Informatica) │ Nature of Skillset(10.00 AM) │ Nature of Skillset(11.30 AM) │ Nature of Skillset(11.30 Am) │ Nature of Skillset(12.30 Pm) │ Nature of Skillset(9.00 Am) │ Nature of Skillset(9.30 AM) │ Nature of Skillset(ALS Testing) │ Nature of Skillset(AML/KYC/CDD) │ Nature of Skillset(Accounting Operations) │ Nature of Skillset(Analytical R & D) │ Nature of Skillset(Analytical R&D) │ Nature of Skillset(Automation Testing Java) │ Nature of Skillset(Banking Operations) │ Nature of Skillset(Banking operations) │ Nature of Skillset(BaseSAS Program/ Reporting) │ Nature of Skillset(Biosimilars) │ Nature of Skillset(Biosimiliars) │ Nature of Skillset(Biosimillar) │ Nature of Skillset(CDD KYC) │ Nature of Skillset(COTS) │ Nature of Skillset(COTS Developer) │ Nature of Skillset(Core Java) │ Nature of Skillset(Dot Net) │ Nature of Skillset(EMEA) │ Nature of Skillset(ETL) │ Nature of Skillset(Fresher) │ Nature of Skillset(Global Labelling) │ Nature of Skillset(Hadoop) │ Nature of Skillset(JAVA, J2ee) │ Nature of Skillset(JAVA,J2ee) │ Nature of Skillset(JAVA,SQL) │ Nature of Skillset(JAVA/J2EE) │ Nature of Skillset(JAVA/J2EE/Struts/Hibernate) │ Nature of Skillset(JAVA/SPRING/HIBERNATE/JSF) │ Nature of Skillset(Java) │ Nature of Skillset(Java ) │ Nature of Skillset(Java ,J2ee) │ Nature of Skillset(Java Developer) │ Nature of Skillset(Java J2EE) │ Nature of Skillset(Java J2ee) │ Nature of Skillset(Java JSF) │ Nature of Skillset(Java Tech Lead) │ Nature of Skillset(Java, J2Ee) │ Nature of Skillset(Java, SQL) │ Nature of Skillset(Java, Spring, Hibernate) │ Nature of Skillset(Java, XML, Struts, hibernate) │ Nature of Skillset(Java,J2EE) │ Nature of Skillset(Java,J2ee, JSF) │ Nature of Skillset(Java,SQL) │ Nature of Skillset(Java,spring,hibernate) │ Nature of Skillset(Java-SAS) │ Nature of Skillset(Java/J2ee) │ Nature of Skillset(Java/J2ee/Core Java) │ Nature of Skillset(L & L) │ Nature of Skillset(LCM -Manager) │ Nature of Skillset(Lending & Liability) │ Nature of Skillset(Lending And Liabilities) │ Nature of Skillset(Lending and Liabilities) │ Nature of Skillset(Lending&Liablities) │ Nature of Skillset(Licensing – RA) │ Nature of Skillset(Manager) │ Nature of Skillset(Oracle) │ Nature of Skillset(Oracle Plsql) │ Nature of Skillset(Product Control) │ Nature of Skillset(Production) │ Nature of Skillset(Production Support - SCCM) │ Nature of Skillset(Publishing) │ Nature of Skillset(RA Label) │ Nature of Skillset(RA Publishing) │ Nature of Skillset(Regulatory) │ Nature of Skillset(Routine) │ Nature of Skillset(SAS) │ Nature of Skillset(SCCM) │ Nature of Skillset(SCCM – SQL) │ Nature of Skillset(SCCM – Sharepoint) │ Nature of Skillset(SCCM-(Network, sharepoint,ms exchange)) │ Nature of Skillset(SCCm- Desktop support) │ Nature of Skillset(Sccm- networking) │ Nature of Skillset(Senior Analyst) │ Nature of Skillset(Senior software engineer-Mednet) │ Nature of Skillset(Sr Automation Testing) │ Nature of Skillset(Submission Management) │ Nature of Skillset(T-24 developer) │ Nature of Skillset(TL) │ Nature of Skillset(Tech Lead- Mednet) │ Nature of Skillset(Tech lead-Mednet) │ Nature of Skillset(Technical Lead) │ Nature of Skillset(generic drugs – RA) │ Nature of Skillset(production) │ Nature of Skillset(sccm) │ Nature of Skillset(testing) │\n",
      "├────────────────────────────────────────────┼──────────────────────────────────────────┼──────────────────────────────┼──────────────────────────────┼──────────────────────────────┼──────────────────────────────┼─────────────────────────────┼─────────────────────────────┼─────────────────────────────────┼─────────────────────────────────┼───────────────────────────────────────────┼──────────────────────────────────────┼────────────────────────────────────┼─────────────────────────────────────────────┼────────────────────────────────────────┼────────────────────────────────────────┼────────────────────────────────────────────────┼─────────────────────────────────┼──────────────────────────────────┼─────────────────────────────────┼─────────────────────────────┼──────────────────────────┼────────────────────────────────────┼───────────────────────────────┼─────────────────────────────┼──────────────────────────┼─────────────────────────┼─────────────────────────────┼──────────────────────────────────────┼────────────────────────────┼────────────────────────────────┼───────────────────────────────┼──────────────────────────────┼───────────────────────────────┼────────────────────────────────────────────────┼───────────────────────────────────────────────┼──────────────────────────┼───────────────────────────┼────────────────────────────────┼────────────────────────────────────┼───────────────────────────────┼───────────────────────────────┼──────────────────────────────┼────────────────────────────────────┼────────────────────────────────┼───────────────────────────────┼─────────────────────────────────────────────┼──────────────────────────────────────────────────┼───────────────────────────────┼────────────────────────────────────┼──────────────────────────────┼───────────────────────────────────────────┼──────────────────────────────┼───────────────────────────────┼─────────────────────────────────────────┼───────────────────────────┼──────────────────────────────────┼─────────────────────────────────────────┼─────────────────────────────────────────────┼─────────────────────────────────────────────┼────────────────────────────────────────┼────────────────────────────────────┼─────────────────────────────┼────────────────────────────┼──────────────────────────────────┼─────────────────────────────────────┼────────────────────────────────┼───────────────────────────────────────────────┼────────────────────────────────┼──────────────────────────────┼───────────────────────────────────┼────────────────────────────────┼─────────────────────────────┼─────────────────────────┼──────────────────────────┼────────────────────────────────┼───────────────────────────────────────┼────────────────────────────────────────────────────────────┼───────────────────────────────────────────┼──────────────────────────────────────┼────────────────────────────────────┼─────────────────────────────────────────────────────┼───────────────────────────────────────────┼───────────────────────────────────────────┼────────────────────────────────────┼────────────────────────┼───────────────────────────────────────┼──────────────────────────────────────┼────────────────────────────────────┼────────────────────────────────────────┼────────────────────────────────┼──────────────────────────┼─────────────────────────────┤\n",
      "│ Position to be closed(AML)                 │ 0.0                                      │ 0.0                          │ 0.0                          │ 0.0                          │ 0.0                          │ 0.0                         │ 0.0                         │ 0.0                             │ 0.0                             │ 0.0                                       │ 0.0                                  │ 0.0                                │ 0.0                                         │ 0.0                                    │ 0.0                                    │ 0.0                                            │ 0.0                             │ 0.0                              │ 0.0                             │ 0.0                         │ 0.0                      │ 0.0                                │ 0.0                           │ 0.0                         │ 0.0                      │ 0.0                     │ 0.0                         │ 0.0                                  │ 0.0                        │ 0.0                            │ 0.0                           │ 0.0                          │ 0.0                           │ 0.0                                            │ 0.0                                           │ 0.0                      │ 0.0                       │ 0.0                            │ 0.0                                │ 0.0                           │ 0.0                           │ 0.0                          │ 0.0                                │ 0.0                            │ 0.0                           │ 0.0                                         │ 0.0                                              │ 0.0                           │ 0.0                                │ 0.0                          │ 0.0                                       │ 0.0                          │ 0.0                           │ 0.0                                     │ 0.0                       │ 0.0                              │ 0.0                                     │ 0.0                                         │ 0.0                                         │ 0.0                                    │ 0.0                                │ 0.0                         │ 0.0                        │ 0.0                              │ 0.0                                 │ 0.0                            │ 0.0                                           │ 0.0                            │ 0.0                          │ 0.0                               │ 0.0                            │ 0.1702127659574468          │ 0.0                     │ 0.0                      │ 0.0                            │ 0.0                                   │ 0.0                                                        │ 0.0                                       │ 0.0                                  │ 0.0                                │ 0.0                                                 │ 0.0                                       │ 0.0                                       │ 0.0                                │ 0.0                    │ 0.0                                   │ 0.0                                  │ 0.0                                │ 0.0                                    │ 0.0                            │ 0.0                      │ 0.0                         │\n",
      "├────────────────────────────────────────────┼──────────────────────────────────────────┼──────────────────────────────┼──────────────────────────────┼──────────────────────────────┼──────────────────────────────┼─────────────────────────────┼─────────────────────────────┼─────────────────────────────────┼─────────────────────────────────┼───────────────────────────────────────────┼──────────────────────────────────────┼────────────────────────────────────┼─────────────────────────────────────────────┼────────────────────────────────────────┼────────────────────────────────────────┼────────────────────────────────────────────────┼─────────────────────────────────┼──────────────────────────────────┼─────────────────────────────────┼─────────────────────────────┼──────────────────────────┼────────────────────────────────────┼───────────────────────────────┼─────────────────────────────┼──────────────────────────┼─────────────────────────┼─────────────────────────────┼──────────────────────────────────────┼────────────────────────────┼────────────────────────────────┼───────────────────────────────┼──────────────────────────────┼───────────────────────────────┼────────────────────────────────────────────────┼───────────────────────────────────────────────┼──────────────────────────┼───────────────────────────┼────────────────────────────────┼────────────────────────────────────┼───────────────────────────────┼───────────────────────────────┼──────────────────────────────┼────────────────────────────────────┼────────────────────────────────┼───────────────────────────────┼─────────────────────────────────────────────┼──────────────────────────────────────────────────┼───────────────────────────────┼────────────────────────────────────┼──────────────────────────────┼───────────────────────────────────────────┼──────────────────────────────┼───────────────────────────────┼─────────────────────────────────────────┼───────────────────────────┼──────────────────────────────────┼─────────────────────────────────────────┼─────────────────────────────────────────────┼─────────────────────────────────────────────┼────────────────────────────────────────┼────────────────────────────────────┼─────────────────────────────┼────────────────────────────┼──────────────────────────────────┼─────────────────────────────────────┼────────────────────────────────┼───────────────────────────────────────────────┼────────────────────────────────┼──────────────────────────────┼───────────────────────────────────┼────────────────────────────────┼─────────────────────────────┼─────────────────────────┼──────────────────────────┼────────────────────────────────┼───────────────────────────────────────┼────────────────────────────────────────────────────────────┼───────────────────────────────────────────┼──────────────────────────────────────┼────────────────────────────────────┼─────────────────────────────────────────────────────┼───────────────────────────────────────────┼───────────────────────────────────────────┼────────────────────────────────────┼────────────────────────┼───────────────────────────────────────┼──────────────────────────────────────┼────────────────────────────────────┼────────────────────────────────────────┼────────────────────────────────┼──────────────────────────┼─────────────────────────────┤\n",
      "│ Position to be closed(Dot Net)             │ 0.0                                      │ 0.0                          │ 0.0                          │ 0.0                          │ 0.0                          │ 0.0                         │ 0.0                         │ 0.0                             │ 0.0                             │ 0.0                                       │ 0.0                                  │ 0.0                                │ 0.0                                         │ 0.0                                    │ 0.0                                    │ 0.0                                            │ 0.0                             │ 0.0                              │ 0.0                             │ 0.0                         │ 0.0                      │ 0.0                                │ 0.0                           │ 0.0                         │ 0.0                      │ 0.0                     │ 0.0                         │ 0.0                                  │ 0.0                        │ 0.0                            │ 0.0                           │ 0.0                          │ 0.0                           │ 0.0                                            │ 0.0                                           │ 0.0                      │ 0.0                       │ 0.0                            │ 0.0                                │ 0.0                           │ 0.0                           │ 0.0                          │ 0.0                                │ 0.0                            │ 0.0                           │ 0.0                                         │ 0.0                                              │ 0.0                           │ 0.0                                │ 0.0                          │ 0.0                                       │ 0.0                          │ 0.0                           │ 0.0                                     │ 0.0                       │ 0.0                              │ 0.0                                     │ 0.0                                         │ 0.0                                         │ 0.0                                    │ 0.0                                │ 0.0                         │ 0.0                        │ 0.0                              │ 0.0                                 │ 0.0                            │ 0.0                                           │ 0.0                            │ 0.0                          │ 0.0                               │ 0.0                            │ 0.3829787234042553          │ 0.0                     │ 0.0                      │ 0.0                            │ 0.0                                   │ 0.0                                                        │ 0.0                                       │ 0.0                                  │ 0.0                                │ 0.0                                                 │ 0.0                                       │ 0.0                                       │ 0.0                                │ 0.0                    │ 0.0                                   │ 0.0                                  │ 0.0                                │ 0.0                                    │ 0.0                            │ 0.0                      │ 0.0                         │\n",
      "├────────────────────────────────────────────┼──────────────────────────────────────────┼──────────────────────────────┼──────────────────────────────┼──────────────────────────────┼──────────────────────────────┼─────────────────────────────┼─────────────────────────────┼─────────────────────────────────┼─────────────────────────────────┼───────────────────────────────────────────┼──────────────────────────────────────┼────────────────────────────────────┼─────────────────────────────────────────────┼────────────────────────────────────────┼────────────────────────────────────────┼────────────────────────────────────────────────┼─────────────────────────────────┼──────────────────────────────────┼─────────────────────────────────┼─────────────────────────────┼──────────────────────────┼────────────────────────────────────┼───────────────────────────────┼─────────────────────────────┼──────────────────────────┼─────────────────────────┼─────────────────────────────┼──────────────────────────────────────┼────────────────────────────┼────────────────────────────────┼───────────────────────────────┼──────────────────────────────┼───────────────────────────────┼────────────────────────────────────────────────┼───────────────────────────────────────────────┼──────────────────────────┼───────────────────────────┼────────────────────────────────┼────────────────────────────────────┼───────────────────────────────┼───────────────────────────────┼──────────────────────────────┼────────────────────────────────────┼────────────────────────────────┼───────────────────────────────┼─────────────────────────────────────────────┼──────────────────────────────────────────────────┼───────────────────────────────┼────────────────────────────────────┼──────────────────────────────┼───────────────────────────────────────────┼──────────────────────────────┼───────────────────────────────┼─────────────────────────────────────────┼───────────────────────────┼──────────────────────────────────┼─────────────────────────────────────────┼─────────────────────────────────────────────┼─────────────────────────────────────────────┼────────────────────────────────────────┼────────────────────────────────────┼─────────────────────────────┼────────────────────────────┼──────────────────────────────────┼─────────────────────────────────────┼────────────────────────────────┼───────────────────────────────────────────────┼────────────────────────────────┼──────────────────────────────┼───────────────────────────────────┼────────────────────────────────┼─────────────────────────────┼─────────────────────────┼──────────────────────────┼────────────────────────────────┼───────────────────────────────────────┼────────────────────────────────────────────────────────────┼───────────────────────────────────────────┼──────────────────────────────────────┼────────────────────────────────────┼─────────────────────────────────────────────────────┼───────────────────────────────────────────┼───────────────────────────────────────────┼────────────────────────────────────┼────────────────────────┼───────────────────────────────────────┼──────────────────────────────────────┼────────────────────────────────────┼────────────────────────────────────────┼────────────────────────────────┼──────────────────────────┼─────────────────────────────┤\n",
      "│ Position to be closed(Niche)               │ 1.0                                      │ 0.0                          │ 0.0                          │ 0.0                          │ 0.0                          │ 0.0                         │ 0.0                         │ 1.0                             │ 0.0                             │ 0.0                                       │ 0.0                                  │ 0.0                                │ 0.0                                         │ 1.0                                    │ 0.0                                    │ 0.0                                            │ 1.0                             │ 1.0                              │ 1.0                             │ 0.0                         │ 0.0                      │ 0.0                                │ 0.0                           │ 0.0                         │ 1.0                      │ 0.4444444444444444      │ 0.0                         │ 1.0                                  │ 1.0                        │ 0.0                            │ 0.0                           │ 0.0                          │ 0.0                           │ 0.0                                            │ 0.0                                           │ 0.0                      │ 0.0                       │ 0.0                            │ 0.0                                │ 0.0                           │ 0.0                           │ 0.0                          │ 0.0                                │ 0.0                            │ 0.0                           │ 0.0                                         │ 0.0                                              │ 0.0                           │ 0.0                                │ 0.0                          │ 0.0                                       │ 1.0                          │ 0.0                           │ 0.0                                     │ 0.0                       │ 1.0                              │ 0.0                                     │ 0.0                                         │ 0.0                                         │ 0.0                                    │ 1.0                                │ 0.0                         │ 0.0                        │ 0.0                              │ 1.0                                 │ 0.0                            │ 0.0                                           │ 1.0                            │ 1.0                          │ 1.0                               │ 0.25                           │ 0.0                         │ 0.0                     │ 0.0                      │ 0.0                            │ 0.0                                   │ 0.0                                                        │ 0.0                                       │ 0.0                                  │ 0.0                                │ 1.0                                                 │ 0.0                                       │ 0.5                                       │ 1.0                                │ 0.0                    │ 1.0                                   │ 1.0                                  │ 1.0                                │ 1.0                                    │ 0.0                            │ 0.0                      │ 0.0                         │\n",
      "├────────────────────────────────────────────┼──────────────────────────────────────────┼──────────────────────────────┼──────────────────────────────┼──────────────────────────────┼──────────────────────────────┼─────────────────────────────┼─────────────────────────────┼─────────────────────────────────┼─────────────────────────────────┼───────────────────────────────────────────┼──────────────────────────────────────┼────────────────────────────────────┼─────────────────────────────────────────────┼────────────────────────────────────────┼────────────────────────────────────────┼────────────────────────────────────────────────┼─────────────────────────────────┼──────────────────────────────────┼─────────────────────────────────┼─────────────────────────────┼──────────────────────────┼────────────────────────────────────┼───────────────────────────────┼─────────────────────────────┼──────────────────────────┼─────────────────────────┼─────────────────────────────┼──────────────────────────────────────┼────────────────────────────┼────────────────────────────────┼───────────────────────────────┼──────────────────────────────┼───────────────────────────────┼────────────────────────────────────────────────┼───────────────────────────────────────────────┼──────────────────────────┼───────────────────────────┼────────────────────────────────┼────────────────────────────────────┼───────────────────────────────┼───────────────────────────────┼──────────────────────────────┼────────────────────────────────────┼────────────────────────────────┼───────────────────────────────┼─────────────────────────────────────────────┼──────────────────────────────────────────────────┼───────────────────────────────┼────────────────────────────────────┼──────────────────────────────┼───────────────────────────────────────────┼──────────────────────────────┼───────────────────────────────┼─────────────────────────────────────────┼───────────────────────────┼──────────────────────────────────┼─────────────────────────────────────────┼─────────────────────────────────────────────┼─────────────────────────────────────────────┼────────────────────────────────────────┼────────────────────────────────────┼─────────────────────────────┼────────────────────────────┼──────────────────────────────────┼─────────────────────────────────────┼────────────────────────────────┼───────────────────────────────────────────────┼────────────────────────────────┼──────────────────────────────┼───────────────────────────────────┼────────────────────────────────┼─────────────────────────────┼─────────────────────────┼──────────────────────────┼────────────────────────────────┼───────────────────────────────────────┼────────────────────────────────────────────────────────────┼───────────────────────────────────────────┼──────────────────────────────────────┼────────────────────────────────────┼─────────────────────────────────────────────────────┼───────────────────────────────────────────┼───────────────────────────────────────────┼────────────────────────────────────┼────────────────────────┼───────────────────────────────────────┼──────────────────────────────────────┼────────────────────────────────────┼────────────────────────────────────────┼────────────────────────────────┼──────────────────────────┼─────────────────────────────┤\n",
      "│ Position to be closed(Production- Sterile) │ 0.0                                      │ 0.0                          │ 0.0                          │ 0.0                          │ 0.0                          │ 0.0                         │ 0.0                         │ 0.0                             │ 0.0                             │ 0.0                                       │ 0.0                                  │ 0.0                                │ 0.0                                         │ 0.0                                    │ 0.0                                    │ 0.0                                            │ 0.0                             │ 0.0                              │ 0.0                             │ 0.0                         │ 0.0                      │ 0.0                                │ 0.0                           │ 0.0                         │ 0.0                      │ 0.0                     │ 0.0                         │ 0.0                                  │ 0.0                        │ 0.0                            │ 0.0                           │ 0.0                          │ 0.0                           │ 0.0                                            │ 0.0                                           │ 0.0                      │ 0.0                       │ 0.0                            │ 0.0                                │ 0.0                           │ 0.0                           │ 0.0                          │ 0.0                                │ 0.0                            │ 0.0                           │ 0.0                                         │ 0.0                                              │ 0.0                           │ 0.0                                │ 0.0                          │ 0.0                                       │ 0.0                          │ 0.0                           │ 0.0                                     │ 0.0                       │ 0.0                              │ 0.0                                     │ 0.0                                         │ 0.0                                         │ 0.0                                    │ 0.0                                │ 0.0                         │ 0.0                        │ 0.0                              │ 0.0                                 │ 0.0                            │ 0.0                                           │ 0.0                            │ 0.0                          │ 0.0                               │ 0.0                            │ 0.10638297872340426         │ 0.0                     │ 0.0                      │ 0.0                            │ 0.0                                   │ 0.0                                                        │ 0.0                                       │ 0.0                                  │ 0.0                                │ 0.0                                                 │ 0.0                                       │ 0.0                                       │ 0.0                                │ 0.0                    │ 0.0                                   │ 0.0                                  │ 0.0                                │ 0.0                                    │ 0.0                            │ 0.0                      │ 0.0                         │\n",
      "├────────────────────────────────────────────┼──────────────────────────────────────────┼──────────────────────────────┼──────────────────────────────┼──────────────────────────────┼──────────────────────────────┼─────────────────────────────┼─────────────────────────────┼─────────────────────────────────┼─────────────────────────────────┼───────────────────────────────────────────┼──────────────────────────────────────┼────────────────────────────────────┼─────────────────────────────────────────────┼────────────────────────────────────────┼────────────────────────────────────────┼────────────────────────────────────────────────┼─────────────────────────────────┼──────────────────────────────────┼─────────────────────────────────┼─────────────────────────────┼──────────────────────────┼────────────────────────────────────┼───────────────────────────────┼─────────────────────────────┼──────────────────────────┼─────────────────────────┼─────────────────────────────┼──────────────────────────────────────┼────────────────────────────┼────────────────────────────────┼───────────────────────────────┼──────────────────────────────┼───────────────────────────────┼────────────────────────────────────────────────┼───────────────────────────────────────────────┼──────────────────────────┼───────────────────────────┼────────────────────────────────┼────────────────────────────────────┼───────────────────────────────┼───────────────────────────────┼──────────────────────────────┼────────────────────────────────────┼────────────────────────────────┼───────────────────────────────┼─────────────────────────────────────────────┼──────────────────────────────────────────────────┼───────────────────────────────┼────────────────────────────────────┼──────────────────────────────┼───────────────────────────────────────────┼──────────────────────────────┼───────────────────────────────┼─────────────────────────────────────────┼───────────────────────────┼──────────────────────────────────┼─────────────────────────────────────────┼─────────────────────────────────────────────┼─────────────────────────────────────────────┼────────────────────────────────────────┼────────────────────────────────────┼─────────────────────────────┼────────────────────────────┼──────────────────────────────────┼─────────────────────────────────────┼────────────────────────────────┼───────────────────────────────────────────────┼────────────────────────────────┼──────────────────────────────┼───────────────────────────────────┼────────────────────────────────┼─────────────────────────────┼─────────────────────────┼──────────────────────────┼────────────────────────────────┼───────────────────────────────────────┼────────────────────────────────────────────────────────────┼───────────────────────────────────────────┼──────────────────────────────────────┼────────────────────────────────────┼─────────────────────────────────────────────────────┼───────────────────────────────────────────┼───────────────────────────────────────────┼────────────────────────────────────┼────────────────────────┼───────────────────────────────────────┼──────────────────────────────────────┼────────────────────────────────────┼────────────────────────────────────────┼────────────────────────────────┼──────────────────────────┼─────────────────────────────┤\n",
      "│ Position to be closed(Routine)             │ 0.0                                      │ 1.0                          │ 1.0                          │ 1.0                          │ 1.0                          │ 1.0                         │ 1.0                         │ 0.0                             │ 1.0                             │ 1.0                                       │ 1.0                                  │ 1.0                                │ 1.0                                         │ 0.0                                    │ 1.0                                    │ 1.0                                            │ 0.0                             │ 0.0                              │ 0.0                             │ 1.0                         │ 1.0                      │ 1.0                                │ 1.0                           │ 1.0                         │ 0.0                      │ 0.5555555555555556      │ 1.0                         │ 0.0                                  │ 0.0                        │ 1.0                            │ 1.0                           │ 1.0                          │ 1.0                           │ 1.0                                            │ 1.0                                           │ 1.0                      │ 1.0                       │ 1.0                            │ 1.0                                │ 1.0                           │ 1.0                           │ 1.0                          │ 1.0                                │ 1.0                            │ 1.0                           │ 1.0                                         │ 1.0                                              │ 1.0                           │ 1.0                                │ 1.0                          │ 1.0                                       │ 0.0                          │ 1.0                           │ 1.0                                     │ 1.0                       │ 0.0                              │ 1.0                                     │ 1.0                                         │ 1.0                                         │ 1.0                                    │ 0.0                                │ 1.0                         │ 1.0                        │ 1.0                              │ 0.0                                 │ 1.0                            │ 1.0                                           │ 0.0                            │ 0.0                          │ 0.0                               │ 0.75                           │ 0.0                         │ 1.0                     │ 1.0                      │ 1.0                            │ 1.0                                   │ 1.0                                                        │ 1.0                                       │ 1.0                                  │ 1.0                                │ 0.0                                                 │ 1.0                                       │ 0.5                                       │ 0.0                                │ 1.0                    │ 0.0                                   │ 0.0                                  │ 0.0                                │ 0.0                                    │ 1.0                            │ 1.0                      │ 1.0                         │\n",
      "├────────────────────────────────────────────┼──────────────────────────────────────────┼──────────────────────────────┼──────────────────────────────┼──────────────────────────────┼──────────────────────────────┼─────────────────────────────┼─────────────────────────────┼─────────────────────────────────┼─────────────────────────────────┼───────────────────────────────────────────┼──────────────────────────────────────┼────────────────────────────────────┼─────────────────────────────────────────────┼────────────────────────────────────────┼────────────────────────────────────────┼────────────────────────────────────────────────┼─────────────────────────────────┼──────────────────────────────────┼─────────────────────────────────┼─────────────────────────────┼──────────────────────────┼────────────────────────────────────┼───────────────────────────────┼─────────────────────────────┼──────────────────────────┼─────────────────────────┼─────────────────────────────┼──────────────────────────────────────┼────────────────────────────┼────────────────────────────────┼───────────────────────────────┼──────────────────────────────┼───────────────────────────────┼────────────────────────────────────────────────┼───────────────────────────────────────────────┼──────────────────────────┼───────────────────────────┼────────────────────────────────┼────────────────────────────────────┼───────────────────────────────┼───────────────────────────────┼──────────────────────────────┼────────────────────────────────────┼────────────────────────────────┼───────────────────────────────┼─────────────────────────────────────────────┼──────────────────────────────────────────────────┼───────────────────────────────┼────────────────────────────────────┼──────────────────────────────┼───────────────────────────────────────────┼──────────────────────────────┼───────────────────────────────┼─────────────────────────────────────────┼───────────────────────────┼──────────────────────────────────┼─────────────────────────────────────────┼─────────────────────────────────────────────┼─────────────────────────────────────────────┼────────────────────────────────────────┼────────────────────────────────────┼─────────────────────────────┼────────────────────────────┼──────────────────────────────────┼─────────────────────────────────────┼────────────────────────────────┼───────────────────────────────────────────────┼────────────────────────────────┼──────────────────────────────┼───────────────────────────────────┼────────────────────────────────┼─────────────────────────────┼─────────────────────────┼──────────────────────────┼────────────────────────────────┼───────────────────────────────────────┼────────────────────────────────────────────────────────────┼───────────────────────────────────────────┼──────────────────────────────────────┼────────────────────────────────────┼─────────────────────────────────────────────────────┼───────────────────────────────────────────┼───────────────────────────────────────────┼────────────────────────────────────┼────────────────────────┼───────────────────────────────────────┼──────────────────────────────────────┼────────────────────────────────────┼────────────────────────────────────────┼────────────────────────────────┼──────────────────────────┼─────────────────────────────┤\n",
      "│ Position to be closed(Selenium testing)    │ 0.0                                      │ 0.0                          │ 0.0                          │ 0.0                          │ 0.0                          │ 0.0                         │ 0.0                         │ 0.0                             │ 0.0                             │ 0.0                                       │ 0.0                                  │ 0.0                                │ 0.0                                         │ 0.0                                    │ 0.0                                    │ 0.0                                            │ 0.0                             │ 0.0                              │ 0.0                             │ 0.0                         │ 0.0                      │ 0.0                                │ 0.0                           │ 0.0                         │ 0.0                      │ 0.0                     │ 0.0                         │ 0.0                                  │ 0.0                        │ 0.0                            │ 0.0                           │ 0.0                          │ 0.0                           │ 0.0                                            │ 0.0                                           │ 0.0                      │ 0.0                       │ 0.0                            │ 0.0                                │ 0.0                           │ 0.0                           │ 0.0                          │ 0.0                                │ 0.0                            │ 0.0                           │ 0.0                                         │ 0.0                                              │ 0.0                           │ 0.0                                │ 0.0                          │ 0.0                                       │ 0.0                          │ 0.0                           │ 0.0                                     │ 0.0                       │ 0.0                              │ 0.0                                     │ 0.0                                         │ 0.0                                         │ 0.0                                    │ 0.0                                │ 0.0                         │ 0.0                        │ 0.0                              │ 0.0                                 │ 0.0                            │ 0.0                                           │ 0.0                            │ 0.0                          │ 0.0                               │ 0.0                            │ 0.10638297872340426         │ 0.0                     │ 0.0                      │ 0.0                            │ 0.0                                   │ 0.0                                                        │ 0.0                                       │ 0.0                                  │ 0.0                                │ 0.0                                                 │ 0.0                                       │ 0.0                                       │ 0.0                                │ 0.0                    │ 0.0                                   │ 0.0                                  │ 0.0                                │ 0.0                                    │ 0.0                            │ 0.0                      │ 0.0                         │\n",
      "├────────────────────────────────────────────┼──────────────────────────────────────────┼──────────────────────────────┼──────────────────────────────┼──────────────────────────────┼──────────────────────────────┼─────────────────────────────┼─────────────────────────────┼─────────────────────────────────┼─────────────────────────────────┼───────────────────────────────────────────┼──────────────────────────────────────┼────────────────────────────────────┼─────────────────────────────────────────────┼────────────────────────────────────────┼────────────────────────────────────────┼────────────────────────────────────────────────┼─────────────────────────────────┼──────────────────────────────────┼─────────────────────────────────┼─────────────────────────────┼──────────────────────────┼────────────────────────────────────┼───────────────────────────────┼─────────────────────────────┼──────────────────────────┼─────────────────────────┼─────────────────────────────┼──────────────────────────────────────┼────────────────────────────┼────────────────────────────────┼───────────────────────────────┼──────────────────────────────┼───────────────────────────────┼────────────────────────────────────────────────┼───────────────────────────────────────────────┼──────────────────────────┼───────────────────────────┼────────────────────────────────┼────────────────────────────────────┼───────────────────────────────┼───────────────────────────────┼──────────────────────────────┼────────────────────────────────────┼────────────────────────────────┼───────────────────────────────┼─────────────────────────────────────────────┼──────────────────────────────────────────────────┼───────────────────────────────┼────────────────────────────────────┼──────────────────────────────┼───────────────────────────────────────────┼──────────────────────────────┼───────────────────────────────┼─────────────────────────────────────────┼───────────────────────────┼──────────────────────────────────┼─────────────────────────────────────────┼─────────────────────────────────────────────┼─────────────────────────────────────────────┼────────────────────────────────────────┼────────────────────────────────────┼─────────────────────────────┼────────────────────────────┼──────────────────────────────────┼─────────────────────────────────────┼────────────────────────────────┼───────────────────────────────────────────────┼────────────────────────────────┼──────────────────────────────┼───────────────────────────────────┼────────────────────────────────┼─────────────────────────────┼─────────────────────────┼──────────────────────────┼────────────────────────────────┼───────────────────────────────────────┼────────────────────────────────────────────────────────────┼───────────────────────────────────────────┼──────────────────────────────────────┼────────────────────────────────────┼─────────────────────────────────────────────────────┼───────────────────────────────────────────┼───────────────────────────────────────────┼────────────────────────────────────┼────────────────────────┼───────────────────────────────────────┼──────────────────────────────────────┼────────────────────────────────────┼────────────────────────────────────────┼────────────────────────────────┼──────────────────────────┼─────────────────────────────┤\n",
      "│ Position to be closed(Trade Finance)       │ 0.0                                      │ 0.0                          │ 0.0                          │ 0.0                          │ 0.0                          │ 0.0                         │ 0.0                         │ 0.0                             │ 0.0                             │ 0.0                                       │ 0.0                                  │ 0.0                                │ 0.0                                         │ 0.0                                    │ 0.0                                    │ 0.0                                            │ 0.0                             │ 0.0                              │ 0.0                             │ 0.0                         │ 0.0                      │ 0.0                                │ 0.0                           │ 0.0                         │ 0.0                      │ 0.0                     │ 0.0                         │ 0.0                                  │ 0.0                        │ 0.0                            │ 0.0                           │ 0.0                          │ 0.0                           │ 0.0                                            │ 0.0                                           │ 0.0                      │ 0.0                       │ 0.0                            │ 0.0                                │ 0.0                           │ 0.0                           │ 0.0                          │ 0.0                                │ 0.0                            │ 0.0                           │ 0.0                                         │ 0.0                                              │ 0.0                           │ 0.0                                │ 0.0                          │ 0.0                                       │ 0.0                          │ 0.0                           │ 0.0                                     │ 0.0                       │ 0.0                              │ 0.0                                     │ 0.0                                         │ 0.0                                         │ 0.0                                    │ 0.0                                │ 0.0                         │ 0.0                        │ 0.0                              │ 0.0                                 │ 0.0                            │ 0.0                                           │ 0.0                            │ 0.0                          │ 0.0                               │ 0.0                            │ 0.23404255319148937         │ 0.0                     │ 0.0                      │ 0.0                            │ 0.0                                   │ 0.0                                                        │ 0.0                                       │ 0.0                                  │ 0.0                                │ 0.0                                                 │ 0.0                                       │ 0.0                                       │ 0.0                                │ 0.0                    │ 0.0                                   │ 0.0                                  │ 0.0                                │ 0.0                                    │ 0.0                            │ 0.0                      │ 0.0                         │\n",
      "╘════════════════════════════════════════════╧══════════════════════════════════════════╧══════════════════════════════╧══════════════════════════════╧══════════════════════════════╧══════════════════════════════╧═════════════════════════════╧═════════════════════════════╧═════════════════════════════════╧═════════════════════════════════╧═══════════════════════════════════════════╧══════════════════════════════════════╧════════════════════════════════════╧═════════════════════════════════════════════╧════════════════════════════════════════╧════════════════════════════════════════╧════════════════════════════════════════════════╧═════════════════════════════════╧══════════════════════════════════╧═════════════════════════════════╧═════════════════════════════╧══════════════════════════╧════════════════════════════════════╧═══════════════════════════════╧═════════════════════════════╧══════════════════════════╧═════════════════════════╧═════════════════════════════╧══════════════════════════════════════╧════════════════════════════╧════════════════════════════════╧═══════════════════════════════╧══════════════════════════════╧═══════════════════════════════╧════════════════════════════════════════════════╧═══════════════════════════════════════════════╧══════════════════════════╧═══════════════════════════╧════════════════════════════════╧════════════════════════════════════╧═══════════════════════════════╧═══════════════════════════════╧══════════════════════════════╧════════════════════════════════════╧════════════════════════════════╧═══════════════════════════════╧═════════════════════════════════════════════╧══════════════════════════════════════════════════╧═══════════════════════════════╧════════════════════════════════════╧══════════════════════════════╧═══════════════════════════════════════════╧══════════════════════════════╧═══════════════════════════════╧═════════════════════════════════════════╧═══════════════════════════╧══════════════════════════════════╧═════════════════════════════════════════╧═════════════════════════════════════════════╧═════════════════════════════════════════════╧════════════════════════════════════════╧════════════════════════════════════╧═════════════════════════════╧════════════════════════════╧══════════════════════════════════╧═════════════════════════════════════╧════════════════════════════════╧═══════════════════════════════════════════════╧════════════════════════════════╧══════════════════════════════╧═══════════════════════════════════╧════════════════════════════════╧═════════════════════════════╧═════════════════════════╧══════════════════════════╧════════════════════════════════╧═══════════════════════════════════════╧════════════════════════════════════════════════════════════╧═══════════════════════════════════════════╧══════════════════════════════════════╧════════════════════════════════════╧═════════════════════════════════════════════════════╧═══════════════════════════════════════════╧═══════════════════════════════════════════╧════════════════════════════════════╧════════════════════════╧═══════════════════════════════════════╧══════════════════════════════════════╧════════════════════════════════════╧════════════════════════════════════════╧════════════════════════════════╧══════════════════════════╧═════════════════════════════╛\n"
     ]
    }
   ],
   "source": [
    "print(model.get_cpds()[11])"
   ]
  },
  {
   "cell_type": "markdown",
   "metadata": {},
   "source": [
    "Now we can use pgmpy to perform belief propagation:"
   ]
  },
  {
   "cell_type": "code",
   "execution_count": 210,
   "metadata": {},
   "outputs": [
    {
     "ename": "TypeError",
     "evalue": "values: must contain tuples or array-like elements of the form (hashable object, type int)",
     "output_type": "error",
     "traceback": [
      "\u001b[0;31m---------------------------------------------------------------------------\u001b[0m",
      "\u001b[0;31mTypeError\u001b[0m                                 Traceback (most recent call last)",
      "\u001b[0;32m<ipython-input-210-ec142ebf7bc5>\u001b[0m in \u001b[0;36m<module>\u001b[0;34m()\u001b[0m\n\u001b[1;32m      1\u001b[0m \u001b[0mbelief_propagation\u001b[0m \u001b[0;34m=\u001b[0m \u001b[0mBeliefPropagation\u001b[0m\u001b[0;34m(\u001b[0m\u001b[0mmodel\u001b[0m\u001b[0;34m)\u001b[0m\u001b[0;34m\u001b[0m\u001b[0m\n\u001b[0;32m----> 2\u001b[0;31m \u001b[0mbelief_propagation\u001b[0m\u001b[0;34m.\u001b[0m\u001b[0mquery\u001b[0m\u001b[0;34m(\u001b[0m\u001b[0mvariables\u001b[0m\u001b[0;34m=\u001b[0m\u001b[0;34m[\u001b[0m\u001b[0;34m'Observed Attendance'\u001b[0m\u001b[0;34m]\u001b[0m\u001b[0;34m,\u001b[0m \u001b[0mevidence\u001b[0m\u001b[0;34m=\u001b[0m\u001b[0;34m{\u001b[0m\u001b[0;34m'Marital Status'\u001b[0m\u001b[0;34m:\u001b[0m \u001b[0;34m'Married'\u001b[0m\u001b[0;34m,\u001b[0m \u001b[0;34m'Month'\u001b[0m\u001b[0;34m:\u001b[0m\u001b[0;36m6\u001b[0m\u001b[0;34m}\u001b[0m\u001b[0;34m)\u001b[0m\u001b[0;34m\u001b[0m\u001b[0m\n\u001b[0m",
      "\u001b[0;32m~/anaconda3/envs/491/lib/python3.6/site-packages/pgmpy/inference/ExactInference.py\u001b[0m in \u001b[0;36mquery\u001b[0;34m(self, variables, evidence)\u001b[0m\n\u001b[1;32m    655\u001b[0m         ...                          evidence={'A': 0, 'R': 0, 'G': 0, 'L': 1})\n\u001b[1;32m    656\u001b[0m         \"\"\"\n\u001b[0;32m--> 657\u001b[0;31m         \u001b[0;32mreturn\u001b[0m \u001b[0mself\u001b[0m\u001b[0;34m.\u001b[0m\u001b[0m_query\u001b[0m\u001b[0;34m(\u001b[0m\u001b[0mvariables\u001b[0m\u001b[0;34m=\u001b[0m\u001b[0mvariables\u001b[0m\u001b[0;34m,\u001b[0m \u001b[0moperation\u001b[0m\u001b[0;34m=\u001b[0m\u001b[0;34m'marginalize'\u001b[0m\u001b[0;34m,\u001b[0m \u001b[0mevidence\u001b[0m\u001b[0;34m=\u001b[0m\u001b[0mevidence\u001b[0m\u001b[0;34m)\u001b[0m\u001b[0;34m\u001b[0m\u001b[0m\n\u001b[0m\u001b[1;32m    658\u001b[0m \u001b[0;34m\u001b[0m\u001b[0m\n\u001b[1;32m    659\u001b[0m     \u001b[0;32mdef\u001b[0m \u001b[0mmap_query\u001b[0m\u001b[0;34m(\u001b[0m\u001b[0mself\u001b[0m\u001b[0;34m,\u001b[0m \u001b[0mvariables\u001b[0m\u001b[0;34m=\u001b[0m\u001b[0;32mNone\u001b[0m\u001b[0;34m,\u001b[0m \u001b[0mevidence\u001b[0m\u001b[0;34m=\u001b[0m\u001b[0;32mNone\u001b[0m\u001b[0;34m)\u001b[0m\u001b[0;34m:\u001b[0m\u001b[0;34m\u001b[0m\u001b[0m\n",
      "\u001b[0;32m~/anaconda3/envs/491/lib/python3.6/site-packages/pgmpy/inference/ExactInference.py\u001b[0m in \u001b[0;36m_query\u001b[0;34m(self, variables, operation, evidence)\u001b[0m\n\u001b[1;32m    613\u001b[0m         \u001b[0mvariable_elimination\u001b[0m \u001b[0;34m=\u001b[0m \u001b[0mVariableElimination\u001b[0m\u001b[0;34m(\u001b[0m\u001b[0msubtree\u001b[0m\u001b[0;34m)\u001b[0m\u001b[0;34m\u001b[0m\u001b[0m\n\u001b[1;32m    614\u001b[0m         \u001b[0;32mif\u001b[0m \u001b[0moperation\u001b[0m \u001b[0;34m==\u001b[0m \u001b[0;34m'marginalize'\u001b[0m\u001b[0;34m:\u001b[0m\u001b[0;34m\u001b[0m\u001b[0m\n\u001b[0;32m--> 615\u001b[0;31m             \u001b[0;32mreturn\u001b[0m \u001b[0mvariable_elimination\u001b[0m\u001b[0;34m.\u001b[0m\u001b[0mquery\u001b[0m\u001b[0;34m(\u001b[0m\u001b[0mvariables\u001b[0m\u001b[0;34m=\u001b[0m\u001b[0mvariables\u001b[0m\u001b[0;34m,\u001b[0m \u001b[0mevidence\u001b[0m\u001b[0;34m=\u001b[0m\u001b[0mevidence\u001b[0m\u001b[0;34m)\u001b[0m\u001b[0;34m\u001b[0m\u001b[0m\n\u001b[0m\u001b[1;32m    616\u001b[0m         \u001b[0;32melif\u001b[0m \u001b[0moperation\u001b[0m \u001b[0;34m==\u001b[0m \u001b[0;34m'maximize'\u001b[0m\u001b[0;34m:\u001b[0m\u001b[0;34m\u001b[0m\u001b[0m\n\u001b[1;32m    617\u001b[0m             \u001b[0;32mreturn\u001b[0m \u001b[0mvariable_elimination\u001b[0m\u001b[0;34m.\u001b[0m\u001b[0mmap_query\u001b[0m\u001b[0;34m(\u001b[0m\u001b[0mvariables\u001b[0m\u001b[0;34m=\u001b[0m\u001b[0mvariables\u001b[0m\u001b[0;34m,\u001b[0m \u001b[0mevidence\u001b[0m\u001b[0;34m=\u001b[0m\u001b[0mevidence\u001b[0m\u001b[0;34m)\u001b[0m\u001b[0;34m\u001b[0m\u001b[0m\n",
      "\u001b[0;32m~/anaconda3/envs/491/lib/python3.6/site-packages/pgmpy/inference/ExactInference.py\u001b[0m in \u001b[0;36mquery\u001b[0;34m(self, variables, evidence, elimination_order)\u001b[0m\n\u001b[1;32m    125\u001b[0m         \"\"\"\n\u001b[1;32m    126\u001b[0m         return self._variable_elimination(variables, 'marginalize',\n\u001b[0;32m--> 127\u001b[0;31m                                           evidence=evidence, elimination_order=elimination_order)\n\u001b[0m\u001b[1;32m    128\u001b[0m \u001b[0;34m\u001b[0m\u001b[0m\n\u001b[1;32m    129\u001b[0m     \u001b[0;32mdef\u001b[0m \u001b[0mmax_marginal\u001b[0m\u001b[0;34m(\u001b[0m\u001b[0mself\u001b[0m\u001b[0;34m,\u001b[0m \u001b[0mvariables\u001b[0m\u001b[0;34m=\u001b[0m\u001b[0;32mNone\u001b[0m\u001b[0;34m,\u001b[0m \u001b[0mevidence\u001b[0m\u001b[0;34m=\u001b[0m\u001b[0;32mNone\u001b[0m\u001b[0;34m,\u001b[0m \u001b[0melimination_order\u001b[0m\u001b[0;34m=\u001b[0m\u001b[0;32mNone\u001b[0m\u001b[0;34m)\u001b[0m\u001b[0;34m:\u001b[0m\u001b[0;34m\u001b[0m\u001b[0m\n",
      "\u001b[0;32m~/anaconda3/envs/491/lib/python3.6/site-packages/pgmpy/utils/state_name.py\u001b[0m in \u001b[0;36m__call__\u001b[0;34m(self, f, instance, args, kwargs)\u001b[0m\n\u001b[1;32m    165\u001b[0m \u001b[0;34m\u001b[0m\u001b[0m\n\u001b[1;32m    166\u001b[0m         \u001b[0;32mif\u001b[0m \u001b[0;32mnot\u001b[0m \u001b[0mmethod_self\u001b[0m\u001b[0;34m.\u001b[0m\u001b[0mstate_names\u001b[0m\u001b[0;34m:\u001b[0m\u001b[0;34m\u001b[0m\u001b[0m\n\u001b[0;32m--> 167\u001b[0;31m             \u001b[0;32mreturn\u001b[0m \u001b[0mf\u001b[0m\u001b[0;34m(\u001b[0m\u001b[0;34m*\u001b[0m\u001b[0margs\u001b[0m\u001b[0;34m,\u001b[0m \u001b[0;34m**\u001b[0m\u001b[0mkwargs\u001b[0m\u001b[0;34m)\u001b[0m\u001b[0;34m\u001b[0m\u001b[0m\n\u001b[0m\u001b[1;32m    168\u001b[0m         \u001b[0;32melse\u001b[0m\u001b[0;34m:\u001b[0m\u001b[0;34m\u001b[0m\u001b[0m\n\u001b[1;32m    169\u001b[0m             \u001b[0mself\u001b[0m\u001b[0;34m.\u001b[0m\u001b[0mstate_names\u001b[0m \u001b[0;34m=\u001b[0m \u001b[0mmethod_self\u001b[0m\u001b[0;34m.\u001b[0m\u001b[0mstate_names\u001b[0m\u001b[0;34m\u001b[0m\u001b[0m\n",
      "\u001b[0;32m~/anaconda3/envs/491/lib/python3.6/site-packages/pgmpy/inference/ExactInference.py\u001b[0m in \u001b[0;36m_variable_elimination\u001b[0;34m(self, variables, operation, evidence, elimination_order)\u001b[0m\n\u001b[1;32m     54\u001b[0m             \u001b[0;32mfor\u001b[0m \u001b[0mevidence_var\u001b[0m \u001b[0;32min\u001b[0m \u001b[0mevidence\u001b[0m\u001b[0;34m:\u001b[0m\u001b[0;34m\u001b[0m\u001b[0m\n\u001b[1;32m     55\u001b[0m                 \u001b[0;32mfor\u001b[0m \u001b[0mfactor\u001b[0m \u001b[0;32min\u001b[0m \u001b[0mworking_factors\u001b[0m\u001b[0;34m[\u001b[0m\u001b[0mevidence_var\u001b[0m\u001b[0;34m]\u001b[0m\u001b[0;34m:\u001b[0m\u001b[0;34m\u001b[0m\u001b[0m\n\u001b[0;32m---> 56\u001b[0;31m                     \u001b[0mfactor_reduced\u001b[0m \u001b[0;34m=\u001b[0m \u001b[0mfactor\u001b[0m\u001b[0;34m.\u001b[0m\u001b[0mreduce\u001b[0m\u001b[0;34m(\u001b[0m\u001b[0;34m[\u001b[0m\u001b[0;34m(\u001b[0m\u001b[0mevidence_var\u001b[0m\u001b[0;34m,\u001b[0m \u001b[0mevidence\u001b[0m\u001b[0;34m[\u001b[0m\u001b[0mevidence_var\u001b[0m\u001b[0;34m]\u001b[0m\u001b[0;34m)\u001b[0m\u001b[0;34m]\u001b[0m\u001b[0;34m,\u001b[0m \u001b[0minplace\u001b[0m\u001b[0;34m=\u001b[0m\u001b[0;32mFalse\u001b[0m\u001b[0;34m)\u001b[0m\u001b[0;34m\u001b[0m\u001b[0m\n\u001b[0m\u001b[1;32m     57\u001b[0m                     \u001b[0;32mfor\u001b[0m \u001b[0mvar\u001b[0m \u001b[0;32min\u001b[0m \u001b[0mfactor_reduced\u001b[0m\u001b[0;34m.\u001b[0m\u001b[0mscope\u001b[0m\u001b[0;34m(\u001b[0m\u001b[0;34m)\u001b[0m\u001b[0;34m:\u001b[0m\u001b[0;34m\u001b[0m\u001b[0m\n\u001b[1;32m     58\u001b[0m                         \u001b[0mworking_factors\u001b[0m\u001b[0;34m[\u001b[0m\u001b[0mvar\u001b[0m\u001b[0;34m]\u001b[0m\u001b[0;34m.\u001b[0m\u001b[0mremove\u001b[0m\u001b[0;34m(\u001b[0m\u001b[0mfactor\u001b[0m\u001b[0;34m)\u001b[0m\u001b[0;34m\u001b[0m\u001b[0m\n",
      "\u001b[0;32m~/anaconda3/envs/491/lib/python3.6/site-packages/pgmpy/utils/state_name.py\u001b[0m in \u001b[0;36m__call__\u001b[0;34m(self, f, instance, args, kwargs)\u001b[0m\n\u001b[1;32m    165\u001b[0m \u001b[0;34m\u001b[0m\u001b[0m\n\u001b[1;32m    166\u001b[0m         \u001b[0;32mif\u001b[0m \u001b[0;32mnot\u001b[0m \u001b[0mmethod_self\u001b[0m\u001b[0;34m.\u001b[0m\u001b[0mstate_names\u001b[0m\u001b[0;34m:\u001b[0m\u001b[0;34m\u001b[0m\u001b[0m\n\u001b[0;32m--> 167\u001b[0;31m             \u001b[0;32mreturn\u001b[0m \u001b[0mf\u001b[0m\u001b[0;34m(\u001b[0m\u001b[0;34m*\u001b[0m\u001b[0margs\u001b[0m\u001b[0;34m,\u001b[0m \u001b[0;34m**\u001b[0m\u001b[0mkwargs\u001b[0m\u001b[0;34m)\u001b[0m\u001b[0;34m\u001b[0m\u001b[0m\n\u001b[0m\u001b[1;32m    168\u001b[0m         \u001b[0;32melse\u001b[0m\u001b[0;34m:\u001b[0m\u001b[0;34m\u001b[0m\u001b[0m\n\u001b[1;32m    169\u001b[0m             \u001b[0mself\u001b[0m\u001b[0;34m.\u001b[0m\u001b[0mstate_names\u001b[0m \u001b[0;34m=\u001b[0m \u001b[0mmethod_self\u001b[0m\u001b[0;34m.\u001b[0m\u001b[0mstate_names\u001b[0m\u001b[0;34m\u001b[0m\u001b[0m\n",
      "\u001b[0;32m~/anaconda3/envs/491/lib/python3.6/site-packages/pgmpy/factors/discrete/DiscreteFactor.py\u001b[0m in \u001b[0;36mreduce\u001b[0;34m(self, values, inplace)\u001b[0m\n\u001b[1;32m    416\u001b[0m         if (any(isinstance(value, six.string_types) for value in values) or\n\u001b[1;32m    417\u001b[0m                 not all(isinstance(state, (int, np.integer)) for var, state in values)):\n\u001b[0;32m--> 418\u001b[0;31m             raise TypeError(\"values: must contain tuples or array-like elements of the form \"\n\u001b[0m\u001b[1;32m    419\u001b[0m                             \"(hashable object, type int)\")\n\u001b[1;32m    420\u001b[0m \u001b[0;34m\u001b[0m\u001b[0m\n",
      "\u001b[0;31mTypeError\u001b[0m: values: must contain tuples or array-like elements of the form (hashable object, type int)"
     ]
    }
   ],
   "source": [
    "belief_propagation = BeliefPropagation(model)\n",
    "belief_propagation.query(variables=['Observed Attendance'], evidence={'Marital Status': 'Married', 'Month':6})"
   ]
  },
  {
   "cell_type": "markdown",
   "metadata": {},
   "source": [
    "There appears to be a bug with pgmpy as how state-names are represented internally. Essentially, it doesn't appear to handle non-binary data all that well..."
   ]
  }
 ],
 "metadata": {
  "kernelspec": {
   "display_name": "Python 3",
   "language": "python",
   "name": "python3"
  },
  "language_info": {
   "codemirror_mode": {
    "name": "ipython",
    "version": 3
   },
   "file_extension": ".py",
   "mimetype": "text/x-python",
   "name": "python",
   "nbconvert_exporter": "python",
   "pygments_lexer": "ipython3",
   "version": "3.6.4"
  }
 },
 "nbformat": 4,
 "nbformat_minor": 2
}
