{
 "cells": [
  {
   "cell_type": "markdown",
   "metadata": {},
   "source": [
    "# EECS 491: Probabilistic Graphical Models Assignment 3\n",
    "**David Fan**\n",
    "\n",
    "3/28/18"
   ]
  },
  {
   "cell_type": "markdown",
   "metadata": {},
   "source": [
    "## Problem Description\n",
    "In this notebook I will attempt to create a larger graphical model (expanding on techniques used in the previous assignments) to model a specific domain. Using a dataset found on Kaggle, we will attempt to model the recruitment industry in India using a graphical model. In particular we will be exploring the effect of different factors on interview attendance."
   ]
  },
  {
   "cell_type": "markdown",
   "metadata": {},
   "source": [
    "## Dataset\n",
    "For this problem, we will explore a dataset found [here](https://www.kaggle.com/vishnusraghavan/the-interview-attendance-problem/data). The author of the dataset describes the context of the dataset as follows:\n",
    "\n",
    ">The data pertains to the recruitment industry in India for the years 2014-2016 and deals with candidate interview attendance for various clients ...\n",
    "\n",
    ">The data have been collected by me and my fellow researchers over a period of over 2 years between September 2014 and January 2017.\n",
    "\n",
    ">There are a set of questions that are asked by a recruiter while scheduling the candidate. The answers to these determine whether expected attendance is yes, no or uncertain.\n",
    "\n"
   ]
  },
  {
   "cell_type": "code",
   "execution_count": 1,
   "metadata": {},
   "outputs": [],
   "source": [
    "# Imported Packages\n",
    "import pandas as pd\n",
    "import numpy as np"
   ]
  },
  {
   "cell_type": "code",
   "execution_count": 2,
   "metadata": {},
   "outputs": [],
   "source": [
    "# Load dataset as a dataframe using pandas\n",
    "data = pd.read_csv('Interview.csv')"
   ]
  },
  {
   "cell_type": "markdown",
   "metadata": {},
   "source": [
    "Let's take a quick look around the dataset so we can see what we're working with:"
   ]
  },
  {
   "cell_type": "code",
   "execution_count": 3,
   "metadata": {},
   "outputs": [
    {
     "name": "stdout",
     "output_type": "stream",
     "text": [
      "<class 'pandas.core.frame.DataFrame'>\n",
      "RangeIndex: 1234 entries, 0 to 1233\n",
      "Data columns (total 28 columns):\n",
      "Date of Interview                                                                                     1233 non-null object\n",
      "Client name                                                                                           1234 non-null object\n",
      "Industry                                                                                              1233 non-null object\n",
      "Location                                                                                              1233 non-null object\n",
      "Position to be closed                                                                                 1233 non-null object\n",
      "Nature of Skillset                                                                                    1233 non-null object\n",
      "Interview Type                                                                                        1233 non-null object\n",
      "Name(Cand ID)                                                                                         1233 non-null object\n",
      "Gender                                                                                                1233 non-null object\n",
      "Candidate Current Location                                                                            1233 non-null object\n",
      "Candidate Job Location                                                                                1233 non-null object\n",
      "Interview Venue                                                                                       1233 non-null object\n",
      "Candidate Native location                                                                             1233 non-null object\n",
      "Have you obtained the necessary permission to start at the required time                              1029 non-null object\n",
      "Hope there will be no unscheduled meetings                                                            986 non-null object\n",
      "Can I Call you three hours before the interview and follow up on your attendance for the interview    986 non-null object\n",
      "Can I have an alternative number/ desk number. I assure you that I will not trouble you too much      986 non-null object\n",
      "Have you taken a printout of your updated resume. Have you read the JD and understood the same        985 non-null object\n",
      "Are you clear with the venue details and the landmark.                                                985 non-null object\n",
      "Has the call letter been shared                                                                       988 non-null object\n",
      "Expected Attendance                                                                                   1228 non-null object\n",
      "Observed Attendance                                                                                   1233 non-null object\n",
      "Marital Status                                                                                        1233 non-null object\n",
      "Unnamed: 23                                                                                           0 non-null float64\n",
      "Unnamed: 24                                                                                           0 non-null float64\n",
      "Unnamed: 25                                                                                           0 non-null float64\n",
      "Unnamed: 26                                                                                           0 non-null float64\n",
      "Unnamed: 27                                                                                           0 non-null float64\n",
      "dtypes: float64(5), object(23)\n",
      "memory usage: 270.0+ KB\n"
     ]
    }
   ],
   "source": [
    "data.info()"
   ]
  },
  {
   "cell_type": "markdown",
   "metadata": {},
   "source": [
    "Here we can see the different variables contained within the dataset. Of particular interest are:\n",
    "* **Date of interview:** This will be broken down into a month variable and a day of the week variable to explore if time of the year or day of the week has any effect on interview attendance.\n",
    "* **Industry:** To see if particular industries are more attractive than others resulting in a higher interview attendance rate.\n",
    "* **Location:** This appears to be candidate location. This value is equivalient to the variable 'Candidate Current Location'. Candidate location might have some effect on a candidate's ability to show up to an interview.\n",
    "* **Position to be closed:**\n",
    "* **Nature of skillset:**\n",
    "* **Interview Type:**\n",
    "* **Gender:**\n",
    "* **Candidate Job Location:**\n",
    "* "
   ]
  },
  {
   "cell_type": "code",
   "execution_count": 15,
   "metadata": {},
   "outputs": [],
   "source": [
    "# for i in np.where(data['Location'] == data['Candidate Current Location'], 1, 0)"
   ]
  },
  {
   "cell_type": "code",
   "execution_count": 17,
   "metadata": {},
   "outputs": [
    {
     "data": {
      "text/html": [
       "<div>\n",
       "<table border=\"1\" class=\"dataframe\">\n",
       "  <thead>\n",
       "    <tr style=\"text-align: right;\">\n",
       "      <th></th>\n",
       "      <th>Date of Interview</th>\n",
       "      <th>Client name</th>\n",
       "      <th>Industry</th>\n",
       "      <th>Location</th>\n",
       "      <th>Position to be closed</th>\n",
       "      <th>Nature of Skillset</th>\n",
       "      <th>Interview Type</th>\n",
       "      <th>Name(Cand ID)</th>\n",
       "      <th>Gender</th>\n",
       "      <th>Candidate Current Location</th>\n",
       "      <th>...</th>\n",
       "      <th>Are you clear with the venue details and the landmark.</th>\n",
       "      <th>Has the call letter been shared</th>\n",
       "      <th>Expected Attendance</th>\n",
       "      <th>Observed Attendance</th>\n",
       "      <th>Marital Status</th>\n",
       "      <th>Unnamed: 23</th>\n",
       "      <th>Unnamed: 24</th>\n",
       "      <th>Unnamed: 25</th>\n",
       "      <th>Unnamed: 26</th>\n",
       "      <th>Unnamed: 27</th>\n",
       "    </tr>\n",
       "  </thead>\n",
       "  <tbody>\n",
       "    <tr>\n",
       "      <th>1233</th>\n",
       "      <td>NaN</td>\n",
       "      <td>﻿﻿</td>\n",
       "      <td>NaN</td>\n",
       "      <td>NaN</td>\n",
       "      <td>NaN</td>\n",
       "      <td>NaN</td>\n",
       "      <td>NaN</td>\n",
       "      <td>NaN</td>\n",
       "      <td>NaN</td>\n",
       "      <td>NaN</td>\n",
       "      <td>...</td>\n",
       "      <td>NaN</td>\n",
       "      <td>NaN</td>\n",
       "      <td>NaN</td>\n",
       "      <td>NaN</td>\n",
       "      <td>NaN</td>\n",
       "      <td>NaN</td>\n",
       "      <td>NaN</td>\n",
       "      <td>NaN</td>\n",
       "      <td>NaN</td>\n",
       "      <td>NaN</td>\n",
       "    </tr>\n",
       "  </tbody>\n",
       "</table>\n",
       "<p>1 rows × 28 columns</p>\n",
       "</div>"
      ],
      "text/plain": [
       "     Date of Interview Client name Industry Location Position to be closed  \\\n",
       "1233               NaN          ﻿﻿      NaN      NaN                   NaN   \n",
       "\n",
       "     Nature of Skillset Interview Type Name(Cand ID) Gender  \\\n",
       "1233                NaN            NaN           NaN    NaN   \n",
       "\n",
       "     Candidate Current Location     ...      \\\n",
       "1233                        NaN     ...       \n",
       "\n",
       "     Are you clear with the venue details and the landmark.  \\\n",
       "1233                                                NaN       \n",
       "\n",
       "     Has the call letter been shared Expected Attendance Observed Attendance  \\\n",
       "1233                             NaN                 NaN                 NaN   \n",
       "\n",
       "     Marital Status Unnamed: 23 Unnamed: 24 Unnamed: 25 Unnamed: 26  \\\n",
       "1233            NaN         NaN         NaN         NaN         NaN   \n",
       "\n",
       "     Unnamed: 27  \n",
       "1233         NaN  \n",
       "\n",
       "[1 rows x 28 columns]"
      ]
     },
     "execution_count": 17,
     "metadata": {},
     "output_type": "execute_result"
    }
   ],
   "source": [
    "data[-1:]"
   ]
  },
  {
   "cell_type": "code",
   "execution_count": null,
   "metadata": {},
   "outputs": [],
   "source": []
  }
 ],
 "metadata": {
  "kernelspec": {
   "display_name": "Python 3",
   "language": "python",
   "name": "python3"
  },
  "language_info": {
   "codemirror_mode": {
    "name": "ipython",
    "version": 3
   },
   "file_extension": ".py",
   "mimetype": "text/x-python",
   "name": "python",
   "nbconvert_exporter": "python",
   "pygments_lexer": "ipython3",
   "version": "3.6.4"
  }
 },
 "nbformat": 4,
 "nbformat_minor": 2
}
