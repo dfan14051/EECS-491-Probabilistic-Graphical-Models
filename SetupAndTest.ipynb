{
 "cells": [
  {
   "cell_type": "markdown",
   "metadata": {},
   "source": [
    "# Environment Setup and Test Case"
   ]
  },
  {
   "cell_type": "markdown",
   "metadata": {},
   "source": [
    "This file is organized in steps, which you can follow to setup environment for **python** with **Jupyter**. After finished all the steps you should be able to create notebooks, play with your code in it, and commit your updates to the **CSEVCS** server. This is a workflow we think will benefit you not only in this course but also in your other tasks."
   ]
  },
  {
   "cell_type": "markdown",
   "metadata": {},
   "source": [
    "## STEP 0 : Activate CSEVCS Account"
   ]
  },
  {
   "cell_type": "markdown",
   "metadata": {},
   "source": [
    "This step is very easy, however, very important. We cannot put you in the course's project on **CSEVCS** before you login at least once. So, login on [**CSEVCS**](https://csevcs.case.edu) with you **case id** as soon as possible. It only take a few seconds."
   ]
  },
  {
   "cell_type": "markdown",
   "metadata": {},
   "source": [
    "## STEP 1 : Install Python and Jupyter"
   ]
  },
  {
   "cell_type": "markdown",
   "metadata": {},
   "source": [
    "This is a complex environment related to a lot of packages. So it is not wise to install all the depedencies manually. As on Jupyter's [official webpage](http://jupyter.org/install) The simplest way to do it at once is through [**Anaconda**](https://www.anaconda.com/downloads). Download and install it would give a complete python environment, including **Jupyter** and all depedencies. But if you already have python installed and don't want multiple versions in you system. You can install **Jupyter** through **pip/pip3** with one command:\n",
    "\n",
    "```bash\n",
    ">> pip3 install jupyter\n",
    "```"
   ]
  },
  {
   "cell_type": "markdown",
   "metadata": {},
   "source": [
    "# STEP 2 : Launch Jupyter Notebook"
   ]
  },
  {
   "cell_type": "markdown",
   "metadata": {},
   "source": [
    "Run **Jupyter** is as simple as one command in you shell (or PowerShell in Windows):\n",
    "\n",
    "```bash\n",
    ">> jupyter notebook\n",
    "```\n",
    "\n",
    "One thing to be notice here is you have to put **jupyter** excutive (**jupyter.exe** in windows) under your search path (environment variable **PATH**). Normally, this would be done automatically. According to your system's condition it maybe a problem.\n",
    "\n",
    "Then you would see an interface as following:\n",
    "\n",
    "![JupyterInterface.png](img/JupyterInterface.png)\n",
    "\n",
    "It works like a file explorer (a significantly weak one). The default folder is the path in your shell when you run the command above to launch **Jupyter**. Now, you can use button **New** at up-right corner to create new notebook with specified kernel (we use **python** here).\n",
    "\n",
    "After you created a new notebook or opened this notebook, you will see a interface close to an editor. But is composed by cells. Usually, we use two types of them : **Markdown** and **code**. **Markdown** shell support both **Markdown** gramma ([reference](https://github.com/adam-p/markdown-here/wiki/Markdown-Cheatsheet)) and **LaTeX** for math formula ([reference](https://en.wikibooks.org/wiki/LaTeX/Mathematics)) between symbol pair '$'. For example,\n",
    "\n",
    "```\n",
    "$E = m C^2$\n",
    "``` \n",
    "\n",
    "would be interpreted as $E = m C^2$. After your editing, you can press [SHIFT + ENTER] to *run* the cell. In the case of **markdown**, it would show the preview of this cell; while, **code** cell would be excuted in current workspace. Double click on the preview of **markdown** cell lead to editing mode of it.\n",
    "\n",
    "**Jupyter** also support keyboard shortcut. It calls it **command mode**. You enter the **command mode** by press [ESC] in editing mode. Commands supported in keyboard shortcut you can find in the help when you press [h] in **command mode**."
   ]
  },
  {
   "cell_type": "markdown",
   "metadata": {},
   "source": [
    "## STEP 3 : Run the Test Case"
   ]
  },
  {
   "cell_type": "markdown",
   "metadata": {},
   "source": [
    "Now we'll run some simple python code to test your environment. Our task to draw a PDF (probability density function) curve for Gaussian distribution.\n",
    "\n",
    "At first you need to install package 'numpy' and 'matplotlib' for your python. This two are very helpful in the future. You can do it through **pip/pip3**, which is the simplest way.\n",
    "\n",
    "```\n",
    ">> pip3 install numpy matplotlib\n",
    "```\n",
    "\n",
    "To test whether or not you have successfully install them, you can run following cell by pressing [SHIFT + ENTER] in following cell:"
   ]
  },
  {
   "cell_type": "code",
   "execution_count": 1,
   "metadata": {},
   "outputs": [
    {
     "name": "stderr",
     "output_type": "stream",
     "text": [
      "/Users/david/anaconda3/lib/python3.6/site-packages/matplotlib/font_manager.py:280: UserWarning: Matplotlib is building the font cache using fc-list. This may take a moment.\n",
      "  'Matplotlib is building the font cache using fc-list. '\n"
     ]
    }
   ],
   "source": [
    "import numpy as np\n",
    "import matplotlib.pyplot as plt"
   ]
  },
  {
   "cell_type": "markdown",
   "metadata": {},
   "source": [
    "If there is no error message showed up, you are good. Then we create a function to calculate probability density of Gaussian distribution with given paramters according to its mathematical definition:\n",
    "\n",
    "$ f(x, \\mu, \\sigma) = \\dfrac{1}{\\sqrt{2 \\pi \\sigma^2}} e^{-\\frac{(x - \\mu)^2}{2 \\sigma^2}} $"
   ]
  },
  {
   "cell_type": "code",
   "execution_count": 2,
   "metadata": {
    "collapsed": true
   },
   "outputs": [],
   "source": [
    "def gausspdf(x, mu, sigma):\n",
    "    return np.exp(-(x - mu)**2 / (2 * sigma**2)) / np.sqrt(2 * np.pi * sigma**2)"
   ]
  },
  {
   "cell_type": "markdown",
   "metadata": {},
   "source": [
    "Run above shell, function **gaussdef** is defined in our workspace. Then, we can call it to calculate PDF of gaussian in other cells. A good practice is to setup parameter in a separate cell that you can modify it easily later. In our case, there are only two parameters : $\\mu$ (*mu*) and $\\sigma$ (*sigma*)."
   ]
  },
  {
   "cell_type": "code",
   "execution_count": 7,
   "metadata": {
    "collapsed": true
   },
   "outputs": [],
   "source": [
    "mu    = 4 # mean of distribution\n",
    "sigma = 3 # standard variance of distribution\n",
    "pltrg = 3 # plot range"
   ]
  },
  {
   "cell_type": "markdown",
   "metadata": {},
   "source": [
    "By default, you plot a standard gaussian distribution $\\mathit{N}(0,1)$ in range of $[-3, 3]$."
   ]
  },
  {
   "cell_type": "code",
   "execution_count": 8,
   "metadata": {},
   "outputs": [
    {
     "data": {
      "image/png": "[encoded data removed]",
      "text/plain": [
       "<matplotlib.figure.Figure at 0x115b12940>"
      ]
     },
     "metadata": {},
     "output_type": "display_data"
    }
   ],
   "source": [
    "# creata x domain as an array in numpy (100 points)\n",
    "x = np.linspace(mu - pltrg, mu + pltrg, 100)\n",
    "# draw plot through package MATPLOTLIB, which close to gramma in MATLAB\n",
    "plt.plot(x, gausspdf(x, mu, sigma))\n",
    "plt.grid()\n",
    "plt.show()"
   ]
  },
  {
   "cell_type": "markdown",
   "metadata": {},
   "source": [
    "## STEP 4 : Play Around"
   ]
  },
  {
   "cell_type": "markdown",
   "metadata": {},
   "source": [
    "The simplest thing you can try is modifying parameters in above section and run the parameter setup cell and plot cell again to see the difference. One thing to be noticed is the number on the left side of your **code** cell means its running order in time. In another word, you can run cells in a different order to their position in the notebook. This is a helpful feature, when you have multiple settings or algorithms in your experiment. \n",
    "\n",
    "Other than that you can try more interesting things as you like, such as drawing other distributions."
   ]
  },
  {
   "cell_type": "markdown",
   "metadata": {},
   "source": [
    "## STEP 5 : Commit Notebook with Git"
   ]
  },
  {
   "cell_type": "markdown",
   "metadata": {},
   "source": [
    "Currently, I made enough progress for this project. It is a good time to commit a versiom to our **csevcs** server. We'll do this through Git, a free popular software for version control. If you haven't got used to it, there is a very good interactive tutorial on [GitHub](https://try.github.io/levels/1/challenges/1) can help you get basic idea of how it works. Besides, you can find [reference](https://git-scm.com/docs) online.\n",
    "\n",
    "Here, I'll show a basic workflow to submit your notebook to our **csevcs** server."
   ]
  },
  {
   "cell_type": "code",
   "execution_count": 1,
   "metadata": {
    "collapsed": true
   },
   "outputs": [],
   "source": [
    "import subprocess\n",
    "\n",
    "def shcmd(cmd):\n",
    "    print(subprocess.check_output(cmd, shell=True).decode('utf-8'))"
   ]
  },
  {
   "cell_type": "markdown",
   "metadata": {},
   "source": [
    "Here, I use package *subprocess* and a self-defined function *shcmd* to run shell command inside the notebook. However, we normally run these command in your system's shell. The only difference is you only need statement between quotes (or double quotes) in shell.\n",
    "\n",
    "The main idea of function *shcmd* above is to run a command in a sub-routine and collect its output in standard output in shell environment.\n",
    "\n",
    "At very beginning, let's test *shcmd* with a simple command *ls*, which list file structure of current folder."
   ]
  },
  {
   "cell_type": "code",
   "execution_count": 14,
   "metadata": {
    "scrolled": true
   },
   "outputs": [
    {
     "name": "stdout",
     "output_type": "stream",
     "text": [
      "total 64\n",
      "drwxr-xr-x@ 4 MooGu  staff    136 Jan 22 21:28 .\n",
      "drwxr-xr-x@ 7 MooGu  staff    238 Jan 22 18:08 ..\n",
      "-rw-r--r--@ 1 MooGu  staff  30270 Jan 22 21:26 SetupAndTest.ipynb\n",
      "drwxr-xr-x@ 5 MooGu  staff    170 Jan 22 21:10 img\n",
      "\n"
     ]
    }
   ],
   "source": [
    "shcmd('ls -la')"
   ]
  },
  {
   "cell_type": "markdown",
   "metadata": {},
   "source": [
    "In my condition, there is only one notebook and a folder named 'img' containing images needed for this notebook. If you run last cell in you system may get a different result.\n",
    "\n",
    "Now, we should at first initialize a local git repository. It can be easily done by command '*git init*'."
   ]
  },
  {
   "cell_type": "code",
   "execution_count": 15,
   "metadata": {},
   "outputs": [
    {
     "name": "stdout",
     "output_type": "stream",
     "text": [
      "Initialized empty Git repository in /Users/MooGu/Dropbox/Course/201801-AI Graph Method (EECS 491)/repo/.git/\n",
      "\n"
     ]
    }
   ],
   "source": [
    "shcmd('git init')"
   ]
  },
  {
   "cell_type": "markdown",
   "metadata": {},
   "source": [
    "If succeed, you would see an information about repository's location in your system. But, currently, the git just initialized an empty repository. You need following commands to let it keeps track of all the files in current folder now, and makes a commitment."
   ]
  },
  {
   "cell_type": "code",
   "execution_count": 16,
   "metadata": {
    "scrolled": true
   },
   "outputs": [
    {
     "name": "stdout",
     "output_type": "stream",
     "text": [
      "\n",
      "[master (root-commit) e9fbe50] initial commit\n",
      " 4 files changed, 425 insertions(+)\n",
      " create mode 100644 SetupAndTest.ipynb\n",
      " create mode 100644 img/JupyterInterface.png\n",
      " create mode 100644 img/RepoAfterSubmit.png\n",
      " create mode 100644 img/RepoBeforeSubmit.png\n",
      "\n"
     ]
    }
   ],
   "source": [
    "shcmd('git add *')\n",
    "shcmd(\"git commit --all -m 'initial commit'\")"
   ]
  },
  {
   "cell_type": "markdown",
   "metadata": {},
   "source": [
    "Now, you have done the part in local side. We need to deal with the remote part in following cells. They basically separate into three steps :\n",
    "\n",
    "1. find the url of your project repository on **csevcs**\n",
    "2. add url as a 'remote' in local git repository\n",
    "3. submit your latest commitment to remote by 'git push' command\n",
    "\n",
    "For the first step, you need to login your accond on [csevcs](https://csevcs.case.edu/). And check a project named in pattern 'EECS 491 - [YOUR NAME]'. Get into it and turn to tab named 'Repository'. In my case, I get a page as following:\n",
    "\n",
    "![RepoBeforeSubmit](img/RepoBeforeSubmit.png)\n",
    "\n",
    "You can find you repository id in the website address. It the string between 'projects' and 'repository'. In my case, it's 'hzhu491'. I made them normally in a pattern of initial letters of first and middle names, last name, and '491', our course code. In rare cases, you have a very long last name, I also make a truncate of it.\n",
    "\n",
    "The second step is done locally. We need to setup a 'remote', which is an url in git that indicate where you want your repositive sync with online. Here we need command 'git remote add'."
   ]
  },
  {
   "cell_type": "code",
   "execution_count": 17,
   "metadata": {
    "scrolled": true
   },
   "outputs": [
    {
     "name": "stdout",
     "output_type": "stream",
     "text": [
      "\n"
     ]
    }
   ],
   "source": [
    "shcmd('git remote add origin https://csevcs.case.edu/git/hzhu491')"
   ]
  },
  {
   "cell_type": "markdown",
   "metadata": {},
   "source": [
    "Above command says adding a remote named 'origin' and associate it with the url 'https://csevcs.case.edu/git/hzhu491'. The url here should different corresponding to your own repository id obtained above. If succeed, there is no text feed back. Otherwise, you'll get a long error mssage.\n",
    "\n",
    "You can list all the remotes in the local repository by 'git remote'."
   ]
  },
  {
   "cell_type": "code",
   "execution_count": 18,
   "metadata": {},
   "outputs": [
    {
     "name": "stdout",
     "output_type": "stream",
     "text": [
      "origin\n",
      "\n"
     ]
    }
   ],
   "source": [
    "shcmd('git remote')"
   ]
  },
  {
   "cell_type": "markdown",
   "metadata": {},
   "source": [
    "Currently, it should show 'origin' only. Then, we come to the last step that submit your code to *csevcs* server. It can be complete by command 'git push'. If you encounter error in this process, it may need you enter *case id* and *password* in the process at the first time. In this case, you need to run this command in shell before you can run it through python API."
   ]
  },
  {
   "cell_type": "code",
   "execution_count": 19,
   "metadata": {
    "scrolled": true
   },
   "outputs": [
    {
     "name": "stdout",
     "output_type": "stream",
     "text": [
      "Counting objects: 5, done.\n",
      "Delta compression using up to 12 threads.\n",
      "Compressing objects: 100% (5/5), done.\n",
      "Writing objects: 100% (5/5), 197.54 KiB | 0 bytes/s, done.\n",
      "Total 5 (delta 1), reused 0 (delta 0)\n",
      "To https://csevcs.case.edu/git/hzhu491\n",
      "   893bb87  master -> master\n",
      "\n"
     ]
    }
   ],
   "source": [
    "shcmd('git push origin master')"
   ]
  },
  {
   "cell_type": "markdown",
   "metadata": {},
   "source": [
    "Congratulations, you have made your first submission! Check your repository online, you should found your submission now. My page looks like:\n",
    "\n",
    "![RepoAfterSubmit](img/RepoAfterSubmit.png)"
   ]
  }
 ],
 "metadata": {
  "kernelspec": {
   "display_name": "Python 3",
   "language": "python",
   "name": "python3"
  },
  "language_info": {
   "codemirror_mode": {
    "name": "ipython",
    "version": 3
   },
   "file_extension": ".py",
   "mimetype": "text/x-python",
   "name": "python",
   "nbconvert_exporter": "python",
   "pygments_lexer": "ipython3",
   "version": "3.6.3"
  }
 },
 "nbformat": 4,
 "nbformat_minor": 2
}
