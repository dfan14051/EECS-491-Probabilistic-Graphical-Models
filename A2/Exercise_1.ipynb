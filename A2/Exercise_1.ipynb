{
 "cells": [
  {
   "cell_type": "markdown",
   "metadata": {},
   "source": [
    "# EECS 491: Probabilistic Graphical Models Assignment 1\n",
    "**David Fan**\n",
    "\n",
    "2/28/18\n",
    "\n",
    "# Exercise 1"
   ]
  },
  {
   "cell_type": "markdown",
   "metadata": {},
   "source": [
    "Let us say that we are interested in being able to determine whether or not I will be late for class ($L$) and whether a classmate will be late for class ($C$). Whether or not I will be late for class is effected by two things:\n",
    "* If I oversleep ($O$)\n",
    "* If the bus is late ($B$)\n",
    "\n",
    "The bus being late also impacts whether or not a classmate will be late for class. Whether or not I oversleep is effected by whether or not my alarm goes off ($A$).\n",
    "\n",
    "From experience I have a prior belief that my alarm will go off with probability .96. I have a prior belief that given that my alarm goes off, I will oversleep with probability .08, and if my alarm doesn't go off, I will oversleep with probability .98. I also have a prior belief that my oversleeping does not have any effect on whether my classmate is late for class.\n",
    "\n",
    "Also from my experience, I have a prior belief that the bus will be late ($B$) with probability .2. I estimate that if the bus is late and I oversleep, I will be late with probability .96. If the bus is late and I don't oversleep, I will be late with probability .78. If the bus isn't late and I oversleep, I'll be late with probability .8. If the bus isn't late and I don't oversleep, I'll be late with probability .03. If the bus is late, I estimate that my classmate will be late with probability .8. If the bus isn't late, I estimate that my classmate will be late with probability .1 These probabilities are summarized in the tables below:\n",
    "\n",
    "$$\n",
    "\\begin{align}\n",
    "P(A) & = 0.96\\\\\n",
    "P(B) & = .2\n",
    "\\end{align}\n",
    "$$\n",
    "\n",
    "|           | A = false | A = true |\n",
    "| :--------- | -------------------- | ------------------- |\n",
    "| O = false | 0.02 | 0.92 |\n",
    "| O = true  | 0.98 | 0.08 |\n",
    "\n",
    "|           | B = false, O = false | B = false, O = true | B = true, O = false | B = true, O = true |\n",
    "| :--------- | -------------------- | ------------------- | ------------------- | ------------------ |\n",
    "| L = false | 0.97 | 0.2 | 0.22 | 0.04 |\n",
    "| L = true  | 0.03 | 0.8 | 0.78 | 0.96 |\n",
    "\n",
    "|           | B = false | B = true |\n",
    "| :--------- | -------------------- | ------------------- |\n",
    "| C = false | 0.9 | 0.2 |\n",
    "| C = true  | 0.1 | 0.8 |"
   ]
  },
  {
   "cell_type": "code",
   "execution_count": 1,
   "metadata": {},
   "outputs": [],
   "source": [
    "from pgmpy.models import BayesianModel as bysmodel\n",
    "from pgmpy.factors.discrete import TabularCPD as tcpd"
   ]
  },
  {
   "cell_type": "code",
   "execution_count": 3,
   "metadata": {},
   "outputs": [],
   "source": [
    "model = bysmodel([['A','O'],['O','L'],['B','L'],['B','C']])"
   ]
  },
  {
   "cell_type": "code",
   "execution_count": 5,
   "metadata": {},
   "outputs": [],
   "source": [
    "priorA = tcpd(variable='A', variable_card=2, values=[[0.04, 0.96]])\n",
    "priorB = tcpd(variable='B', variable_card=2, values=[[.8,.2]])"
   ]
  },
  {
   "cell_type": "code",
   "execution_count": null,
   "metadata": {},
   "outputs": [],
   "source": [
    "cpdO = tcpd(variable='O', variable_card=2, \n",
    "            evidence=['A'], evidence_card=[2],\n",
    "            values=[[0.7, 0.8], \n",
    "                    [0.3, 0.2]]\n",
    "           )"
   ]
  }
 ],
 "metadata": {
  "kernelspec": {
   "display_name": "Python 3",
   "language": "python",
   "name": "python3"
  },
  "language_info": {
   "codemirror_mode": {
    "name": "ipython",
    "version": 3
   },
   "file_extension": ".py",
   "mimetype": "text/x-python",
   "name": "python",
   "nbconvert_exporter": "python",
   "pygments_lexer": "ipython3",
   "version": "3.6.4"
  }
 },
 "nbformat": 4,
 "nbformat_minor": 2
}
